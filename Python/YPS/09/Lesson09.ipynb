{
 "cells": [
  {
   "cell_type": "markdown",
   "metadata": {},
   "source": [
    "<h3>Sample1.py</h3>"
   ]
  },
  {
   "cell_type": "code",
   "execution_count": 1,
   "metadata": {},
   "outputs": [
    {
     "name": "stdout",
     "output_type": "stream",
     "text": [
      "文字列を入力してください。Hello\n",
      "文字列は Hello です。\n",
      "0番目の文字は H です。\n",
      "文字列を逆順にすると olleH です。\n",
      "文字列の長さは 5 です。\n"
     ]
    }
   ],
   "source": [
    "str = input(\"文字列を入力してください。\")\n",
    "\n",
    "print(\"文字列は\", str, \"です。\")\n",
    "print(\"0番目の文字は\", str[0], \"です。\")\n",
    "print(\"文字列を逆順にすると\", str[::-1], \"です。\")\n",
    "print(\"文字列の長さは\", len(str), \"です。\")\n"
   ]
  },
  {
   "cell_type": "markdown",
   "metadata": {},
   "source": [
    "<h3>Sample2.py</h3>"
   ]
  },
  {
   "cell_type": "code",
   "execution_count": 2,
   "metadata": {},
   "outputs": [
    {
     "name": "stdout",
     "output_type": "stream",
     "text": [
      "文字列を入力してください。Hello\n",
      "文字列は Hello です。\n",
      "大文字にすると HELLO です。\n",
      "小文字にすると hello です。\n"
     ]
    }
   ],
   "source": [
    "str = input(\"文字列を入力してください。\")\n",
    "\n",
    "print(\"文字列は\", str, \"です。\")\n",
    "print(\"大文字にすると\", str.upper(), \"です。\")\n",
    "print(\"小文字にすると\", str.lower(), \"です。\")\n"
   ]
  },
  {
   "cell_type": "markdown",
   "metadata": {},
   "source": [
    "<h3>Sample3.py</h3>"
   ]
  },
  {
   "cell_type": "code",
   "execution_count": 3,
   "metadata": {},
   "outputs": [
    {
     "name": "stdout",
     "output_type": "stream",
     "text": [
      "1つ目の単語を入力してください。apple\n",
      "2つ目の単語を入力してください。orange\n",
      "3つ目の単語を入力してください。banana\n",
      "appleはorangebananaです。bananaです。\n",
      "個数を入力してください。1\n",
      "金額を入力してください。2\n",
      "1個         2円\n"
     ]
    }
   ],
   "source": [
    "word0 = input(\"1つ目の単語を入力してください。\")\n",
    "word1 = input(\"2つ目の単語を入力してください。\")\n",
    "word2 = input(\"3つ目の単語を入力してください。\")\n",
    "\n",
    "print(\"{0}は{1}{2}です。{2}です。\".format(word0, word1, word2))\n",
    "\n",
    "num0 = int(input(\"個数を入力してください。\"))\n",
    "num1 = int(input(\"金額を入力してください。\"))\n",
    "\n",
    "print(\"{0:<}個{1:>10,}円\".format(num0, num1))\n"
   ]
  },
  {
   "cell_type": "markdown",
   "metadata": {},
   "source": [
    "<h3>Sample4.py</h3>"
   ]
  },
  {
   "cell_type": "code",
   "execution_count": 4,
   "metadata": {},
   "outputs": [
    {
     "name": "stdout",
     "output_type": "stream",
     "text": [
      "文字列を入力してください。the quick brown fox\n",
      "検索する文字列を入力してくださいfox\n",
      "the quick brown fox の 16 の位置に fox がみつかりました。\n"
     ]
    }
   ],
   "source": [
    "str = input(\"文字列を入力してください。\")\n",
    "key = input(\"検索する文字列を入力してください\")\n",
    "\n",
    "res = str.find(key)\n",
    "\n",
    "if res != -1:\n",
    "    print(str, \"の\", res, \"の位置に\", key, \"がみつかりました。\")\n",
    "else:\n",
    "    print(str,  \"の中に\", key, \"がみつかりませんでした。\")\n"
   ]
  },
  {
   "cell_type": "markdown",
   "metadata": {},
   "source": [
    "<h3>Sample5.py</h3>"
   ]
  },
  {
   "cell_type": "code",
   "execution_count": 5,
   "metadata": {},
   "outputs": [
    {
     "name": "stdout",
     "output_type": "stream",
     "text": [
      "文字列を入力してください。quick brown fox\n",
      "置換される文字列を入力してください。fox\n",
      "置換する文字列を入力してください。dog\n",
      "quick brown dog に置換しました。\n"
     ]
    }
   ],
   "source": [
    "str1 = input(\"文字列を入力してください。\")\n",
    "old = input(\"置換される文字列を入力してください。\")\n",
    "new = input(\"置換する文字列を入力してください。\")\n",
    "\n",
    "if old in str1:\n",
    "    str2 = str1.replace(old, new)\n",
    "    print(str2, \"に置換しました。\")\n",
    "else:\n",
    "    print(str1 + \"の中に\" + old + \"がみつかりませんでした。\")\n"
   ]
  },
  {
   "cell_type": "markdown",
   "metadata": {},
   "source": [
    "<h3>Sample6.py</h3>"
   ]
  },
  {
   "cell_type": "code",
   "execution_count": 6,
   "metadata": {},
   "outputs": [
    {
     "name": "stdout",
     "output_type": "stream",
     "text": [
      "------\n",
      "（パターン）Apple（文字列）Hello（マッチ）×\n",
      "（パターン）Apple（文字列）GoodBye（マッチ）×\n",
      "（パターン）Apple（文字列）Thankyou（マッチ）×\n",
      "------\n",
      "（パターン）GoodBye（文字列）Hello（マッチ）×\n",
      "（パターン）GoodBye（文字列）GoodBye（マッチ）〇\n",
      "（パターン）GoodBye（文字列）Thankyou（マッチ）×\n",
      "------\n",
      "（パターン）Thankyou（文字列）Hello（マッチ）×\n",
      "（パターン）Thankyou（文字列）GoodBye（マッチ）×\n",
      "（パターン）Thankyou（文字列）Thankyou（マッチ）〇\n"
     ]
    }
   ],
   "source": [
    "import re\n",
    "\n",
    "ptr = [\"Apple\", \"GoodBye\", \"Thankyou\"]\n",
    "str = [\"Hello\", \"GoodBye\", \"Thankyou\"]\n",
    "\n",
    "for valueptr in ptr:\n",
    "    print(\"------\")\n",
    "    pattern = re.compile(valueptr)\n",
    "    for valuestr in str:\n",
    "        res = pattern.search(valuestr)\n",
    "        if res is not None:\n",
    "            m = \"〇\"\n",
    "        else:\n",
    "            m = \"×\"\n",
    "        msg = \"（パターン）\" + valueptr + \"（文字列）\" + valuestr + \"（マッチ）\" + m\n",
    "        print(msg)\n"
   ]
  },
  {
   "cell_type": "markdown",
   "metadata": {},
   "source": [
    "<h3>Sample7.py</h3>"
   ]
  },
  {
   "cell_type": "code",
   "execution_count": 7,
   "metadata": {},
   "outputs": [
    {
     "name": "stdout",
     "output_type": "stream",
     "text": [
      "------\n",
      "（パターン）TXT（文字列）TXT（マッチ）〇\n",
      "（パターン）TXT（文字列）TXTT（マッチ）〇\n",
      "（パターン）TXT（文字列）TXTTT（マッチ）〇\n",
      "（パターン）TXT（文字列）TTXT（マッチ）〇\n",
      "------\n",
      "（パターン）^TXT（文字列）TXT（マッチ）〇\n",
      "（パターン）^TXT（文字列）TXTT（マッチ）〇\n",
      "（パターン）^TXT（文字列）TXTTT（マッチ）〇\n",
      "（パターン）^TXT（文字列）TTXT（マッチ）×\n",
      "------\n",
      "（パターン）TXT$（文字列）TXT（マッチ）〇\n",
      "（パターン）TXT$（文字列）TXTT（マッチ）×\n",
      "（パターン）TXT$（文字列）TXTTT（マッチ）×\n",
      "（パターン）TXT$（文字列）TTXT（マッチ）〇\n",
      "------\n",
      "（パターン）^TXT$（文字列）TXT（マッチ）〇\n",
      "（パターン）^TXT$（文字列）TXTT（マッチ）×\n",
      "（パターン）^TXT$（文字列）TXTTT（マッチ）×\n",
      "（パターン）^TXT$（文字列）TTXT（マッチ）×\n"
     ]
    }
   ],
   "source": [
    "import re\n",
    "\n",
    "ptr = [\"TXT\", \"^TXT\", \"TXT$\", \"^TXT$\"]\n",
    "str = [\"TXT\", \"TXTT\", \"TXTTT\", \"TTXT\"]\n",
    "\n",
    "for valueptr in ptr:\n",
    "    print(\"------\")\n",
    "    pattern = re.compile(valueptr)\n",
    "    for valuestr in str:\n",
    "        res = pattern.search(valuestr)\n",
    "        if res is not None:\n",
    "            m = \"〇\"\n",
    "        else:\n",
    "            m = \"×\"\n",
    "        msg = \"（パターン）\" + valueptr + \"（文字列）\" + valuestr + \"（マッチ）\" + m\n",
    "        print(msg)\n"
   ]
  },
  {
   "cell_type": "markdown",
   "metadata": {},
   "source": [
    "<h3>Sample8.py</h3>"
   ]
  },
  {
   "cell_type": "code",
   "execution_count": 8,
   "metadata": {},
   "outputs": [
    {
     "name": "stdout",
     "output_type": "stream",
     "text": [
      "------\n",
      "（パターン）TXT.（文字列）TXT（マッチ）×\n",
      "（パターン）TXT.（文字列）TXTT（マッチ）〇\n",
      "（パターン）TXT.（文字列）TXTTT（マッチ）〇\n",
      "（パターン）TXT.（文字列）TTXT（マッチ）×\n",
      "（パターン）TXT.（文字列）TTTXT（マッチ）×\n",
      "------\n",
      "（パターン）TXT..（文字列）TXT（マッチ）×\n",
      "（パターン）TXT..（文字列）TXTT（マッチ）×\n",
      "（パターン）TXT..（文字列）TXTTT（マッチ）〇\n",
      "（パターン）TXT..（文字列）TTXT（マッチ）×\n",
      "（パターン）TXT..（文字列）TTTXT（マッチ）×\n",
      "------\n",
      "（パターン）.TXT（文字列）TXT（マッチ）×\n",
      "（パターン）.TXT（文字列）TXTT（マッチ）×\n",
      "（パターン）.TXT（文字列）TXTTT（マッチ）×\n",
      "（パターン）.TXT（文字列）TTXT（マッチ）〇\n",
      "（パターン）.TXT（文字列）TTTXT（マッチ）〇\n",
      "------\n",
      "（パターン）..TXT（文字列）TXT（マッチ）×\n",
      "（パターン）..TXT（文字列）TXTT（マッチ）×\n",
      "（パターン）..TXT（文字列）TXTTT（マッチ）×\n",
      "（パターン）..TXT（文字列）TTXT（マッチ）×\n",
      "（パターン）..TXT（文字列）TTTXT（マッチ）〇\n"
     ]
    }
   ],
   "source": [
    "import re\n",
    "\n",
    "ptr = [\"TXT.\", \"TXT..\", \".TXT\", \"..TXT\"]\n",
    "str = [\"TXT\", \"TXTT\", \"TXTTT\", \"TTXT\", \"TTTXT\"]\n",
    "\n",
    "for valueptr in ptr:\n",
    "    print(\"------\")\n",
    "    pattern = re.compile(valueptr)\n",
    "    for valuestr in str:\n",
    "        res = pattern.search(valuestr)\n",
    "        if res is not None:\n",
    "            m = \"〇\"\n",
    "        else:\n",
    "            m = \"×\"\n",
    "        msg = \"（パターン）\" + valueptr + \"（文字列）\" + valuestr + \"（マッチ）\" + m\n",
    "        print(msg)\n"
   ]
  },
  {
   "cell_type": "markdown",
   "metadata": {},
   "source": [
    "<h3>Sample9.py</h3>"
   ]
  },
  {
   "cell_type": "code",
   "execution_count": 9,
   "metadata": {},
   "outputs": [
    {
     "name": "stdout",
     "output_type": "stream",
     "text": [
      "------\n",
      "（パターン）[012]（文字列）0（マッチ）〇\n",
      "（パターン）[012]（文字列）1（マッチ）〇\n",
      "（パターン）[012]（文字列）2（マッチ）〇\n",
      "（パターン）[012]（文字列）3（マッチ）×\n",
      "------\n",
      "（パターン）[0-3]（文字列）0（マッチ）〇\n",
      "（パターン）[0-3]（文字列）1（マッチ）〇\n",
      "（パターン）[0-3]（文字列）2（マッチ）〇\n",
      "（パターン）[0-3]（文字列）3（マッチ）〇\n",
      "------\n",
      "（パターン）[^012]（文字列）0（マッチ）×\n",
      "（パターン）[^012]（文字列）1（マッチ）×\n",
      "（パターン）[^012]（文字列）2（マッチ）×\n",
      "（パターン）[^012]（文字列）3（マッチ）〇\n"
     ]
    }
   ],
   "source": [
    "import re\n",
    "\n",
    "ptr = [\"[012]\", \"[0-3]\", \"[^012]\"]\n",
    "str = [\"0\", \"1\", \"2\", \"3\"]\n",
    "\n",
    "for valueptr in ptr:\n",
    "    print(\"------\")\n",
    "    pattern = re.compile(valueptr)\n",
    "    for valuestr in str:\n",
    "        res = pattern.search(valuestr)\n",
    "        if res is not None:\n",
    "            m = \"〇\"\n",
    "        else:\n",
    "            m = \"×\"\n",
    "        msg = \"（パターン）\" + valueptr + \"（文字列）\" + valuestr + \"（マッチ）\" + m\n",
    "        print(msg)\n"
   ]
  },
  {
   "cell_type": "markdown",
   "metadata": {},
   "source": [
    "<h3>Sample10.py</h3>"
   ]
  },
  {
   "cell_type": "code",
   "execution_count": 10,
   "metadata": {},
   "outputs": [
    {
     "name": "stdout",
     "output_type": "stream",
     "text": [
      "------\n",
      "（パターン）T*（文字列）X（マッチ）〇\n",
      "（パターン）T*（文字列）TT（マッチ）〇\n",
      "（パターン）T*（文字列）TTT（マッチ）〇\n",
      "（パターン）T*（文字列）TTTT（マッチ）〇\n",
      "------\n",
      "（パターン）T+（文字列）X（マッチ）×\n",
      "（パターン）T+（文字列）TT（マッチ）〇\n",
      "（パターン）T+（文字列）TTT（マッチ）〇\n",
      "（パターン）T+（文字列）TTTT（マッチ）〇\n",
      "------\n",
      "（パターン）T?（文字列）X（マッチ）〇\n",
      "（パターン）T?（文字列）TT（マッチ）〇\n",
      "（パターン）T?（文字列）TTT（マッチ）〇\n",
      "（パターン）T?（文字列）TTTT（マッチ）〇\n",
      "------\n",
      "（パターン）T{3}（文字列）X（マッチ）×\n",
      "（パターン）T{3}（文字列）TT（マッチ）×\n",
      "（パターン）T{3}（文字列）TTT（マッチ）〇\n",
      "（パターン）T{3}（文字列）TTTT（マッチ）〇\n"
     ]
    }
   ],
   "source": [
    "import re\n",
    "\n",
    "ptr = [\"T*\", \"T+\", \"T?\", \"T{3}\"]\n",
    "str = [\"X\", \"TT\", \"TTT\", \"TTTT\"]\n",
    "\n",
    "for valueptr in ptr:\n",
    "    print(\"------\")\n",
    "    pattern = re.compile(valueptr)\n",
    "    for valuestr in str:\n",
    "        res = pattern.search(valuestr)\n",
    "        if res is not None:\n",
    "            m = \"〇\"\n",
    "        else:\n",
    "            m = \"×\"\n",
    "        msg = \"（パターン）\" + valueptr + \"（文字列）\" + valuestr + \"（マッチ）\" + m\n",
    "        print(msg)\n"
   ]
  },
  {
   "cell_type": "markdown",
   "metadata": {},
   "source": [
    "<h3>Sample11.py</h3>"
   ]
  },
  {
   "cell_type": "code",
   "execution_count": 11,
   "metadata": {},
   "outputs": [
    {
     "name": "stdout",
     "output_type": "stream",
     "text": [
      "------\n",
      "（パターン）(TXT)+（文字列）TX（マッチ）×\n",
      "（パターン）(TXT)+（文字列）TXT（マッチ）〇\n",
      "（パターン）(TXT)+（文字列）XTX（マッチ）×\n",
      "（パターン）(TXT)+（文字列）TXTXT（マッチ）〇\n",
      "------\n",
      "（パターン）TXT|XTX（文字列）TX（マッチ）×\n",
      "（パターン）TXT|XTX（文字列）TXT（マッチ）〇\n",
      "（パターン）TXT|XTX（文字列）XTX（マッチ）〇\n",
      "（パターン）TXT|XTX（文字列）TXTXT（マッチ）〇\n"
     ]
    }
   ],
   "source": [
    "import re\n",
    "\n",
    "ptr = [\"(TXT)+\", \"TXT|XTX\"]\n",
    "str = [\"TX\", \"TXT\", \"XTX\", \"TXTXT\"]\n",
    "\n",
    "for valueptr in ptr:\n",
    "    print(\"------\")\n",
    "    pattern = re.compile(valueptr)\n",
    "    for valuestr in str:\n",
    "        res = pattern.search(valuestr)\n",
    "        if res is not None:\n",
    "            m = \"〇\"\n",
    "        else:\n",
    "            m = \"×\"\n",
    "        msg = \"（パターン）\" + valueptr + \"（文字列）\" + valuestr + \"（マッチ）\" + m\n",
    "        print(msg)\n"
   ]
  },
  {
   "cell_type": "markdown",
   "metadata": {},
   "source": [
    "<h3>Sample12.py</h3>"
   ]
  },
  {
   "cell_type": "code",
   "execution_count": 12,
   "metadata": {},
   "outputs": [
    {
     "name": "stdout",
     "output_type": "stream",
     "text": [
      "（変換前）Sample.csv（変換後）Sample.txt\n",
      "（変換前）Sample.exe（変換後）Sample.exe\n",
      "（変換前）test.py（変換後）test.txt\n",
      "（変換前）index.html（変換後）index.txt\n"
     ]
    }
   ],
   "source": [
    "import re\n",
    "\n",
    "ptr = \"\\.(csv|html|py)$\"\n",
    "str = [\"Sample.csv\", \"Sample.exe\", \"test.py\", \"index.html\"]\n",
    "\n",
    "pattern = re.compile(ptr)\n",
    "for valuestr in str:\n",
    "    res = pattern.sub(\".txt\", valuestr)\n",
    "    msg = \"（変換前）\" + valuestr + \"（変換後）\" + res\n",
    "    print(msg)\n"
   ]
  },
  {
   "cell_type": "code",
   "execution_count": null,
   "metadata": {},
   "outputs": [],
   "source": []
  }
 ],
 "metadata": {
  "kernelspec": {
   "display_name": "Python 3",
   "language": "python",
   "name": "python3"
  },
  "language_info": {
   "codemirror_mode": {
    "name": "ipython",
    "version": 3
   },
   "file_extension": ".py",
   "mimetype": "text/x-python",
   "name": "python",
   "nbconvert_exporter": "python",
   "pygments_lexer": "ipython3",
   "version": "3.5.5"
  }
 },
 "nbformat": 4,
 "nbformat_minor": 2
}
