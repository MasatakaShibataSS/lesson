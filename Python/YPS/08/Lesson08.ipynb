{
 "cells": [
  {
   "cell_type": "markdown",
   "metadata": {},
   "source": [
    "<h3>myclass.py</h3>"
   ]
  },
  {
   "cell_type": "code",
   "execution_count": 1,
   "metadata": {},
   "outputs": [],
   "source": [
    "class Person:\n",
    "\n",
    "    def __init__(self, name, age):\n",
    "       self.name = name\n",
    "       self.age = age\n",
    "\n",
    "    def getName(self):\n",
    "        return self.name\n",
    "\n",
    "    def getAge(self):\n",
    "        return self.age\n",
    "\n",
    "class Customer(Person):\n",
    "    def __init__(self, nm, ag, ad, tl):\n",
    "        super().__init__(nm, ag)\n",
    "\n",
    "        self.adr = ad\n",
    "        self.tel = tl\n",
    "\n",
    "    def getName(self):\n",
    "        self.name = \"顧客\" + self.name\n",
    "\n",
    "        return self.name\n",
    "\n",
    "    def getAdr(self):\n",
    "        return self.adr\n",
    "\n",
    "    def getTel(self):\n",
    "        return self.tel\n"
   ]
  },
  {
   "cell_type": "markdown",
   "metadata": {},
   "source": [
    "<h3>Sample1.py</h3>"
   ]
  },
  {
   "cell_type": "code",
   "execution_count": 2,
   "metadata": {},
   "outputs": [
    {
     "name": "stdout",
     "output_type": "stream",
     "text": [
      "鈴木 さんは 23 才です。\n"
     ]
    }
   ],
   "source": [
    "class Person:\n",
    "\n",
    "    def getName(self):\n",
    "        return self.name\n",
    "\n",
    "    def getAge(self):\n",
    "       return self.age\n",
    "\n",
    "pr = Person()\n",
    "pr.name = \"鈴木\"\n",
    "pr.age = 23\n",
    "\n",
    "n = pr.getName()\n",
    "a = pr.getAge()\n",
    "\n",
    "print(n, \"さんは\", a, \"才です。\")\n"
   ]
  },
  {
   "cell_type": "markdown",
   "metadata": {},
   "source": [
    "<h3>Sample2.py</h3>"
   ]
  },
  {
   "cell_type": "code",
   "execution_count": 3,
   "metadata": {},
   "outputs": [
    {
     "name": "stdout",
     "output_type": "stream",
     "text": [
      "鈴木 さんは 23 才です。\n",
      "佐藤 さんは 38 才です。\n"
     ]
    }
   ],
   "source": [
    "class Person:\n",
    "\n",
    "    def getName(self):\n",
    "        return self.name\n",
    "\n",
    "    def getAge(self):\n",
    "        return self.age\n",
    "\n",
    "pr1 = Person()\n",
    "pr1.name = \"鈴木\"\n",
    "pr1.age = 23\n",
    "n1 = pr1.getName()\n",
    "a1 = pr1.getAge()\n",
    "\n",
    "pr2 = Person()\n",
    "pr2.name = \"佐藤\"\n",
    "pr2.age = 38\n",
    "n2 = pr2.getName()\n",
    "a2 = pr2.getAge()\n",
    "\n",
    "print(n1, \"さんは\", a1, \"才です。\")\n",
    "print(n2, \"さんは\", a2, \"才です。\")\n"
   ]
  },
  {
   "cell_type": "markdown",
   "metadata": {},
   "source": [
    "<h3>Sample3.py</h3>"
   ]
  },
  {
   "cell_type": "code",
   "execution_count": 4,
   "metadata": {},
   "outputs": [
    {
     "name": "stdout",
     "output_type": "stream",
     "text": [
      "鈴木 さんは 23 才です。\n"
     ]
    }
   ],
   "source": [
    "class Person:\n",
    "\n",
    "    def __init__(self, name, age):\n",
    "        self.name = name\n",
    "        self.age = age\n",
    "\n",
    "    def getName(self):\n",
    "        return self.name\n",
    "\n",
    "    def getAge(self):\n",
    "        return self.age\n",
    "\n",
    "pr = Person(\"鈴木\", 23)\n",
    "\n",
    "n = pr.getName()\n",
    "a = pr.getAge()\n",
    "\n",
    "print(n, \"さんは\", a, \"才です。\")\n"
   ]
  },
  {
   "cell_type": "markdown",
   "metadata": {},
   "source": [
    "<h3>Sample4.py</h3>"
   ]
  },
  {
   "cell_type": "code",
   "execution_count": 5,
   "metadata": {},
   "outputs": [
    {
     "name": "stdout",
     "output_type": "stream",
     "text": [
      "鈴木 さんは 23 才です。\n",
      "佐藤 さんは 38 才です。\n",
      "合計人数は 2 です。\n"
     ]
    }
   ],
   "source": [
    "class Person:\n",
    "    count = 0\n",
    "\n",
    "    def __init__(self, name, age):\n",
    "        Person.count = Person.count + 1\n",
    "\n",
    "        self.name = name\n",
    "        self.age = age\n",
    "      \n",
    "    def getName(self):\n",
    "        return self.name\n",
    "\n",
    "    def getAge(self):\n",
    "        return self.age\n",
    "\n",
    "    @classmethod\n",
    "    def getCount(cls):\n",
    "        return cls.count\n",
    "\n",
    "pr1 = Person(\"鈴木\", 23)\n",
    "pr2 = Person(\"佐藤\", 38)\n",
    "\n",
    "print(pr1.getName(), \"さんは\", pr1.getAge(), \"才です。\")\n",
    "print(pr2.getName(), \"さんは\", pr2.getAge(), \"才です。\")\n",
    "print(\"合計人数は\", Person.getCount(), \"です。\")\n"
   ]
  },
  {
   "cell_type": "markdown",
   "metadata": {},
   "source": [
    "<h3>Sample5.py</h3>"
   ]
  },
  {
   "cell_type": "code",
   "execution_count": 6,
   "metadata": {},
   "outputs": [
    {
     "name": "stdout",
     "output_type": "stream",
     "text": [
      "顧客：鈴木 さんは 23 才です。\n",
      "アドレスは mmm@nnn.nn.jp 電話番号は xxx-xxx-xxxx です。\n"
     ]
    }
   ],
   "source": [
    "class Person:\n",
    "\n",
    "    def __init__(self, name, age):\n",
    "        self.name = name\n",
    "        self.age = age\n",
    "\n",
    "    def getName(self):\n",
    "        return self.name\n",
    "\n",
    "    def getAge(self):\n",
    "        return self.age\n",
    "\n",
    "class Customer(Person):\n",
    "    def __init__(self, nm, ag, ad, tl):\n",
    "        super().__init__(nm, ag)\n",
    "\n",
    "        self.adr = ad\n",
    "        self.tel = tl\n",
    "\n",
    "    def getName(self):\n",
    "        self.name = \"顧客：\" + self.name\n",
    "        return self.name\n",
    "\n",
    "    def getAdr(self):\n",
    "        return self.adr\n",
    "\n",
    "    def getTel(self):\n",
    "        return self.tel\n",
    "\n",
    "pr = Customer(\"鈴木\", 23, \"mmm@nnn.nn.jp\", \"xxx-xxx-xxxx\")\n",
    "\n",
    "nm = pr.getName()\n",
    "ag = pr.getAge()\n",
    "ad = pr.getAdr()\n",
    "tl = pr.getTel()\n",
    "\n",
    "print(nm, \"さんは\", ag, \"才です。\")\n",
    "print(\"アドレスは\", ad, \"電話番号は\", tl, \"です。\")\n"
   ]
  },
  {
   "cell_type": "markdown",
   "metadata": {},
   "source": [
    "<h3>Sample6.py</h3>"
   ]
  },
  {
   "cell_type": "code",
   "execution_count": 7,
   "metadata": {},
   "outputs": [
    {
     "name": "stdout",
     "output_type": "stream",
     "text": [
      "顧客鈴木 さんは 23 才です。\n",
      "アドレスは mmm@nnn.nn.jp 電話番号は xxx-xxx-xxxx です。\n"
     ]
    }
   ],
   "source": [
    "import myclass\n",
    "\n",
    "pr = myclass.Customer(\"鈴木\", 23, \"mmm@nnn.nn.jp\", \"xxx-xxx-xxxx\")\n",
    "\n",
    "nm = pr.getName()\n",
    "ag = pr.getAge()\n",
    "ad = pr.getAdr()\n",
    "tl = pr.getTel()\n",
    "\n",
    "print(nm, \"さんは\", ag, \"才です。\")\n",
    "print(\"アドレスは\", ad, \"電話番号は\", tl, \"です。\")\n"
   ]
  },
  {
   "cell_type": "markdown",
   "metadata": {},
   "source": [
    "<h3>Sample7.py</h3>"
   ]
  },
  {
   "cell_type": "code",
   "execution_count": 8,
   "metadata": {},
   "outputs": [
    {
     "name": "stdout",
     "output_type": "stream",
     "text": [
      "    October 2018\n",
      "Mo Tu We Th Fr Sa Su\n",
      " 1  2  3  4  5  6  7\n",
      " 8  9 10 11 12 13 14\n",
      "15 16 17 18 19 20 21\n",
      "22 23 24 25 26 27 28\n",
      "29 30 31\n"
     ]
    }
   ],
   "source": [
    "import calendar\n",
    "\n",
    "c = calendar.TextCalendar()\n",
    "c.prmonth(2018, 10)\n",
    "\n"
   ]
  },
  {
   "cell_type": "code",
   "execution_count": null,
   "metadata": {},
   "outputs": [],
   "source": []
  }
 ],
 "metadata": {
  "kernelspec": {
   "display_name": "Python 3",
   "language": "python",
   "name": "python3"
  },
  "language_info": {
   "codemirror_mode": {
    "name": "ipython",
    "version": 3
   },
   "file_extension": ".py",
   "mimetype": "text/x-python",
   "name": "python",
   "nbconvert_exporter": "python",
   "pygments_lexer": "ipython3",
   "version": "3.5.5"
  }
 },
 "nbformat": 4,
 "nbformat_minor": 2
}
