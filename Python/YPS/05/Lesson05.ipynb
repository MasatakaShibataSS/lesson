{
 "cells": [
  {
   "cell_type": "markdown",
   "metadata": {},
   "source": [
    "<h3>Sample1.py</h3>"
   ]
  },
  {
   "cell_type": "code",
   "execution_count": 1,
   "metadata": {},
   "outputs": [
    {
     "name": "stdout",
     "output_type": "stream",
     "text": [
      "[80, 60, 22, 50, 75]\n"
     ]
    }
   ],
   "source": [
    "sale = [80, 60, 22, 50, 75]\n",
    "\n",
    "print(sale)"
   ]
  },
  {
   "cell_type": "markdown",
   "metadata": {},
   "source": [
    "<h3>Sample2.py</h3>"
   ]
  },
  {
   "cell_type": "code",
   "execution_count": 2,
   "metadata": {},
   "outputs": [
    {
     "name": "stdout",
     "output_type": "stream",
     "text": [
      "80\n",
      "60\n",
      "22\n",
      "50\n",
      "75\n",
      "リストの長さは 5 です。\n"
     ]
    }
   ],
   "source": [
    "sale = [80, 60, 22, 50, 75]\n",
    "\n",
    "print(sale[0])\n",
    "print(sale[1])\n",
    "print(sale[2])\n",
    "print(sale[3])\n",
    "print(sale[4])\n",
    "\n",
    "print(\"リストの長さは\", len(sale), \"です。\")\n"
   ]
  },
  {
   "cell_type": "markdown",
   "metadata": {},
   "source": [
    "<h3>Sample3.py</h3>"
   ]
  },
  {
   "cell_type": "code",
   "execution_count": 3,
   "metadata": {},
   "outputs": [
    {
     "name": "stdout",
     "output_type": "stream",
     "text": [
      "80\n",
      "60\n",
      "22\n",
      "50\n",
      "75\n",
      "リストの長さは 5 です。\n"
     ]
    }
   ],
   "source": [
    "sale = [80, 60, 22, 50, 75]\n",
    "\n",
    "for s in sale:\n",
    "    print(s)\n",
    "\n",
    "print(\"リストの長さは\", len(sale), \"です。\")\n"
   ]
  },
  {
   "cell_type": "markdown",
   "metadata": {},
   "source": [
    "<h3>Sample4.py</h3>"
   ]
  },
  {
   "cell_type": "code",
   "execution_count": 4,
   "metadata": {},
   "outputs": [
    {
     "name": "stdout",
     "output_type": "stream",
     "text": [
      "何番のデータを変更しますか？2\n",
      "変更後のデータを入力してください。10\n",
      "2 番のデータ 22 を変更します。\n",
      "2 番のデータは 10 に変更されました。\n"
     ]
    }
   ],
   "source": [
    "sale = [80, 60, 22, 50, 75]\n",
    "\n",
    "i = int(input(\"何番のデータを変更しますか？\"))\n",
    "num = int(input(\"変更後のデータを入力してください。\"))\n",
    "\n",
    "print(i, \"番のデータ\" , sale[i], \"を変更します。\")\n",
    "\n",
    "sale[i] = num\n",
    "\n",
    "print(i, \"番のデータは\", sale[i],  \"に変更されました。\")\n"
   ]
  },
  {
   "cell_type": "markdown",
   "metadata": {},
   "source": [
    "<h3>Sample5.py</h3>"
   ]
  },
  {
   "cell_type": "code",
   "execution_count": 5,
   "metadata": {},
   "outputs": [
    {
     "name": "stdout",
     "output_type": "stream",
     "text": [
      "現在のデータは [80, 60, 22, 50, 75] です。\n",
      "末尾に100を追加します。\n",
      "現在のデータは [80, 60, 22, 50, 75, 100] です。\n",
      "sale[2]に25を挿入します。\n",
      "現在のデータは [80, 60, 25, 22, 50, 75, 100] です。\n"
     ]
    }
   ],
   "source": [
    "sale = [80, 60, 22, 50, 75]\n",
    "print(\"現在のデータは\", sale, \"です。\")\n",
    "\n",
    "print(\"末尾に100を追加します。\")\n",
    "sale.append(100)\n",
    "print(\"現在のデータは\", sale, \"です。\")\n",
    "\n",
    "print(\"sale[2]に25を挿入します。\")\n",
    "sale.insert(2, 25)\n",
    "print(\"現在のデータは\", sale, \"です。\")\n"
   ]
  },
  {
   "cell_type": "markdown",
   "metadata": {},
   "source": [
    "<h3>Sample6.py</h3>"
   ]
  },
  {
   "cell_type": "code",
   "execution_count": 6,
   "metadata": {
    "scrolled": true
   },
   "outputs": [
    {
     "name": "stdout",
     "output_type": "stream",
     "text": [
      "現在のデータは [80, 60, 22, 50, 75] です。\n",
      "先頭のデータを削除します。\n",
      "現在のデータは [60, 22, 50, 75] です。\n",
      "22を削除します。\n",
      "現在のデータは [60, 50, 75] です。\n"
     ]
    }
   ],
   "source": [
    "sale = [80, 60, 22, 50, 75]\n",
    "print(\"現在のデータは\", sale, \"です。\")\n",
    "\n",
    "print(\"先頭のデータを削除します。\")\n",
    "del sale[0]\n",
    "print(\"現在のデータは\", sale, \"です。\")\n",
    "\n",
    "print(\"22を削除します。\")\n",
    "sale.remove(22)\n",
    "print(\"現在のデータは\", sale, \"です。\")\n"
   ]
  },
  {
   "cell_type": "markdown",
   "metadata": {},
   "source": [
    "<h3>Sample7.py</h3>"
   ]
  },
  {
   "cell_type": "code",
   "execution_count": 7,
   "metadata": {},
   "outputs": [
    {
     "name": "stdout",
     "output_type": "stream",
     "text": [
      "data1は [1, 2, 3, 4, 5] です。\n",
      "data2は [1, 2, 3, 4, 5] です。\n",
      "data1を変更します。\n",
      "data1は [10, 2, 3, 4, 5] です。\n",
      "data2は [10, 2, 3, 4, 5] です。\n"
     ]
    }
   ],
   "source": [
    "data1 = [1,2,3,4,5]\n",
    "data2 = data1\n",
    "\n",
    "print(\"data1は\", data1, \"です。\")\n",
    "print(\"data2は\", data2, \"です。\")\n",
    "\n",
    "data1[0] = 10\n",
    "\n",
    "print(\"data1を変更します。\")\n",
    "\n",
    "print(\"data1は\", data1, \"です。\")\n",
    "print(\"data2は\", data2, \"です。\")\n",
    "\n"
   ]
  },
  {
   "cell_type": "markdown",
   "metadata": {},
   "source": [
    "<h3>Sample8.py</h3>"
   ]
  },
  {
   "cell_type": "code",
   "execution_count": 8,
   "metadata": {},
   "outputs": [
    {
     "name": "stdout",
     "output_type": "stream",
     "text": [
      "data1は [1, 2, 3, 4, 5] です。\n",
      "data2は [1, 2, 3, 4, 5] です。\n",
      "data1を変更します。\n",
      "data1は [10, 2, 3, 4, 5] です。\n",
      "data2は [1, 2, 3, 4, 5] です。\n"
     ]
    }
   ],
   "source": [
    "data1 = [1,2,3,4,5]\n",
    "data2 = list(data1)\n",
    "\n",
    "print(\"data1は\", data1, \"です。\")\n",
    "print(\"data2は\", data2, \"です。\")\n",
    "\n",
    "data1[0] = 10\n",
    "\n",
    "print(\"data1を変更します。\")\n",
    "\n",
    "print(\"data1は\", data1, \"です。\")\n",
    "print(\"data2は\", data2, \"です。\")"
   ]
  },
  {
   "cell_type": "markdown",
   "metadata": {},
   "source": [
    "<h3>Sample9.py</h3>"
   ]
  },
  {
   "cell_type": "code",
   "execution_count": 9,
   "metadata": {},
   "outputs": [
    {
     "name": "stdout",
     "output_type": "stream",
     "text": [
      "上半期のデータは [1, 2, 3, 4, 5, 6] です。\n",
      "下半期のデータは [7, 8, 9, 10, 11, 12] です。\n",
      "年間のデータは [1, 2, 3, 4, 5, 6, 7, 8, 9, 10, 11, 12] です。\n"
     ]
    }
   ],
   "source": [
    "sale1 = [1, 2, 3, 4, 5, 6]\n",
    "print(\"上半期のデータは\", sale1, \"です。\")\n",
    "\n",
    "sale2 = [7, 8, 9, 10, 11, 12]\n",
    "print(\"下半期のデータは\", sale2, \"です。\")\n",
    "\n",
    "ysale = sale1 + sale2\n",
    "\n",
    "print(\"年間のデータは\", ysale, \"です。\")\n"
   ]
  },
  {
   "cell_type": "markdown",
   "metadata": {},
   "source": [
    "<h3>Sample10.py</h3>"
   ]
  },
  {
   "cell_type": "code",
   "execution_count": 10,
   "metadata": {},
   "outputs": [
    {
     "name": "stdout",
     "output_type": "stream",
     "text": [
      "年間のデータは [1, 2, 3, 4, 5, 6, 7, 8, 9, 10, 11, 12] です。\n",
      "上半期のデータは [1, 2, 3, 4, 5, 6] です。\n",
      "下半期のデータは [7, 8, 9, 10, 11, 12] です。\n",
      "一か月おきのデータは [1, 3, 5, 7, 9, 11] です。\n",
      "逆順のデータは [12, 11, 10, 9, 8, 7, 6, 5, 4, 3, 2, 1] です。\n",
      "年間のデータは [1, 2, 3, 4, 5, 6, 7, 8, 9, 10, 11, 12] です。\n",
      "上半期のデータを差し替えます。\n",
      "年間のデータは [0, 0, 0, 0, 0, 0, 7, 8, 9, 10, 11, 12] です。\n"
     ]
    }
   ],
   "source": [
    "ysale = [1, 2, 3, 4, 5, 6, 7, 8, 9, 10, 11, 12]\n",
    "print(\"年間のデータは\", ysale, \"です。\")\n",
    "\n",
    "sale1 = ysale[0:6]\n",
    "print(\"上半期のデータは\", sale1, \"です。\")\n",
    "\n",
    "sale2 = ysale[6:]\n",
    "print(\"下半期のデータは\", sale2, \"です。\")\n",
    "\n",
    "sale3 = ysale[::2]\n",
    "print(\"一か月おきのデータは\", sale3, \"です。\")\n",
    "\n",
    "sale4 = ysale[::-1]\n",
    "print(\"逆順のデータは\", sale4, \"です。\")\n",
    "\n",
    "print(\"年間のデータは\", ysale, \"です。\")\n",
    "print(\"上半期のデータを差し替えます。\")\n",
    "ysale[:6] = [0, 0, 0, 0, 0, 0]\n",
    "print(\"年間のデータは\", ysale, \"です。\")\n"
   ]
  },
  {
   "cell_type": "markdown",
   "metadata": {},
   "source": [
    "<h3>Sample11.py</h3>"
   ]
  },
  {
   "cell_type": "code",
   "execution_count": 11,
   "metadata": {
    "scrolled": true
   },
   "outputs": [
    {
     "name": "stdout",
     "output_type": "stream",
     "text": [
      "現在のデータは [1, 2, 3, 4, 5] です。\n",
      "data[::-1]をfor文で処理します。\n",
      "5\n",
      "4\n",
      "3\n",
      "2\n",
      "1\n",
      "data[::-1]は [5, 4, 3, 2, 1] です。\n",
      "現在のデータは [1, 2, 3, 4, 5] です。\n",
      "reversed(data)をfor文で処理します。\n",
      "5\n",
      "4\n",
      "3\n",
      "2\n",
      "1\n",
      "reversed(data)は <list_reverseiterator object at 0x7fb15c380780> です。\n",
      "現在のデータは [1, 2, 3, 4, 5] です。\n",
      "data.reverse()を処理します。\n",
      "現在のデータは [5, 4, 3, 2, 1] です。\n"
     ]
    }
   ],
   "source": [
    "data = [1, 2, 3, 4, 5]\n",
    "print(\"現在のデータは\", data, \"です。\")\n",
    "\n",
    "print(\"data[::-1]をfor文で処理します。\")\n",
    "for d in data[::-1]:\n",
    "    print(d)\n",
    "print(\"data[::-1]は\", data[::-1], \"です。\")\n",
    "print(\"現在のデータは\", data, \"です。\")\n",
    "\n",
    "print(\"reversed(data)をfor文で処理します。\")\n",
    "for d in reversed(data):\n",
    "    print(d)\n",
    "print(\"reversed(data)は\", reversed(data), \"です。\")\n",
    "print(\"現在のデータは\", data, \"です。\")\n",
    "\n",
    "print(\"data.reverse()を処理します。\")\n",
    "data.reverse()\n",
    "print(\"現在のデータは\", data, \"です。\")"
   ]
  },
  {
   "cell_type": "markdown",
   "metadata": {},
   "source": [
    "<h3>Sample12.py</h3>"
   ]
  },
  {
   "cell_type": "code",
   "execution_count": 12,
   "metadata": {
    "scrolled": true
   },
   "outputs": [
    {
     "name": "stdout",
     "output_type": "stream",
     "text": [
      "都市名データは ['東京', '名古屋', '大阪', '京都'] です。\n",
      "売上データは [80, 60, 22, 50, 75] です。\n",
      "データを組み合わせます。\n",
      "('東京', 80)\n",
      "('名古屋', 60)\n",
      "('大阪', 22)\n",
      "('京都', 50)\n",
      "データとインデックスを組み合わせます。\n",
      "(0, '東京')\n",
      "(1, '名古屋')\n",
      "(2, '大阪')\n",
      "(3, '京都')\n"
     ]
    }
   ],
   "source": [
    "city = [\"東京\", \"名古屋\", \"大阪\", \"京都\"]\n",
    "sale = [80, 60, 22, 50, 75]\n",
    "\n",
    "print(\"都市名データは\", city, \"です。\")\n",
    "print(\"売上データは\", sale, \"です。\")\n",
    "\n",
    "print(\"データを組み合わせます。\")\n",
    "\n",
    "for d in zip(city, sale):\n",
    "    print(d)\n",
    "\n",
    "print(\"データとインデックスを組み合わせます。\")\n",
    "\n",
    "for d in enumerate(city):\n",
    "    print(d)\n"
   ]
  },
  {
   "cell_type": "markdown",
   "metadata": {},
   "source": [
    "<h3>Sample13.py</h3>"
   ]
  },
  {
   "cell_type": "code",
   "execution_count": 13,
   "metadata": {},
   "outputs": [
    {
     "name": "stdout",
     "output_type": "stream",
     "text": [
      "都市名データは ['東京', '名古屋', '大阪', '京都'] です。\n",
      "売上データは [80, 60, 22, 50, 75] です。\n",
      "データを組み合わせます。\n",
      "('東京', 80)\n",
      "('名古屋', 60)\n",
      "('大阪', 22)\n",
      "('京都', 50)\n",
      "データを分解します。\n",
      "都市名は 東京 売上は 80\n",
      "都市名は 名古屋 売上は 60\n",
      "都市名は 大阪 売上は 22\n",
      "都市名は 京都 売上は 50\n"
     ]
    }
   ],
   "source": [
    "city = [\"東京\", \"名古屋\", \"大阪\", \"京都\"]\n",
    "sale = [80, 60, 22, 50, 75]\n",
    "\n",
    "print(\"都市名データは\", city, \"です。\")\n",
    "print(\"売上データは\", sale, \"です。\")\n",
    "\n",
    "print(\"データを組み合わせます。\")\n",
    "\n",
    "for d in zip(city, sale):\n",
    "    print(d)\n",
    "\n",
    "print(\"データを分解します。\")\n",
    "\n",
    "for c, s in zip(city, sale):\n",
    "    print(\"都市名は\", c, \"売上は\", s)"
   ]
  },
  {
   "cell_type": "markdown",
   "metadata": {},
   "source": [
    "<h3>Sample14.py</h3>"
   ]
  },
  {
   "cell_type": "code",
   "execution_count": 14,
   "metadata": {
    "scrolled": true
   },
   "outputs": [
    {
     "name": "stdout",
     "output_type": "stream",
     "text": [
      "現在のデータは [1, 2, 3, 4, 5] です。\n",
      "新しいデータは [2, 4, 8, 10] です。\n"
     ]
    }
   ],
   "source": [
    "data = [1,2,3,4,5]\n",
    "print(\"現在のデータは\", data, \"です。\")\n",
    "\n",
    "ndata = [n*2 for n in data if n!=3]\n",
    "\n",
    "print(\"新しいデータは\", ndata, \"です。\")\n"
   ]
  },
  {
   "cell_type": "markdown",
   "metadata": {},
   "source": [
    "<h3>Sample15.py</h3>"
   ]
  },
  {
   "cell_type": "code",
   "execution_count": 15,
   "metadata": {},
   "outputs": [
    {
     "name": "stdout",
     "output_type": "stream",
     "text": [
      "現在のデータは [80, 60, 22, 50, 75] です。\n",
      "最大のデータは 80 です。\n",
      "最小のデータは 22 です。\n",
      "データの合計は 287 です。\n",
      "ソートされたデータは [22, 50, 60, 75, 80] です。\n"
     ]
    }
   ],
   "source": [
    "sale = [80, 60, 22, 50, 75]\n",
    "print(\"現在のデータは\", sale, \"です。\")\n",
    "\n",
    "print(\"最大のデータは\", max(sale), \"です。\")\n",
    "print(\"最小のデータは\", min(sale), \"です。\")\n",
    "\n",
    "print(\"データの合計は\", sum(sale), \"です。\")\n",
    "\n",
    "print(\"ソートされたデータは\", sorted(sale), \"です。\")\n"
   ]
  },
  {
   "cell_type": "markdown",
   "metadata": {},
   "source": [
    "<h3>Sample16.py</h3>"
   ]
  },
  {
   "cell_type": "code",
   "execution_count": 16,
   "metadata": {},
   "outputs": [
    {
     "name": "stdout",
     "output_type": "stream",
     "text": [
      "現在のデータは [['東京', 32, 25], ['名古屋', 28, 21], ['大阪', 27, 20], ['京都', 26, 19], ['福岡', 27, 22]] です。\n",
      "都市別データは ['東京', 32, 25] です。\n",
      "東京\t32\t25\t\n",
      "都市別データは ['名古屋', 28, 21] です。\n",
      "名古屋\t28\t21\t\n",
      "都市別データは ['大阪', 27, 20] です。\n",
      "大阪\t27\t20\t\n",
      "都市別データは ['京都', 26, 19] です。\n",
      "京都\t26\t19\t\n",
      "都市別データは ['福岡', 27, 22] です。\n",
      "福岡\t27\t22\t\n",
      "東京 の最高気温は 32 最低気温は 25 です。\n"
     ]
    }
   ],
   "source": [
    "data = [\n",
    "   [\"東京\", 32, 25], \n",
    "   [\"名古屋\", 28, 21], \n",
    "   [\"大阪\", 27, 20],\n",
    "   [\"京都\", 26, 19],\n",
    "   [\"福岡\", 27, 22]\n",
    "]\n",
    "\n",
    "print(\"現在のデータは\", data, \"です。\")\n",
    "\n",
    "for dat in data:\n",
    "   print(\"都市別データは\", dat, \"です。\")\n",
    "   for d in dat:\n",
    "      print(d, end=\"\\t\")\n",
    "   print()\n",
    "   \n",
    "print(data[0][0], \"の最高気温は\", data[0][1], \"最低気温は\", data[0][2], \"です。\")\n"
   ]
  },
  {
   "cell_type": "code",
   "execution_count": null,
   "metadata": {},
   "outputs": [],
   "source": []
  }
 ],
 "metadata": {
  "kernelspec": {
   "display_name": "Python 3",
   "language": "python",
   "name": "python3"
  },
  "language_info": {
   "codemirror_mode": {
    "name": "ipython",
    "version": 3
   },
   "file_extension": ".py",
   "mimetype": "text/x-python",
   "name": "python",
   "nbconvert_exporter": "python",
   "pygments_lexer": "ipython3",
   "version": "3.5.5"
  }
 },
 "nbformat": 4,
 "nbformat_minor": 2
}
