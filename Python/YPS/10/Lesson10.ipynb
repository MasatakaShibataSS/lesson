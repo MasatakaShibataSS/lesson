{
 "cells": [
  {
   "cell_type": "markdown",
   "metadata": {},
   "source": [
    "<h3>Sample1.py</h3>"
   ]
  },
  {
   "cell_type": "code",
   "execution_count": 1,
   "metadata": {},
   "outputs": [],
   "source": [
    "f = open(\"Sample.txt\", \"w\")\n",
    "\n",
    "f.write(\"こんにちは\\n\")\n",
    "f.write(\"さようなら\\n\")\n",
    "\n",
    "f.close()\n"
   ]
  },
  {
   "cell_type": "markdown",
   "metadata": {},
   "source": [
    "<h3>Sample2.py</h3>"
   ]
  },
  {
   "cell_type": "code",
   "execution_count": 2,
   "metadata": {},
   "outputs": [
    {
     "name": "stdout",
     "output_type": "stream",
     "text": [
      "こんにちは\n",
      "さようなら\n"
     ]
    }
   ],
   "source": [
    "f = open(\"Sample.txt\", \"r\")\n",
    "\n",
    "lines = f.readlines()\n",
    "\n",
    "for line in lines:\n",
    "    print(line, end=\"\")\n",
    "\n",
    "f.close()\n"
   ]
  },
  {
   "cell_type": "markdown",
   "metadata": {},
   "source": [
    "<h3>Sample3.py</h3>"
   ]
  },
  {
   "cell_type": "code",
   "execution_count": 4,
   "metadata": {},
   "outputs": [
    {
     "name": "stdout",
     "output_type": "stream",
     "text": [
      "東京,鉛筆,25,\n",
      "東京,消しゴム,30,\n",
      "名古屋,ノート,56,\n",
      "大阪,定規,100,\n",
      "福岡,ノート,73,\n",
      "\n"
     ]
    }
   ],
   "source": [
    "import csv\n",
    "\n",
    "f = open(\"Sample.csv\", \"r\")\n",
    "\n",
    "rd = csv.reader(f)\n",
    "\n",
    "for row in rd:\n",
    "    for col in row:\n",
    "       print(col, end=\",\")\n",
    "    print()\n",
    "f.close()\n"
   ]
  },
  {
   "cell_type": "markdown",
   "metadata": {},
   "source": [
    "<h3>Sample4.py</h3>"
   ]
  },
  {
   "cell_type": "code",
   "execution_count": 6,
   "metadata": {},
   "outputs": [
    {
     "name": "stdout",
     "output_type": "stream",
     "text": [
      "{'関西': {'京都': 20, '大阪': 30}, '関東': {'横浜': 40, '東京': 50}}\n"
     ]
    }
   ],
   "source": [
    "import json\n",
    "\n",
    "f = open(\"Sample.json\", \"r\")\n",
    "\n",
    "data = json.load(f)\n",
    "\n",
    "print(data)\n",
    "\n",
    "f.close()\n"
   ]
  },
  {
   "cell_type": "markdown",
   "metadata": {},
   "source": [
    "<h3>Sample5.py</h3>"
   ]
  },
  {
   "cell_type": "code",
   "execution_count": 7,
   "metadata": {},
   "outputs": [
    {
     "name": "stdout",
     "output_type": "stream",
     "text": [
      "こんにちは\n",
      "さようなら\n",
      "処理を終了します。\n"
     ]
    }
   ],
   "source": [
    "try:\n",
    "    f = open(\"Sample.txt\", \"r\")\n",
    "   \n",
    "except FileNotFoundError:\n",
    "    print(\"ファイルをオープンできませんでした。\")\n",
    "\n",
    "else:\n",
    "    lines = f.readlines()\n",
    "    for line in lines:\n",
    "       print(line, end=\"\")\n",
    "    f.close()\n",
    "\n",
    "finally:\n",
    "    print(\"処理を終了します。\")\n"
   ]
  },
  {
   "cell_type": "markdown",
   "metadata": {},
   "source": [
    "<h3>Sample6.py</h3>"
   ]
  },
  {
   "cell_type": "code",
   "execution_count": 8,
   "metadata": {},
   "outputs": [
    {
     "name": "stdout",
     "output_type": "stream",
     "text": [
      ".ipynb_checkpoints\n",
      "Sample.csv\n",
      "Sample.json\n",
      "Sample.txt\n",
      "Sample1.py\n",
      "Sample2.py\n",
      "Sample3.py\n",
      "Sample4.py\n",
      "Sample5.py\n",
      "Sample6.py\n",
      "Sample7.py\n",
      "Sample8.py\n",
      "Sample9.py\n",
      "Untitled.ipynb\n"
     ]
    }
   ],
   "source": [
    "import os\n",
    "\n",
    "curdir = os.listdir(\".\")\n",
    "\n",
    "for name in curdir:\n",
    "    print(name)\n"
   ]
  },
  {
   "cell_type": "markdown",
   "metadata": {},
   "source": [
    "<h3>Sample7.py</h3>"
   ]
  },
  {
   "cell_type": "code",
   "execution_count": 9,
   "metadata": {},
   "outputs": [
    {
     "name": "stdout",
     "output_type": "stream",
     "text": [
      "/home/mrk/notebooks/SBC_YP/YPSample/10/.ipynb_checkpoints,ディレクトリです。\n",
      "/home/mrk/notebooks/SBC_YP/YPSample/10/Sample.csv,ファイルです。\n",
      "/home/mrk/notebooks/SBC_YP/YPSample/10/Sample.json,ファイルです。\n",
      "/home/mrk/notebooks/SBC_YP/YPSample/10/Sample.txt,ファイルです。\n",
      "/home/mrk/notebooks/SBC_YP/YPSample/10/Sample1.py,ファイルです。\n",
      "/home/mrk/notebooks/SBC_YP/YPSample/10/Sample2.py,ファイルです。\n",
      "/home/mrk/notebooks/SBC_YP/YPSample/10/Sample3.py,ファイルです。\n",
      "/home/mrk/notebooks/SBC_YP/YPSample/10/Sample4.py,ファイルです。\n",
      "/home/mrk/notebooks/SBC_YP/YPSample/10/Sample5.py,ファイルです。\n",
      "/home/mrk/notebooks/SBC_YP/YPSample/10/Sample6.py,ファイルです。\n",
      "/home/mrk/notebooks/SBC_YP/YPSample/10/Sample7.py,ファイルです。\n",
      "/home/mrk/notebooks/SBC_YP/YPSample/10/Sample8.py,ファイルです。\n",
      "/home/mrk/notebooks/SBC_YP/YPSample/10/Sample9.py,ファイルです。\n",
      "/home/mrk/notebooks/SBC_YP/YPSample/10/Untitled.ipynb,ファイルです。\n",
      "\n"
     ]
    }
   ],
   "source": [
    "import os\n",
    "import os.path\n",
    "\n",
    "curdir = os.listdir(\".\")\n",
    "\n",
    "for name in curdir:\n",
    "    print(os.path.abspath(name), end=\",\")\n",
    "    \n",
    "    if(os.path.isfile(name)):\n",
    "        print(\"ファイルです。\")\n",
    "    else:\n",
    "        print(\"ディレクトリです。\")\n",
    "print()\n"
   ]
  },
  {
   "cell_type": "markdown",
   "metadata": {},
   "source": [
    "<h3>Sample8.py</h3>"
   ]
  },
  {
   "cell_type": "code",
   "execution_count": 10,
   "metadata": {},
   "outputs": [
    {
     "name": "stdout",
     "output_type": "stream",
     "text": [
      "現在は 2019-08-17 14:42:14.464061 です。\n",
      "年： 2019\n",
      "月： 8\n",
      "日： 17\n",
      "1日後は 2019-08-18 14:42:14.464061 です。\n"
     ]
    }
   ],
   "source": [
    "import datetime\n",
    "\n",
    "dt = datetime.datetime.now()\n",
    "print(\"現在は\", dt, \"です。\")\n",
    "print(\"年：\", dt.year)\n",
    "print(\"月：\", dt.month)\n",
    "print(\"日：\", dt.day)\n",
    "\n",
    "dt = dt + datetime.timedelta(days=1)\n",
    "print(\"1日後は\", dt, \"です。\")\n"
   ]
  },
  {
   "cell_type": "markdown",
   "metadata": {},
   "source": [
    "<h3>Sample9.py</h3>"
   ]
  },
  {
   "cell_type": "code",
   "execution_count": 11,
   "metadata": {},
   "outputs": [
    {
     "name": "stdout",
     "output_type": "stream",
     "text": [
      "現在は Sat Aug 17 14:43:00 2019 です。\n",
      "1日後は 2019-08-18 です。\n"
     ]
    }
   ],
   "source": [
    "import datetime\n",
    "\n",
    "dt = datetime.datetime.now()\n",
    "str = dt.strftime(\"%c\")\n",
    "print(\"現在は\", str, \"です。\")\n",
    "\n",
    "dt = dt + datetime.timedelta(days=1)\n",
    "str = dt.strftime(\"%Y-%m-%d\")\n",
    "print(\"1日後は\", str, \"です。\")\n"
   ]
  },
  {
   "cell_type": "code",
   "execution_count": null,
   "metadata": {},
   "outputs": [],
   "source": []
  }
 ],
 "metadata": {
  "kernelspec": {
   "display_name": "Python 3",
   "language": "python",
   "name": "python3"
  },
  "language_info": {
   "codemirror_mode": {
    "name": "ipython",
    "version": 3
   },
   "file_extension": ".py",
   "mimetype": "text/x-python",
   "name": "python",
   "nbconvert_exporter": "python",
   "pygments_lexer": "ipython3",
   "version": "3.5.5"
  }
 },
 "nbformat": 4,
 "nbformat_minor": 2
}
