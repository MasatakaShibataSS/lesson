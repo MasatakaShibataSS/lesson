{
 "cells": [
  {
   "cell_type": "markdown",
   "metadata": {},
   "source": [
    "<h3>Sample1.py</h3>"
   ]
  },
  {
   "cell_type": "code",
   "execution_count": 1,
   "metadata": {},
   "outputs": [
    {
     "name": "stdout",
     "output_type": "stream",
     "text": [
      "売上を入力してください。110\n",
      "売上は好調です。\n",
      "処理を終了します。\n"
     ]
    }
   ],
   "source": [
    "sale = int(input(\"売上を入力してください。\"))\n",
    "\n",
    "if sale >= 100 :\n",
    "    print(\"売上は好調です。\")\n",
    "\n",
    "print(\"処理を終了します。\")"
   ]
  },
  {
   "cell_type": "markdown",
   "metadata": {},
   "source": [
    "<h3>Sample2.py</h3>"
   ]
  },
  {
   "cell_type": "code",
   "execution_count": 3,
   "metadata": {
    "scrolled": true
   },
   "outputs": [
    {
     "name": "stdout",
     "output_type": "stream",
     "text": [
      "売上を入力してください。50\n",
      "売上は普通です。\n",
      "処理を終了します。\n"
     ]
    }
   ],
   "source": [
    "sale = int(input(\"売上を入力してください。\"))\n",
    "\n",
    "if sale >= 100:\n",
    "    print(\"売上は好調です。\")\n",
    "elif sale >= 50:\n",
    "    print(\"売上は普通です。\")\n",
    "else:\n",
    "    print(\"売上は低調です。\")\n",
    "\n",
    "print(\"処理を終了します。\")\n"
   ]
  },
  {
   "cell_type": "markdown",
   "metadata": {},
   "source": [
    "<h3>Sample3.py</h3>"
   ]
  },
  {
   "cell_type": "code",
   "execution_count": 4,
   "metadata": {
    "scrolled": true
   },
   "outputs": [
    {
     "name": "stdout",
     "output_type": "stream",
     "text": [
      "売上を入力してください。100\n",
      "人数を入力してください。30\n",
      "売上は大盛況です。\n",
      "処理を終了します。\n"
     ]
    }
   ],
   "source": [
    "sale = int(input(\"売上を入力してください。\"))\n",
    "num = int(input(\"人数を入力してください。\"))\n",
    "\n",
    "if sale >= 100 and num >= 30 :\n",
    "    print(\"売上は大盛況です。\")\n",
    "elif sale >= 100:\n",
    "    print(\"売上は好調です。\")\n",
    "elif sale >= 50:\n",
    "    print(\"売上は普通です。\")\n",
    "else:\n",
    "    print(\"売上は低調です。\")\n",
    "\n",
    "print(\"処理を終了します。\")"
   ]
  },
  {
   "cell_type": "markdown",
   "metadata": {},
   "source": [
    "<h3>Sample4.py</h3>"
   ]
  },
  {
   "cell_type": "code",
   "execution_count": 5,
   "metadata": {},
   "outputs": [
    {
     "name": "stdout",
     "output_type": "stream",
     "text": [
      "1 月のデータです。\n",
      "2 月のデータです。\n",
      "3 月のデータです。\n",
      "4 月のデータです。\n",
      "5 月のデータです。\n",
      "6 月のデータです。\n",
      "7 月のデータです。\n",
      "8 月のデータです。\n",
      "9 月のデータです。\n",
      "10 月のデータです。\n",
      "11 月のデータです。\n",
      "12 月のデータです。\n"
     ]
    }
   ],
   "source": [
    "for i in range(12):\n",
    "    print(i+1 , \"月のデータです。\")\n"
   ]
  },
  {
   "cell_type": "markdown",
   "metadata": {},
   "source": [
    "<h3>Sample5.py</h3>"
   ]
  },
  {
   "cell_type": "code",
   "execution_count": 6,
   "metadata": {},
   "outputs": [
    {
     "name": "stdout",
     "output_type": "stream",
     "text": [
      "1 月のデータです。\n",
      "2 月のデータです。\n",
      "3 月のデータです。\n",
      "4 月のデータです。\n",
      "5 月のデータです。\n",
      "6 月のデータです。\n",
      "7 月のデータです。\n",
      "8 月のデータです。\n",
      "9 月のデータです。\n",
      "10 月のデータです。\n",
      "11 月のデータです。\n",
      "12 月のデータです。\n"
     ]
    }
   ],
   "source": [
    "i = 1\n",
    "\n",
    "while i <= 12:\n",
    "    print(i , \"月のデータです。\")\n",
    "    i = i+1"
   ]
  },
  {
   "cell_type": "markdown",
   "metadata": {},
   "source": [
    "<h3>Sample6.py</h3>"
   ]
  },
  {
   "cell_type": "code",
   "execution_count": 7,
   "metadata": {},
   "outputs": [
    {
     "name": "stdout",
     "output_type": "stream",
     "text": [
      "iは 0 :jは 0\n",
      "iは 0 :jは 1\n",
      "iは 0 :jは 2\n",
      "iは 1 :jは 0\n",
      "iは 1 :jは 1\n",
      "iは 1 :jは 2\n",
      "iは 2 :jは 0\n",
      "iは 2 :jは 1\n",
      "iは 2 :jは 2\n",
      "iは 3 :jは 0\n",
      "iは 3 :jは 1\n",
      "iは 3 :jは 2\n",
      "iは 4 :jは 0\n",
      "iは 4 :jは 1\n",
      "iは 4 :jは 2\n"
     ]
    }
   ],
   "source": [
    "for i in range(5):\n",
    "    for j in range(3):\n",
    "        print(\"iは\", i, \":jは\", j)\n"
   ]
  },
  {
   "cell_type": "markdown",
   "metadata": {},
   "source": [
    "<h3>Sample7.py</h3>"
   ]
  },
  {
   "cell_type": "code",
   "execution_count": 8,
   "metadata": {},
   "outputs": [
    {
     "name": "stdout",
     "output_type": "stream",
     "text": [
      "*-*-*\n",
      "-*-*-\n",
      "*-*-*\n",
      "-*-*-\n",
      "*-*-*\n"
     ]
    }
   ],
   "source": [
    "v = False\n",
    "\n",
    "for i in range(5):\n",
    "    for j in range(5):\n",
    "        if v is False:\n",
    "            print(\"*\", end=\"\")\n",
    "            v = True\n",
    "        else:\n",
    "            print(\"-\", end=\"\")\n",
    "            v = False\n",
    "    print()"
   ]
  },
  {
   "cell_type": "markdown",
   "metadata": {},
   "source": [
    "<h3>Sample8.py</h3>"
   ]
  },
  {
   "cell_type": "code",
   "execution_count": 9,
   "metadata": {},
   "outputs": [
    {
     "name": "stdout",
     "output_type": "stream",
     "text": [
      "何月の処理で終了しますか？(1～12)1\n",
      "1 月のデータです。\n"
     ]
    }
   ],
   "source": [
    "num = int(input(\"何月の処理で終了しますか？(1～12)\"))\n",
    "\n",
    "for i in range(12):\n",
    "    print(i+1 , \"月のデータです。\")\n",
    "    if (i+1) == num:\n",
    "        break\n"
   ]
  },
  {
   "cell_type": "markdown",
   "metadata": {},
   "source": [
    "<h3>Sample9.py</h3>"
   ]
  },
  {
   "cell_type": "code",
   "execution_count": 11,
   "metadata": {},
   "outputs": [
    {
     "name": "stdout",
     "output_type": "stream",
     "text": [
      "何月の処理を飛ばしますか？(1～12)2\n",
      "1 月のデータです。\n",
      "3 月のデータです。\n",
      "4 月のデータです。\n",
      "5 月のデータです。\n",
      "6 月のデータです。\n",
      "7 月のデータです。\n",
      "8 月のデータです。\n",
      "9 月のデータです。\n",
      "10 月のデータです。\n",
      "11 月のデータです。\n",
      "12 月のデータです。\n"
     ]
    }
   ],
   "source": [
    "num = int(input(\"何月の処理を飛ばしますか？(1～12)\"))\n",
    "\n",
    "for i in range(12):\n",
    "    if (i+1) == num:\n",
    "        continue\n",
    "    print(i+1 , \"月のデータです。\")"
   ]
  },
  {
   "cell_type": "code",
   "execution_count": null,
   "metadata": {},
   "outputs": [],
   "source": []
  }
 ],
 "metadata": {
  "kernelspec": {
   "display_name": "Python 3",
   "language": "python",
   "name": "python3"
  },
  "language_info": {
   "codemirror_mode": {
    "name": "ipython",
    "version": 3
   },
   "file_extension": ".py",
   "mimetype": "text/x-python",
   "name": "python",
   "nbconvert_exporter": "python",
   "pygments_lexer": "ipython3",
   "version": "3.5.5"
  }
 },
 "nbformat": 4,
 "nbformat_minor": 2
}
