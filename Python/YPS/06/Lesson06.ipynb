{
 "cells": [
  {
   "cell_type": "markdown",
   "metadata": {},
   "source": [
    "<h3>Sample1.py</h3>"
   ]
  },
  {
   "cell_type": "code",
   "execution_count": 1,
   "metadata": {},
   "outputs": [
    {
     "name": "stdout",
     "output_type": "stream",
     "text": [
      "現在のデータは {'名古屋': 60, '大阪': 50, '京都': 22, '福岡': 75, '東京': 80} です。\n",
      "どの支店のデータを表示しますか？東京\n",
      "東京 のデータは 80 です。\n"
     ]
    }
   ],
   "source": [
    "sale = {\"東京\":80, \"名古屋\":60, \"京都\":22, \"大阪\":50, \"福岡\":75}\n",
    "print(\"現在のデータは\", sale, \"です。\")\n",
    "\n",
    "k = input(\"どの支店のデータを表示しますか？\")\n",
    "print(k, \"のデータは\", sale[k], \"です。\")\n"
   ]
  },
  {
   "cell_type": "markdown",
   "metadata": {},
   "source": [
    "<h3>Sample2.py</h3>"
   ]
  },
  {
   "cell_type": "code",
   "execution_count": 5,
   "metadata": {},
   "outputs": [
    {
     "name": "stdout",
     "output_type": "stream",
     "text": [
      "現在のデータは {'名古屋': 60, '大阪': 50, '京都': 22, '福岡': 75, '東京': 80} です。\n",
      "どのキーのデータを表示しますか？大阪\n",
      "大阪 のデータは 50 です。\n"
     ]
    }
   ],
   "source": [
    "sale = {\"東京\":80, \"名古屋\":60, \"京都\":22, \"大阪\":50, \"福岡\":75}\n",
    "print(\"現在のデータは\", sale, \"です。\")\n",
    "\n",
    "k = input(\"どのキーのデータを表示しますか？\")\n",
    "if k in sale:\n",
    "    print(k, \"のデータは\", sale[k], \"です。\")\n",
    "else:\n",
    "    print(k, \"のデータはみつかりませんでした。\")"
   ]
  },
  {
   "cell_type": "markdown",
   "metadata": {},
   "source": [
    "<h3>Sample3.py</h3>"
   ]
  },
  {
   "cell_type": "code",
   "execution_count": 6,
   "metadata": {
    "scrolled": true
   },
   "outputs": [
    {
     "name": "stdout",
     "output_type": "stream",
     "text": [
      "現在のデータは {'名古屋': 60, '大阪': 50, '京都': 22, '福岡': 75, '東京': 80} です。\n",
      "追加するキーを入力してください。仙台\n",
      "追加するデータを入力してください。40\n",
      "仙台 のデータとして 40 を追加しました。\n",
      "現在のデータは {'大阪': 50, '名古屋': 60, '京都': 22, '仙台': 40, '福岡': 75, '東京': 80} です。\n",
      "どのキーのデータを変更しますか？京都\n",
      "京都 のデータは 22 です。\n",
      "データを入力してください。30\n",
      "京都 のデータは 30 に変更されました。\n",
      "現在のデータは {'大阪': 50, '名古屋': 60, '京都': 30, '仙台': 40, '福岡': 75, '東京': 80} です。\n",
      "どのキーのデータを削除しますか？名古屋\n",
      "名古屋 のデータは 60 です。\n",
      "データを削除しました。\n",
      "現在のデータは {'大阪': 50, '京都': 30, '仙台': 40, '福岡': 75, '東京': 80} です。\n"
     ]
    }
   ],
   "source": [
    "sale = {\"東京\":80, \"名古屋\":60, \"京都\":22, \"大阪\":50, \"福岡\":75}\n",
    "print(\"現在のデータは\", sale, \"です。\")\n",
    "\n",
    "k = input(\"追加するキーを入力してください。\")\n",
    "if k in sale:\n",
    "    print(k, \"のデータはすでに存在しています。\")\n",
    "else:\n",
    "    d = int(input(\"追加するデータを入力してください。\"))\n",
    "    sale[k] = d\n",
    "    print(k, \"のデータとして\", sale[k], \"を追加しました。\")\n",
    "print(\"現在のデータは\", sale, \"です。\")\n",
    "\n",
    "k = input(\"どのキーのデータを変更しますか？\")\n",
    "if k in sale:\n",
    "    print(k, \"のデータは\", sale[k], \"です。\")\n",
    "    d = int(input(\"データを入力してください。\"))\n",
    "    sale[k] = d\n",
    "    print(k, \"のデータは\", sale[k], \"に変更されました。\")\n",
    "else:\n",
    "    print(k, \"のデータはみつかりませんでした。\")\n",
    "print(\"現在のデータは\", sale, \"です。\")\n",
    "\n",
    "k = input(\"どのキーのデータを削除しますか？\")\n",
    "if k in sale:\n",
    "    print(k, \"のデータは\", sale[k], \"です。\")\n",
    "    del sale[k]\n",
    "    print(\"データを削除しました。\")\n",
    "else:\n",
    "    print(k, \"のデータはみつかりませんでした。\")\n",
    "print(\"現在のデータは\", sale, \"です。\")\n"
   ]
  },
  {
   "cell_type": "markdown",
   "metadata": {},
   "source": [
    "<h3>Sample4.py</h3>"
   ]
  },
  {
   "cell_type": "code",
   "execution_count": 7,
   "metadata": {},
   "outputs": [
    {
     "name": "stdout",
     "output_type": "stream",
     "text": [
      "現在のデータは {'名古屋': 60, '大阪': 50, '京都': 22, '福岡': 75, '東京': 80} です。\n",
      "キーを表示します。\n",
      "名古屋\t大阪\t京都\t福岡\t東京\t\n",
      "値を表示します。\n",
      "60\t50\t22\t75\t80\t\n",
      "キーと値を表示します。\n",
      "('名古屋', 60)('大阪', 50)('京都', 22)('福岡', 75)('東京', 80)\n"
     ]
    }
   ],
   "source": [
    "sale = {\"東京\":80, \"名古屋\":60, \"京都\":22, \"大阪\":50, \"福岡\":75}\n",
    "print(\"現在のデータは\", sale, \"です。\")\n",
    "\n",
    "print(\"キーを表示します。\")\n",
    "for k in sale.keys():\n",
    "    print(k, end=\"\\t\")\n",
    "print()\n",
    "\n",
    "print(\"値を表示します。\")\n",
    "for v in sale.values():\n",
    "    print(v, end=\"\\t\")\n",
    "print()\n",
    "\n",
    "print(\"キーと値を表示します。\")\n",
    "for i in sale.items():\n",
    "    print(i, end=\"\")\n",
    "print()"
   ]
  },
  {
   "cell_type": "markdown",
   "metadata": {},
   "source": [
    "<h3>Sample5.py</h3>"
   ]
  },
  {
   "cell_type": "code",
   "execution_count": 8,
   "metadata": {},
   "outputs": [
    {
     "name": "stdout",
     "output_type": "stream",
     "text": [
      "1のデータは {'名古屋': 60, '京都': 22, '東京': 80} です。\n",
      "2のデータは {'大阪': 50, '京都': 100, '福岡': 75} です。\n",
      "1を2で更新します。\n",
      "1のデータは {'名古屋': 60, '大阪': 50, '京都': 100, '福岡': 75, '東京': 80} です。\n"
     ]
    }
   ],
   "source": [
    "sale1 = {\"東京\":80, \"名古屋\":60, \"京都\":22}\n",
    "sale2 = {\"京都\":100, \"大阪\":50, \"福岡\":75}\n",
    "\n",
    "print(\"1のデータは\", sale1, \"です。\")\n",
    "print(\"2のデータは\", sale2, \"です。\")\n",
    "\n",
    "print(\"1を2で更新します。\")\n",
    "\n",
    "sale1.update(sale2)\n",
    "\n",
    "print(\"1のデータは\", sale1, \"です。\")\n"
   ]
  },
  {
   "cell_type": "markdown",
   "metadata": {},
   "source": [
    "<h3>Sample6.py</h3>"
   ]
  },
  {
   "cell_type": "code",
   "execution_count": 9,
   "metadata": {},
   "outputs": [
    {
     "name": "stdout",
     "output_type": "stream",
     "text": [
      "現在のデータは {'名古屋', '大阪', '京都', '福岡', '東京'} です。\n",
      "追加するデータを入力してください。東京\n",
      "東京 はすでに存在しています。\n",
      "現在のデータは {'名古屋', '大阪', '京都', '福岡', '東京'} です。\n",
      "削除するデータを入力してください。札幌\n",
      "札幌 はみつかりませんでした。\n",
      "現在のデータは {'名古屋', '大阪', '京都', '福岡', '東京'} です。\n"
     ]
    }
   ],
   "source": [
    "city = {\"東京\", \"名古屋\", \"京都\", \"大阪\", \"福岡\"}\n",
    "print(\"現在のデータは\", city, \"です。\")\n",
    "\n",
    "d = input(\"追加するデータを入力してください。\")\n",
    "if d in city:\n",
    "    print(d, \"はすでに存在しています。\")\n",
    "else:\n",
    "    city.add(d)\n",
    "    print(d, \"を追加しました。\")\n",
    "print(\"現在のデータは\", city, \"です。\")\n",
    "\n",
    "d = input(\"削除するデータを入力してください。\")\n",
    "if d in city:\n",
    "    city.remove(d)\n",
    "    print(d, \"を削除しました。\")\n",
    "else:\n",
    "    print(d, \"はみつかりませんでした。\")\n",
    "print(\"現在のデータは\", city, \"です。\")\n"
   ]
  },
  {
   "cell_type": "markdown",
   "metadata": {},
   "source": [
    "<h3>Sample7.py</h3>"
   ]
  },
  {
   "cell_type": "code",
   "execution_count": 10,
   "metadata": {},
   "outputs": [
    {
     "name": "stdout",
     "output_type": "stream",
     "text": [
      "Aの都市名は {'名古屋', '大阪', '京都', '東京'} です。\n",
      "Bの都市名は {'大阪', '京都', '福岡'} です。\n",
      "共通するデータは {'大阪', '京都'} です。\n",
      "Aのみのデータは {'名古屋', '東京'} です。\n",
      "Bのみのデータは {'福岡'} です。\n",
      "すべてのデータは {'大阪', '福岡', '名古屋', '京都', '東京'} です。\n"
     ]
    }
   ],
   "source": [
    "cityA = {\"東京\", \"名古屋\", \"京都\", \"大阪\"}\n",
    "cityB = {\"京都\", \"大阪\", \"福岡\"}\n",
    "\n",
    "print(\"Aの都市名は\", cityA, \"です。\")\n",
    "print(\"Bの都市名は\", cityB, \"です。\")\n",
    "\n",
    "print(\"共通するデータは\", cityA & cityB, \"です。\")\n",
    "print(\"Aのみのデータは\",  cityA - cityB, \"です。\")\n",
    "print(\"Bのみのデータは\",  cityB - cityA, \"です。\")\n",
    "print(\"すべてのデータは\", cityA | cityB, \"です。\")\n"
   ]
  },
  {
   "cell_type": "code",
   "execution_count": null,
   "metadata": {},
   "outputs": [],
   "source": []
  }
 ],
 "metadata": {
  "kernelspec": {
   "display_name": "Python 3",
   "language": "python",
   "name": "python3"
  },
  "language_info": {
   "codemirror_mode": {
    "name": "ipython",
    "version": 3
   },
   "file_extension": ".py",
   "mimetype": "text/x-python",
   "name": "python",
   "nbconvert_exporter": "python",
   "pygments_lexer": "ipython3",
   "version": "3.5.5"
  }
 },
 "nbformat": 4,
 "nbformat_minor": 2
}
