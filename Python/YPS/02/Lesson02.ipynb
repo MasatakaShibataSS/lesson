{
 "cells": [
  {
   "cell_type": "markdown",
   "metadata": {},
   "source": [
    "<h3>Sample1.py</h3>"
   ]
  },
  {
   "cell_type": "code",
   "execution_count": 1,
   "metadata": {},
   "outputs": [
    {
     "name": "stdout",
     "output_type": "stream",
     "text": [
      "ようこそPythonへ!\n",
      "Pythonをはじめましょう!\n"
     ]
    }
   ],
   "source": [
    "print(\"ようこそPythonへ!\")\n",
    "print(\"Pythonをはじめましょう!\")\n"
   ]
  },
  {
   "cell_type": "markdown",
   "metadata": {},
   "source": [
    "<h3>Sample2.py</h3>"
   ]
  },
  {
   "cell_type": "code",
   "execution_count": 4,
   "metadata": {
    "scrolled": true
   },
   "outputs": [
    {
     "name": "stdout",
     "output_type": "stream",
     "text": [
      "1\n",
      "3.14\n"
     ]
    }
   ],
   "source": [
    "print(1)\n",
    "print(3.14)"
   ]
  },
  {
   "cell_type": "markdown",
   "metadata": {},
   "source": [
    "<h3>Sample3.py</h3>"
   ]
  },
  {
   "cell_type": "code",
   "execution_count": 3,
   "metadata": {},
   "outputs": [
    {
     "name": "stdout",
     "output_type": "stream",
     "text": [
      "10進数の10は 10 です。\n",
      "2進数の10は 2 です。\n",
      "8進数の10は 8 です。\n",
      "16進数の10は 16 です。\n",
      "16進数のFは 15 です。\n"
     ]
    }
   ],
   "source": [
    "print(\"10進数の10は\", 10, \"です。\")\n",
    "print(\"2進数の10は\", 0b10, \"です。\")\n",
    "print(\"8進数の10は\", 0o10, \"です。\")\n",
    "print(\"16進数の10は\", 0x10, \"です。\")\n",
    "print(\"16進数のFは\", 0xF, \"です。\")"
   ]
  },
  {
   "cell_type": "markdown",
   "metadata": {},
   "source": [
    "<h3>Sample4.py</h3>"
   ]
  },
  {
   "cell_type": "code",
   "execution_count": 5,
   "metadata": {},
   "outputs": [
    {
     "name": "stdout",
     "output_type": "stream",
     "text": [
      "円記号を表示します。:\\\n",
      "アポストロフィを表示します。:'\n"
     ]
    }
   ],
   "source": [
    "print(\"円記号を表示します。:\\\\\")\n",
    "print(\"アポストロフィを表示します。:\\'\")"
   ]
  },
  {
   "cell_type": "code",
   "execution_count": null,
   "metadata": {},
   "outputs": [],
   "source": []
  }
 ],
 "metadata": {
  "kernelspec": {
   "display_name": "Python 3",
   "language": "python",
   "name": "python3"
  },
  "language_info": {
   "codemirror_mode": {
    "name": "ipython",
    "version": 3
   },
   "file_extension": ".py",
   "mimetype": "text/x-python",
   "name": "python",
   "nbconvert_exporter": "python",
   "pygments_lexer": "ipython3",
   "version": "3.5.5"
  }
 },
 "nbformat": 4,
 "nbformat_minor": 2
}
