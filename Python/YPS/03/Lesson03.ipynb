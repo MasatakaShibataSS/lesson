{
 "cells": [
  {
   "cell_type": "markdown",
   "metadata": {},
   "source": [
    "<h3>Sample1.py</h3>"
   ]
  },
  {
   "cell_type": "code",
   "execution_count": 3,
   "metadata": {},
   "outputs": [
    {
     "name": "stdout",
     "output_type": "stream",
     "text": [
      "売上は 10 万円です。\n"
     ]
    }
   ],
   "source": [
    "sale = 10\n",
    "print(\"売上は\", sale, \"万円です。\")\n"
   ]
  },
  {
   "cell_type": "markdown",
   "metadata": {},
   "source": [
    "<h3>Sample2.py</h3>"
   ]
  },
  {
   "cell_type": "code",
   "execution_count": 4,
   "metadata": {},
   "outputs": [
    {
     "name": "stdout",
     "output_type": "stream",
     "text": [
      "売上は 10 万円です。\n",
      "売上の値を変更します。\n",
      "売上は 20 万円です。\n"
     ]
    }
   ],
   "source": [
    "sale = 10\n",
    "print(\"売上は\", sale, \"万円です。\")\n",
    "print(\"売上の値を変更します。\")\n",
    "sale = 20\n",
    "print(\"売上は\", sale, \"万円です。\")"
   ]
  },
  {
   "cell_type": "markdown",
   "metadata": {},
   "source": [
    "<h3>Sample3.py</h3>"
   ]
  },
  {
   "cell_type": "code",
   "execution_count": 5,
   "metadata": {},
   "outputs": [
    {
     "name": "stdout",
     "output_type": "stream",
     "text": [
      "東京 支店の売上は 10 万円です。\n"
     ]
    }
   ],
   "source": [
    "name = \"東京\"\n",
    "sale = 10\n",
    "print(name, \"支店の売上は\", sale, \"万円です。\")"
   ]
  },
  {
   "cell_type": "markdown",
   "metadata": {},
   "source": [
    "<h3>Sample4.py</h3>"
   ]
  },
  {
   "cell_type": "code",
   "execution_count": 5,
   "metadata": {},
   "outputs": [
    {
     "name": "stdout",
     "output_type": "stream",
     "text": [
      "1+2は 3 です。\n"
     ]
    }
   ],
   "source": [
    "print(\"1+2は\", 1+2 , \"です。\")"
   ]
  },
  {
   "cell_type": "markdown",
   "metadata": {},
   "source": [
    "<h3>Sample5.py</h3>"
   ]
  },
  {
   "cell_type": "code",
   "execution_count": 8,
   "metadata": {},
   "outputs": [
    {
     "name": "stdout",
     "output_type": "stream",
     "text": [
      "単価は 50 円です。\n",
      "売上個数は 10 個です。\n",
      "合計金額は 500 円です。\n",
      "値引きすると 400 円です。\n"
     ]
    }
   ],
   "source": [
    "price = 50\n",
    "num = 10\n",
    "total = price * num\n",
    "print(\"単価は\", price, \"円です。\")\n",
    "print(\"売上個数は\", num, \"個です。\")\n",
    "print(\"合計金額は\", total, \"円です。\")\n",
    "\n",
    "total = total - 100\n",
    "\n",
    "print(\"値引きすると\", total, \"円です。\")\n"
   ]
  },
  {
   "cell_type": "markdown",
   "metadata": {},
   "source": [
    "<h3>Sample6.py</h3>"
   ]
  },
  {
   "cell_type": "code",
   "execution_count": 9,
   "metadata": {},
   "outputs": [
    {
     "name": "stdout",
     "output_type": "stream",
     "text": [
      "num1+num2は 15 です。\n",
      "num1-num2は 5 です。\n",
      "num1*num2は 50 です。\n",
      "num1/num2は 2.0 です。\n",
      "num1%num2は 0 です。\n"
     ]
    }
   ],
   "source": [
    "num1 = 10\n",
    "num2 = 5\n",
    "print(\"num1+num2は\" , num1+num2 , \"です。\")\n",
    "print(\"num1-num2は\" , num1-num2 , \"です。\")\n",
    "print(\"num1*num2は\" , num1*num2 , \"です。\")\n",
    "print(\"num1/num2は\" , num1/num2 , \"です。\")\n",
    "print(\"num1%num2は\" , num1%num2 , \"です。\")\n"
   ]
  },
  {
   "cell_type": "markdown",
   "metadata": {},
   "source": [
    "<h3>Sample7.py</h3>"
   ]
  },
  {
   "cell_type": "code",
   "execution_count": 10,
   "metadata": {},
   "outputs": [
    {
     "name": "stdout",
     "output_type": "stream",
     "text": [
      "売上：〇〇〇〇〇〇〇〇〇〇\n",
      "10 万円の売上があります。\n"
     ]
    }
   ],
   "source": [
    "num = 10\n",
    "pic = \"〇\"\n",
    "graph = pic * num\n",
    "print(\"売上：\" + graph)\n",
    "print(num , \"万円の売上があります。\")\n"
   ]
  },
  {
   "cell_type": "markdown",
   "metadata": {},
   "source": [
    "<h3>Sample8.py</h3>"
   ]
  },
  {
   "cell_type": "code",
   "execution_count": 11,
   "metadata": {},
   "outputs": [
    {
     "name": "stdout",
     "output_type": "stream",
     "text": [
      "値を入力してください。100\n",
      "100 が入力されました。\n"
     ]
    }
   ],
   "source": [
    "n = input(\"値を入力してください。\")\n",
    "print(n , \"が入力されました。\")"
   ]
  },
  {
   "cell_type": "markdown",
   "metadata": {},
   "source": [
    "<h3>Sample9.py</h3>"
   ]
  },
  {
   "cell_type": "code",
   "execution_count": 12,
   "metadata": {},
   "outputs": [
    {
     "name": "stdout",
     "output_type": "stream",
     "text": [
      "整数1を入力してください。10\n",
      "整数2を入力してください。20\n",
      "10 + 20 は 30 です。\n"
     ]
    }
   ],
   "source": [
    "num1 = int(input(\"整数1を入力してください。\"))\n",
    "num2 = int(input(\"整数2を入力してください。\"))\n",
    "num3 = num1 + num2\n",
    "print(num1 , \"+\" , num2 , \"は\" , num3 , \"です。\")"
   ]
  },
  {
   "cell_type": "code",
   "execution_count": null,
   "metadata": {},
   "outputs": [],
   "source": []
  }
 ],
 "metadata": {
  "kernelspec": {
   "display_name": "Python 3",
   "language": "python",
   "name": "python3"
  },
  "language_info": {
   "codemirror_mode": {
    "name": "ipython",
    "version": 3
   },
   "file_extension": ".py",
   "mimetype": "text/x-python",
   "name": "python",
   "nbconvert_exporter": "python",
   "pygments_lexer": "ipython3",
   "version": "3.5.5"
  }
 },
 "nbformat": 4,
 "nbformat_minor": 2
}
