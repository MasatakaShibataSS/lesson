{
 "cells": [
  {
   "cell_type": "markdown",
   "metadata": {},
   "source": [
    "<h3>Sample1.py</h3>"
   ]
  },
  {
   "cell_type": "code",
   "execution_count": 4,
   "metadata": {},
   "outputs": [
    {
     "name": "stdout",
     "output_type": "stream",
     "text": [
      "販売が行われました。\n"
     ]
    }
   ],
   "source": [
    "def sell():\n",
    "    print(\"販売が行われました。\")\n",
    "\n",
    "sell()\n"
   ]
  },
  {
   "cell_type": "markdown",
   "metadata": {},
   "source": [
    "<h3>Sample2.py</h3>"
   ]
  },
  {
   "cell_type": "code",
   "execution_count": 5,
   "metadata": {},
   "outputs": [
    {
     "name": "stdout",
     "output_type": "stream",
     "text": [
      "販売が行われました。\n",
      "もう1度販売を行います。\n",
      "販売が行われました。\n"
     ]
    }
   ],
   "source": [
    "def sell():\n",
    "    print(\"販売が行われました。\")\n",
    "\n",
    "sell()\n",
    "\n",
    "print(\"もう1度販売を行います。\")\n",
    "\n",
    "sell()\n"
   ]
  },
  {
   "cell_type": "markdown",
   "metadata": {},
   "source": [
    "<h3>Sample3.py</h3>"
   ]
  },
  {
   "cell_type": "code",
   "execution_count": 6,
   "metadata": {},
   "outputs": [
    {
     "name": "stdout",
     "output_type": "stream",
     "text": [
      "東京 支店の販売が行われました。\n",
      "大阪 支店の販売が行われました。\n"
     ]
    }
   ],
   "source": [
    "def sell(place):\n",
    "    print(place, \"支店の販売が行われました。\")\n",
    "\n",
    "sell(\"東京\")\n",
    "\n",
    "sell(\"大阪\")\n"
   ]
  },
  {
   "cell_type": "markdown",
   "metadata": {},
   "source": [
    "<h3>Sample4.py</h3>"
   ]
  },
  {
   "cell_type": "code",
   "execution_count": 8,
   "metadata": {
    "scrolled": true
   },
   "outputs": [
    {
     "name": "stdout",
     "output_type": "stream",
     "text": [
      "東京 支店の販売が行われました。\n"
     ]
    }
   ],
   "source": [
    "def sell(place):\n",
    "    print(place, \"支店の販売が行われました。\")\n",
    "\n",
    "shop = \"東京\"\n",
    "\n",
    "sell(shop)"
   ]
  },
  {
   "cell_type": "markdown",
   "metadata": {},
   "source": [
    "<h3>Sample5.py</h3>"
   ]
  },
  {
   "cell_type": "code",
   "execution_count": 9,
   "metadata": {},
   "outputs": [
    {
     "name": "stdout",
     "output_type": "stream",
     "text": [
      "東京 支店で 5 万円の販売が行われました。\n"
     ]
    }
   ],
   "source": [
    "def sell(place, num):\n",
    "    print(place, \"支店で\", num, \"万円の販売が行われました。\")\n",
    "\n",
    "sell(\"東京\", 5)\n"
   ]
  },
  {
   "cell_type": "markdown",
   "metadata": {},
   "source": [
    "<h3>Sample6.py</h3>"
   ]
  },
  {
   "cell_type": "code",
   "execution_count": 10,
   "metadata": {},
   "outputs": [
    {
     "name": "stdout",
     "output_type": "stream",
     "text": [
      "東京 支店で 5 社に 100 万円の販売が行われました。\n",
      "売上は 500 万円でした。\n"
     ]
    }
   ],
   "source": [
    "def sell(place, price, num):\n",
    "    print(place, \"支店で\", num, \"社に\", price, \"万円の販売が行われました。\")\n",
    "    tt = price * num\n",
    "    return tt\n",
    "\n",
    "total = sell(\"東京\", 100, 5)\n",
    "\n",
    "print(\"売上は\", total, \"万円でした。\")"
   ]
  },
  {
   "cell_type": "markdown",
   "metadata": {},
   "source": [
    "<h3>Sample7.py</h3>"
   ]
  },
  {
   "cell_type": "code",
   "execution_count": 11,
   "metadata": {},
   "outputs": [
    {
     "name": "stdout",
     "output_type": "stream",
     "text": [
      "2018 年 10 月 1 日に販売が行われました。\n",
      "販売完了: 2018 10 1\n"
     ]
    }
   ],
   "source": [
    "def sell():\n",
    "    y = 2018\n",
    "    m = 10\n",
    "    d = 1\n",
    "    print(y, \"年\", m, \"月\", d, \"日に販売が行われました。\")\n",
    "\n",
    "    return y, m, d\n",
    "\n",
    "sy, sm, sd = sell()\n",
    "\n",
    "print(\"販売完了:\", sy, sm, sd)\n"
   ]
  },
  {
   "cell_type": "markdown",
   "metadata": {},
   "source": [
    "<h3>Sample8.py</h3>"
   ]
  },
  {
   "cell_type": "code",
   "execution_count": 12,
   "metadata": {},
   "outputs": [
    {
     "name": "stdout",
     "output_type": "stream",
     "text": [
      "操作番号を入力してください。（0～2）1\n",
      "データを変更します。\n"
     ]
    }
   ],
   "source": [
    "def append():\n",
    "    print(\"データを追加します。\")\n",
    "def update():\n",
    "    print(\"データを変更します。\")\n",
    "def delete():\n",
    "    print(\"データを削除します。\")\n",
    "\n",
    "list = [append, update, delete]\n",
    "\n",
    "res = int(input(\"操作番号を入力してください。（0～2）\"))\n",
    "\n",
    "if 0 <= res and res < len(list):\n",
    "    list[res]()\n"
   ]
  },
  {
   "cell_type": "markdown",
   "metadata": {},
   "source": [
    "<h3>Sample9.py</h3>"
   ]
  },
  {
   "cell_type": "code",
   "execution_count": 13,
   "metadata": {},
   "outputs": [
    {
     "name": "stdout",
     "output_type": "stream",
     "text": [
      "2\n",
      "4\n",
      "6\n",
      "8\n",
      "10\n"
     ]
    }
   ],
   "source": [
    "data = [1, 2, 3, 4, 5]\n",
    "\n",
    "for d in map(lambda x: x*2, data):\n",
    "    print(d)\n"
   ]
  },
  {
   "cell_type": "markdown",
   "metadata": {},
   "source": [
    "<h3>Sample10.py</h3>"
   ]
  },
  {
   "cell_type": "code",
   "execution_count": 14,
   "metadata": {},
   "outputs": [
    {
     "name": "stdout",
     "output_type": "stream",
     "text": [
      "メッセージを入力してください。Hello\n",
      "---Hello--- を入力しました。\n"
     ]
    }
   ],
   "source": [
    "def deco(func):\n",
    "    def wrapper(x):\n",
    "        wx = \"---\" + x + \"---\"\n",
    "        return func(wx)\n",
    "    return wrapper\n",
    "\n",
    "@deco\n",
    "def printmsg(x):\n",
    "    print(x, \"を入力しました。\")\n",
    "\n",
    "str = input(\"メッセージを入力してください。\")\n",
    "\n",
    "printmsg(str)\n"
   ]
  },
  {
   "cell_type": "markdown",
   "metadata": {},
   "source": [
    "<h3>Sample11.py</h3>"
   ]
  },
  {
   "cell_type": "code",
   "execution_count": 15,
   "metadata": {},
   "outputs": [
    {
     "name": "stdout",
     "output_type": "stream",
     "text": [
      "関数の外で変数aが使えます。\n",
      "変数aの値は 0 です。\n",
      "funcBのなかでは変数aと変数bが使えます。\n",
      "変数aの値は 0 です。\n",
      "変数bの値は 1 です。\n",
      "funcCのなかでは変数aと変数cが使えます。\n",
      "変数aの値は 0 です。\n",
      "変数cの値は 2 です。\n"
     ]
    }
   ],
   "source": [
    "a = 0\n",
    "\n",
    "def funcB():\n",
    "\n",
    "    b = 1\n",
    "   \n",
    "    print(\"funcBのなかでは変数aと変数bが使えます。\")\n",
    "    print(\"変数aの値は\", a, \"です。\")\n",
    "    print(\"変数bの値は\", b, \"です。\")\n",
    "    #print(\"変数cの値は\", c, \"です。\")\n",
    "\n",
    "def funcC():\n",
    "\n",
    "    c = 2\n",
    "   \n",
    "    print(\"funcCのなかでは変数aと変数cが使えます。\")\n",
    "    print(\"変数aの値は\", a, \"です。\")\n",
    "    #print(\"変数bの値は\", b, \"です。\")\n",
    "    print(\"変数cの値は\", c, \"です。\")\n",
    "\n",
    "\n",
    "print(\"関数の外で変数aが使えます。\")\n",
    "print(\"変数aの値は\", a, \"です。\")\n",
    "#print(\"変数bの値は\", b, \"です。\")\n",
    "#print(\"変数cの値は\", c, \"です。\")\n",
    "\n",
    "funcB()\n",
    "funcC()\n"
   ]
  },
  {
   "cell_type": "markdown",
   "metadata": {},
   "source": [
    "<h3>Sample12.py</h3>"
   ]
  },
  {
   "cell_type": "code",
   "execution_count": 16,
   "metadata": {},
   "outputs": [
    {
     "name": "stdout",
     "output_type": "stream",
     "text": [
      "変数aは 0 変数bは 0\n",
      "変数aは 1 変数bは 0\n",
      "変数aは 2 変数bは 0\n",
      "変数aは 3 変数bは 0\n",
      "変数aは 4 変数bは 0\n"
     ]
    }
   ],
   "source": [
    "a = 0\n",
    "\n",
    "def func():\n",
    "    global a\n",
    "    b = 0\n",
    "    \n",
    "    print(\"変数aは\", a, \"変数bは\", b)\n",
    "    \n",
    "    a = a+1\n",
    "    b = b+1\n",
    "\n",
    "for i in range(5):\n",
    "    func()\n"
   ]
  },
  {
   "cell_type": "code",
   "execution_count": null,
   "metadata": {},
   "outputs": [],
   "source": []
  }
 ],
 "metadata": {
  "kernelspec": {
   "display_name": "Python 3",
   "language": "python",
   "name": "python3"
  },
  "language_info": {
   "codemirror_mode": {
    "name": "ipython",
    "version": 3
   },
   "file_extension": ".py",
   "mimetype": "text/x-python",
   "name": "python",
   "nbconvert_exporter": "python",
   "pygments_lexer": "ipython3",
   "version": "3.5.5"
  }
 },
 "nbformat": 4,
 "nbformat_minor": 2
}
