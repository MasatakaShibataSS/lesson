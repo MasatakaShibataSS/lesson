{
 "cells": [
  {
   "cell_type": "code",
   "execution_count": 60,
   "metadata": {},
   "outputs": [
    {
     "data": {
      "image/png": "[encoded data removed]",
      "text/plain": [
       "<Figure size 432x288 with 1 Axes>"
      ]
     },
     "metadata": {
      "needs_background": "light"
     },
     "output_type": "display_data"
    }
   ],
   "source": [
    "#各方程式を設定するためにNumPyをインポート\n",
    "import numpy as np\n",
    "# matplotlibのpyplotをpltでインポート\n",
    "import matplotlib.pyplot as plt\n",
    "%matplotlib inline\n",
    "\n",
    "# x軸の領域と精度を設定し、x値を用意\n",
    "x = np.arange(-3, 3, 0.1)\n",
    "\n",
    "#各方程式のy値を用意\n",
    "y_sin = np.sin(x)\n",
    "x_rand = np.random.rand(100) * 6 - 3\n",
    "y_rand = np.random.rand(100) * 6 - 3\n",
    "\n",
    "# figureオブジェクトを作成\n",
    "plt.figure()\n",
    "\n",
    "# 1つのグラフで表示する設定\n",
    "plt.subplot(1, 1, 1)\n",
    "\n",
    "#各方程式の線形とマーカー、ラベルを設定し、プロット\n",
    "##線形図\n",
    "plt.plot(x, y_sin, marker='o', markersize=5, label='line')\n",
    "\n",
    "##散布図\n",
    "plt.scatter(x_rand, y_rand, c=\"orange\",label='scatter')\n",
    "\n",
    "#凡例表示を設定\n",
    "plt.legend()\n",
    "#グリッド線を表示\n",
    "plt.grid(True)\n",
    "\n",
    "#グラフ表示\n",
    "plt.show()"
   ]
  },
  {
   "cell_type": "code",
   "execution_count": 5,
   "metadata": {},
   "outputs": [],
   "source": [
    "x = np.array([1,2,3])"
   ]
  },
  {
   "cell_type": "code",
   "execution_count": 6,
   "metadata": {},
   "outputs": [
    {
     "data": {
      "text/plain": [
       "array([1, 2, 3])"
      ]
     },
     "execution_count": 6,
     "metadata": {},
     "output_type": "execute_result"
    }
   ],
   "source": [
    "x"
   ]
  },
  {
   "cell_type": "code",
   "execution_count": 8,
   "metadata": {},
   "outputs": [
    {
     "name": "stdout",
     "output_type": "stream",
     "text": [
      "[[1 2 3]\n",
      " [4 5 6]]\n"
     ]
    }
   ],
   "source": [
    "A = np.array([[1,2,3],[4,5,6,]])\n",
    "print(A)"
   ]
  },
  {
   "cell_type": "code",
   "execution_count": 12,
   "metadata": {},
   "outputs": [
    {
     "name": "stdout",
     "output_type": "stream",
     "text": [
      "(2, 3)\n"
     ]
    }
   ],
   "source": [
    "print(A.shape)"
   ]
  },
  {
   "cell_type": "code",
   "execution_count": 13,
   "metadata": {},
   "outputs": [
    {
     "name": "stdout",
     "output_type": "stream",
     "text": [
      "int64\n"
     ]
    }
   ],
   "source": [
    "print(A.dtype)"
   ]
  },
  {
   "cell_type": "code",
   "execution_count": 18,
   "metadata": {},
   "outputs": [
    {
     "name": "stdout",
     "output_type": "stream",
     "text": [
      "[[1]\n",
      " [4]]\n"
     ]
    }
   ],
   "source": [
    "print(A[:, 0:1])"
   ]
  },
  {
   "cell_type": "code",
   "execution_count": 19,
   "metadata": {},
   "outputs": [
    {
     "name": "stdout",
     "output_type": "stream",
     "text": [
      "[1 4]\n"
     ]
    }
   ],
   "source": [
    "print(A[:, 0])"
   ]
  },
  {
   "cell_type": "code",
   "execution_count": 20,
   "metadata": {},
   "outputs": [
    {
     "name": "stdout",
     "output_type": "stream",
     "text": [
      "[[1 4]\n",
      " [2 5]\n",
      " [3 6]]\n"
     ]
    }
   ],
   "source": [
    "print(A.T)"
   ]
  },
  {
   "cell_type": "code",
   "execution_count": 22,
   "metadata": {},
   "outputs": [
    {
     "name": "stdout",
     "output_type": "stream",
     "text": [
      "(3, 2)\n"
     ]
    }
   ],
   "source": [
    "print(A.T.shape)"
   ]
  },
  {
   "cell_type": "code",
   "execution_count": 23,
   "metadata": {},
   "outputs": [
    {
     "data": {
      "text/plain": [
       "array([[1, 2, 3, 4, 5, 6]])"
      ]
     },
     "execution_count": 23,
     "metadata": {},
     "output_type": "execute_result"
    }
   ],
   "source": [
    "A.reshape(1,-1)"
   ]
  },
  {
   "cell_type": "code",
   "execution_count": 24,
   "metadata": {},
   "outputs": [
    {
     "data": {
      "text/plain": [
       "array([[1, 2, 3],\n",
       "       [4, 5, 6]])"
      ]
     },
     "execution_count": 24,
     "metadata": {},
     "output_type": "execute_result"
    }
   ],
   "source": [
    "A"
   ]
  },
  {
   "cell_type": "code",
   "execution_count": 61,
   "metadata": {},
   "outputs": [
    {
     "data": {
      "text/plain": [
       "array([[1],\n",
       "       [2],\n",
       "       [3],\n",
       "       [4],\n",
       "       [5],\n",
       "       [6]])"
      ]
     },
     "execution_count": 61,
     "metadata": {},
     "output_type": "execute_result"
    }
   ],
   "source": [
    "A.reshape(-1,1)"
   ]
  },
  {
   "cell_type": "code",
   "execution_count": 32,
   "metadata": {},
   "outputs": [],
   "source": [
    "B = np.ones((2,3))"
   ]
  },
  {
   "cell_type": "code",
   "execution_count": 33,
   "metadata": {},
   "outputs": [
    {
     "data": {
      "text/plain": [
       "array([[1., 1., 1.],\n",
       "       [1., 1., 1.]])"
      ]
     },
     "execution_count": 33,
     "metadata": {},
     "output_type": "execute_result"
    }
   ],
   "source": [
    "B"
   ]
  },
  {
   "cell_type": "code",
   "execution_count": 34,
   "metadata": {},
   "outputs": [
    {
     "data": {
      "text/plain": [
       "array([[1., 2., 3.],\n",
       "       [4., 5., 6.],\n",
       "       [1., 1., 1.],\n",
       "       [1., 1., 1.]])"
      ]
     },
     "execution_count": 34,
     "metadata": {},
     "output_type": "execute_result"
    }
   ],
   "source": [
    "np.r_[A,B]"
   ]
  },
  {
   "cell_type": "code",
   "execution_count": 36,
   "metadata": {},
   "outputs": [
    {
     "data": {
      "text/plain": [
       "array([[1., 2., 3., 1., 1., 1.],\n",
       "       [4., 5., 6., 1., 1., 1.]])"
      ]
     },
     "execution_count": 36,
     "metadata": {},
     "output_type": "execute_result"
    }
   ],
   "source": [
    "np.c_[A,B]"
   ]
  },
  {
   "cell_type": "code",
   "execution_count": 39,
   "metadata": {},
   "outputs": [
    {
     "data": {
      "text/plain": [
       "array([[ 5,  7,  9],\n",
       "       [ 8, 10, 12]])"
      ]
     },
     "execution_count": 39,
     "metadata": {},
     "output_type": "execute_result"
    }
   ],
   "source": [
    "A + A[-1]"
   ]
  },
  {
   "cell_type": "code",
   "execution_count": 40,
   "metadata": {},
   "outputs": [
    {
     "data": {
      "text/plain": [
       "array([[ 2,  4,  6],\n",
       "       [ 8, 10, 12]])"
      ]
     },
     "execution_count": 40,
     "metadata": {},
     "output_type": "execute_result"
    }
   ],
   "source": [
    "A + A"
   ]
  },
  {
   "cell_type": "code",
   "execution_count": 41,
   "metadata": {},
   "outputs": [
    {
     "data": {
      "text/plain": [
       "array([4, 5, 6])"
      ]
     },
     "execution_count": 41,
     "metadata": {},
     "output_type": "execute_result"
    }
   ],
   "source": [
    "A[-1]"
   ]
  },
  {
   "cell_type": "code",
   "execution_count": 42,
   "metadata": {},
   "outputs": [
    {
     "data": {
      "text/plain": [
       "array([[1, 2, 3],\n",
       "       [4, 5, 6]])"
      ]
     },
     "execution_count": 42,
     "metadata": {},
     "output_type": "execute_result"
    }
   ],
   "source": [
    "A"
   ]
  },
  {
   "cell_type": "code",
   "execution_count": 43,
   "metadata": {},
   "outputs": [
    {
     "data": {
      "text/plain": [
       "[1, 2, 3, 4, 5, 6]"
      ]
     },
     "execution_count": 43,
     "metadata": {},
     "output_type": "execute_result"
    }
   ],
   "source": [
    "L1 = [1,2,3]\n",
    "L2 = [4,5,6]\n",
    "L1 + L2"
   ]
  },
  {
   "cell_type": "code",
   "execution_count": 44,
   "metadata": {},
   "outputs": [
    {
     "data": {
      "text/plain": [
       "array([[0., 1., 2.],\n",
       "       [3., 4., 5.]])"
      ]
     },
     "execution_count": 44,
     "metadata": {},
     "output_type": "execute_result"
    }
   ],
   "source": [
    "A-B"
   ]
  },
  {
   "cell_type": "code",
   "execution_count": 56,
   "metadata": {},
   "outputs": [],
   "source": [
    "C = np.array([[1,2,3]])"
   ]
  },
  {
   "cell_type": "code",
   "execution_count": 57,
   "metadata": {},
   "outputs": [
    {
     "name": "stdout",
     "output_type": "stream",
     "text": [
      "[[1 2 3]]\n"
     ]
    }
   ],
   "source": [
    "print(C)"
   ]
  },
  {
   "cell_type": "code",
   "execution_count": 58,
   "metadata": {},
   "outputs": [
    {
     "name": "stdout",
     "output_type": "stream",
     "text": [
      "[[2 4 6]\n",
      " [5 7 9]]\n"
     ]
    }
   ],
   "source": [
    "print(A+C)"
   ]
  },
  {
   "cell_type": "code",
   "execution_count": 59,
   "metadata": {},
   "outputs": [
    {
     "name": "stdout",
     "output_type": "stream",
     "text": [
      "[[1 2 3]\n",
      " [4 5 6]]\n"
     ]
    }
   ],
   "source": [
    "print(A)"
   ]
  },
  {
   "cell_type": "code",
   "execution_count": 68,
   "metadata": {},
   "outputs": [
    {
     "data": {
      "text/plain": [
       "array([[ 0],\n",
       "       [ 1],\n",
       "       [ 2],\n",
       "       [ 3],\n",
       "       [ 4],\n",
       "       [ 5],\n",
       "       [ 6],\n",
       "       [ 7],\n",
       "       [ 8],\n",
       "       [ 9],\n",
       "       [10],\n",
       "       [11]])"
      ]
     },
     "execution_count": 68,
     "metadata": {},
     "output_type": "execute_result"
    }
   ],
   "source": [
    "a = np.arange(12).reshape((-1,1))\n",
    "a"
   ]
  },
  {
   "cell_type": "code",
   "execution_count": 70,
   "metadata": {},
   "outputs": [
    {
     "data": {
      "text/plain": [
       "array([[ 0,  1,  2],\n",
       "       [ 3,  4,  5],\n",
       "       [ 6,  7,  8],\n",
       "       [ 9, 10, 11]])"
      ]
     },
     "execution_count": 70,
     "metadata": {},
     "output_type": "execute_result"
    }
   ],
   "source": [
    "a = np.arange(12).reshape((4,-1))\n",
    "a"
   ]
  },
  {
   "cell_type": "code",
   "execution_count": 71,
   "metadata": {},
   "outputs": [
    {
     "data": {
      "text/plain": [
       "numpy.ndarray"
      ]
     },
     "execution_count": 71,
     "metadata": {},
     "output_type": "execute_result"
    }
   ],
   "source": [
    "type(a)"
   ]
  },
  {
   "cell_type": "code",
   "execution_count": 85,
   "metadata": {},
   "outputs": [
    {
     "data": {
      "text/plain": [
       "array([[ 0, 99,  2,  3],\n",
       "       [ 4,  5,  6,  7],\n",
       "       [ 8,  9, 10, 11]])"
      ]
     },
     "execution_count": 85,
     "metadata": {},
     "output_type": "execute_result"
    }
   ],
   "source": [
    "b = np.reshape(a,(3,-1))\n",
    "b"
   ]
  },
  {
   "cell_type": "code",
   "execution_count": 86,
   "metadata": {},
   "outputs": [
    {
     "data": {
      "text/plain": [
       "array([[ 0, 99,  2,  3],\n",
       "       [ 4,  5,  6,  7],\n",
       "       [ 8,  9, 10, 11]])"
      ]
     },
     "execution_count": 86,
     "metadata": {},
     "output_type": "execute_result"
    }
   ],
   "source": [
    "b"
   ]
  },
  {
   "cell_type": "code",
   "execution_count": 87,
   "metadata": {},
   "outputs": [
    {
     "data": {
      "text/plain": [
       "array([[ 0, 99,  2],\n",
       "       [ 3,  4,  5],\n",
       "       [ 6,  7,  8],\n",
       "       [ 9, 10, 11]])"
      ]
     },
     "execution_count": 87,
     "metadata": {},
     "output_type": "execute_result"
    }
   ],
   "source": [
    "a"
   ]
  },
  {
   "cell_type": "code",
   "execution_count": 88,
   "metadata": {},
   "outputs": [],
   "source": [
    "b[0][1] =99"
   ]
  },
  {
   "cell_type": "code",
   "execution_count": 89,
   "metadata": {},
   "outputs": [
    {
     "data": {
      "text/plain": [
       "array([[ 0, 99,  2,  3],\n",
       "       [ 4,  5,  6,  7],\n",
       "       [ 8,  9, 10, 11]])"
      ]
     },
     "execution_count": 89,
     "metadata": {},
     "output_type": "execute_result"
    }
   ],
   "source": [
    "b"
   ]
  },
  {
   "cell_type": "code",
   "execution_count": 91,
   "metadata": {},
   "outputs": [
    {
     "data": {
      "text/plain": [
       "array([[ 0, 99,  2],\n",
       "       [ 3,  4,  5],\n",
       "       [ 6,  7,  8],\n",
       "       [ 9, 10, 11]])"
      ]
     },
     "execution_count": 91,
     "metadata": {},
     "output_type": "execute_result"
    }
   ],
   "source": [
    "a"
   ]
  },
  {
   "cell_type": "code",
   "execution_count": 95,
   "metadata": {},
   "outputs": [
    {
     "data": {
      "text/plain": [
       "array([[ 0,  1,  2,  3],\n",
       "       [ 4,  5,  6,  7],\n",
       "       [ 8,  9, 10, 11]])"
      ]
     },
     "execution_count": 95,
     "metadata": {},
     "output_type": "execute_result"
    }
   ],
   "source": [
    "b = np.arange(12).reshape((3,-1))\n",
    "b"
   ]
  },
  {
   "cell_type": "code",
   "execution_count": 98,
   "metadata": {},
   "outputs": [
    {
     "data": {
      "text/plain": [
       "array([[ 0,  1,  2,  3,  4,  5],\n",
       "       [ 6,  7,  8,  9, 10, 11]])"
      ]
     },
     "execution_count": 98,
     "metadata": {},
     "output_type": "execute_result"
    }
   ],
   "source": [
    "b = np.arange(12).reshape((2,-1))\n",
    "b"
   ]
  },
  {
   "cell_type": "code",
   "execution_count": 99,
   "metadata": {},
   "outputs": [
    {
     "data": {
      "text/plain": [
       "(2, 6)"
      ]
     },
     "execution_count": 99,
     "metadata": {},
     "output_type": "execute_result"
    }
   ],
   "source": [
    "b.shape"
   ]
  },
  {
   "cell_type": "code",
   "execution_count": 100,
   "metadata": {},
   "outputs": [
    {
     "data": {
      "text/plain": [
       "array([0, 1, 2, 3, 4, 5, 6, 7, 8, 9])"
      ]
     },
     "execution_count": 100,
     "metadata": {},
     "output_type": "execute_result"
    }
   ],
   "source": [
    "ary = np.arange(10)\n",
    "ary"
   ]
  },
  {
   "cell_type": "code",
   "execution_count": 101,
   "metadata": {},
   "outputs": [
    {
     "data": {
      "text/plain": [
       "array([1, 2, 3, 4])"
      ]
     },
     "execution_count": 101,
     "metadata": {},
     "output_type": "execute_result"
    }
   ],
   "source": [
    "ary[1:5]"
   ]
  },
  {
   "cell_type": "code",
   "execution_count": 102,
   "metadata": {},
   "outputs": [
    {
     "data": {
      "text/plain": [
       "array([1, 4, 7])"
      ]
     },
     "execution_count": 102,
     "metadata": {},
     "output_type": "execute_result"
    }
   ],
   "source": [
    "ary[1:8:3]"
   ]
  },
  {
   "cell_type": "code",
   "execution_count": 103,
   "metadata": {},
   "outputs": [
    {
     "data": {
      "text/plain": [
       "array([9, 8, 7, 6, 5, 4, 3, 2, 1, 0])"
      ]
     },
     "execution_count": 103,
     "metadata": {},
     "output_type": "execute_result"
    }
   ],
   "source": [
    "ary[::-1]"
   ]
  },
  {
   "cell_type": "code",
   "execution_count": 104,
   "metadata": {},
   "outputs": [
    {
     "data": {
      "text/plain": [
       "array([5, 6, 7, 8, 9])"
      ]
     },
     "execution_count": 104,
     "metadata": {},
     "output_type": "execute_result"
    }
   ],
   "source": [
    "ary[5:]"
   ]
  },
  {
   "cell_type": "code",
   "execution_count": 105,
   "metadata": {},
   "outputs": [],
   "source": [
    "x=(ary[:3],ary[3:])"
   ]
  },
  {
   "cell_type": "code",
   "execution_count": 106,
   "metadata": {},
   "outputs": [
    {
     "data": {
      "text/plain": [
       "(array([0, 1, 2]), array([3, 4, 5, 6, 7, 8, 9]))"
      ]
     },
     "execution_count": 106,
     "metadata": {},
     "output_type": "execute_result"
    }
   ],
   "source": [
    "x"
   ]
  },
  {
   "cell_type": "code",
   "execution_count": 107,
   "metadata": {},
   "outputs": [
    {
     "data": {
      "text/plain": [
       "array([1, 3, 5, 7, 9])"
      ]
     },
     "execution_count": 107,
     "metadata": {},
     "output_type": "execute_result"
    }
   ],
   "source": [
    "ary[1::2]"
   ]
  },
  {
   "cell_type": "code",
   "execution_count": 110,
   "metadata": {},
   "outputs": [
    {
     "data": {
      "text/plain": [
       "array([[ 0,  1,  2,  3,  4],\n",
       "       [ 5,  6,  7,  8,  9],\n",
       "       [10, 11, 12, 13, 14],\n",
       "       [15, 16, 17, 18, 19]])"
      ]
     },
     "execution_count": 110,
     "metadata": {},
     "output_type": "execute_result"
    }
   ],
   "source": [
    "ary45 = np.arange(20).reshape(4,5)\n",
    "ary45"
   ]
  },
  {
   "cell_type": "code",
   "execution_count": 113,
   "metadata": {},
   "outputs": [
    {
     "data": {
      "text/plain": [
       "array([[ 7,  8],\n",
       "       [12, 13]])"
      ]
     },
     "execution_count": 113,
     "metadata": {},
     "output_type": "execute_result"
    }
   ],
   "source": [
    "ary45[1:3,2:4]"
   ]
  },
  {
   "cell_type": "markdown",
   "metadata": {},
   "source": [
    "ここからワケわからん"
   ]
  },
  {
   "cell_type": "code",
   "execution_count": 114,
   "metadata": {},
   "outputs": [
    {
     "data": {
      "text/plain": [
       "array([[1, 2, 3, 4],\n",
       "       [6, 7, 8, 9]])"
      ]
     },
     "execution_count": 114,
     "metadata": {},
     "output_type": "execute_result"
    }
   ],
   "source": [
    "ary45[:2,1:]"
   ]
  },
  {
   "cell_type": "code",
   "execution_count": 116,
   "metadata": {},
   "outputs": [
    {
     "data": {
      "text/plain": [
       "array([[ 0,  1,  2,  3,  4],\n",
       "       [10, 11, 12, 13, 14]])"
      ]
     },
     "execution_count": 116,
     "metadata": {},
     "output_type": "execute_result"
    }
   ],
   "source": [
    "ary45[::2, :]"
   ]
  },
  {
   "cell_type": "code",
   "execution_count": 117,
   "metadata": {},
   "outputs": [
    {
     "data": {
      "text/plain": [
       "array([[ 0,  2,  4],\n",
       "       [ 5,  7,  9],\n",
       "       [10, 12, 14],\n",
       "       [15, 17, 19]])"
      ]
     },
     "execution_count": 117,
     "metadata": {},
     "output_type": "execute_result"
    }
   ],
   "source": [
    "ary45[:,::2]"
   ]
  },
  {
   "cell_type": "code",
   "execution_count": 118,
   "metadata": {},
   "outputs": [
    {
     "data": {
      "text/plain": [
       "array([[ 4,  3,  2,  1,  0],\n",
       "       [ 9,  8,  7,  6,  5],\n",
       "       [14, 13, 12, 11, 10],\n",
       "       [19, 18, 17, 16, 15]])"
      ]
     },
     "execution_count": 118,
     "metadata": {},
     "output_type": "execute_result"
    }
   ],
   "source": [
    "ary45[:,::-1]"
   ]
  },
  {
   "cell_type": "code",
   "execution_count": 119,
   "metadata": {},
   "outputs": [
    {
     "data": {
      "text/plain": [
       "array([[19, 18, 17, 16, 15],\n",
       "       [14, 13, 12, 11, 10],\n",
       "       [ 9,  8,  7,  6,  5],\n",
       "       [ 4,  3,  2,  1,  0]])"
      ]
     },
     "execution_count": 119,
     "metadata": {},
     "output_type": "execute_result"
    }
   ],
   "source": [
    "ary45[::-1,::-1]"
   ]
  },
  {
   "cell_type": "code",
   "execution_count": 121,
   "metadata": {},
   "outputs": [
    {
     "data": {
      "text/plain": [
       "array([[15, 16, 17, 18, 19],\n",
       "       [10, 11, 12, 13, 14],\n",
       "       [ 5,  6,  7,  8,  9],\n",
       "       [ 0,  1,  2,  3,  4]])"
      ]
     },
     "execution_count": 121,
     "metadata": {},
     "output_type": "execute_result"
    }
   ],
   "source": [
    "ary45[::-1,:]"
   ]
  },
  {
   "cell_type": "code",
   "execution_count": 126,
   "metadata": {},
   "outputs": [
    {
     "data": {
      "image/png": "[encoded data removed]",
      "text/plain": [
       "<Figure size 432x288 with 1 Axes>"
      ]
     },
     "metadata": {
      "needs_background": "light"
     },
     "output_type": "display_data"
    }
   ],
   "source": [
    "# -*- coding: utf-8 -*-\n",
    "\n",
    "########################################\n",
    "#### データの準備\n",
    "\n",
    "import matplotlib.pyplot as plt\n",
    "import numpy as np \n",
    "%matplotlib inline\n",
    "\n",
    "### 各種定義\n",
    "\n",
    "# x軸の定義範囲\n",
    "x_max = 1\n",
    "x_min = -1\n",
    "\n",
    "# y軸の定義範囲\n",
    "y_max = 2\n",
    "y_min = -1\n",
    "\n",
    "# スケール、１単位に何点を使うか\n",
    "SCALE = 50\n",
    "\n",
    "# train/testでTestデータの割合を指定\n",
    "TEST_RATE = 0.3\n",
    "\n",
    "\n",
    "### データ生成\n",
    "\n",
    "data_x = np.arange(x_min, x_max, 1 / float(SCALE)).reshape(-1, 1)  \n",
    "\n",
    "data_ty = data_x * data_x  # ｘ**2 がノイズが乗る前の値\n",
    "data_vy = data_ty.reshape(-1, 1) + np.random.randn(len(data_ty), 1) * 0.5  # ノイズを乗せる\n",
    "\n",
    "\n",
    "### 学習データ／テストデータに分割（分類問題、回帰問題で使用）\n",
    "\n",
    "# 学習データ／テストデータの分割処理\n",
    "def split_train_test(array):\n",
    "    length = len(array)\n",
    "    n_train = int(length * (1 - TEST_RATE))\n",
    "\n",
    "    indices = list(range(length))\n",
    "    np.random.shuffle(indices)\n",
    "    idx_train = indices[:n_train]\n",
    "    idx_test = indices[n_train:]\n",
    "\n",
    "    return sorted(array[idx_train]), sorted(array[idx_test])\n",
    "\n",
    "# インデックスリストを分割\n",
    "indices = np.arange(len(data_x))  # インデックス値のリスト\n",
    "idx_train, idx_test = split_train_test(indices)\n",
    "\n",
    "# 学習データ\n",
    "x_train = data_x[idx_train]\n",
    "y_train = data_vy[idx_train]\n",
    "\n",
    "# テストデータ\n",
    "x_test = data_x[idx_test]\n",
    "y_test = data_vy[idx_test]\n",
    "\n",
    "\n",
    "### グラフ描画\n",
    "\n",
    "# 分析対象点の散布図\n",
    "plt.scatter(data_x, data_vy, label='target')\n",
    "\n",
    "# 元の線を表示\n",
    "plt.plot(data_x, data_ty, linestyle=':',c=\"red\", label='non noise curve') # 元の線を表示\n",
    "\n",
    "# x 軸 / y 軸の範囲を設定\n",
    "plt.xlim(x_min, x_max)\n",
    "plt.ylim(y_min, y_max)\n",
    "\n",
    "# 凡例の表示位置を指定\n",
    "plt.legend(bbox_to_anchor=(1.05, 1), loc='upper left', borderaxespad=0)\n",
    "\n",
    "# グラフを表示\n",
    "plt.show()\n",
    "\n"
   ]
  },
  {
   "cell_type": "code",
   "execution_count": 131,
   "metadata": {},
   "outputs": [
    {
     "data": {
      "text/plain": [
       "array([[-1.0000000e+00],\n",
       "       [-9.8000000e-01],\n",
       "       [-9.6000000e-01],\n",
       "       [-9.4000000e-01],\n",
       "       [-9.2000000e-01],\n",
       "       [-9.0000000e-01],\n",
       "       [-8.8000000e-01],\n",
       "       [-8.6000000e-01],\n",
       "       [-8.4000000e-01],\n",
       "       [-8.2000000e-01],\n",
       "       [-8.0000000e-01],\n",
       "       [-7.8000000e-01],\n",
       "       [-7.6000000e-01],\n",
       "       [-7.4000000e-01],\n",
       "       [-7.2000000e-01],\n",
       "       [-7.0000000e-01],\n",
       "       [-6.8000000e-01],\n",
       "       [-6.6000000e-01],\n",
       "       [-6.4000000e-01],\n",
       "       [-6.2000000e-01],\n",
       "       [-6.0000000e-01],\n",
       "       [-5.8000000e-01],\n",
       "       [-5.6000000e-01],\n",
       "       [-5.4000000e-01],\n",
       "       [-5.2000000e-01],\n",
       "       [-5.0000000e-01],\n",
       "       [-4.8000000e-01],\n",
       "       [-4.6000000e-01],\n",
       "       [-4.4000000e-01],\n",
       "       [-4.2000000e-01],\n",
       "       [-4.0000000e-01],\n",
       "       [-3.8000000e-01],\n",
       "       [-3.6000000e-01],\n",
       "       [-3.4000000e-01],\n",
       "       [-3.2000000e-01],\n",
       "       [-3.0000000e-01],\n",
       "       [-2.8000000e-01],\n",
       "       [-2.6000000e-01],\n",
       "       [-2.4000000e-01],\n",
       "       [-2.2000000e-01],\n",
       "       [-2.0000000e-01],\n",
       "       [-1.8000000e-01],\n",
       "       [-1.6000000e-01],\n",
       "       [-1.4000000e-01],\n",
       "       [-1.2000000e-01],\n",
       "       [-1.0000000e-01],\n",
       "       [-8.0000000e-02],\n",
       "       [-6.0000000e-02],\n",
       "       [-4.0000000e-02],\n",
       "       [-2.0000000e-02],\n",
       "       [ 8.8817842e-16],\n",
       "       [ 2.0000000e-02],\n",
       "       [ 4.0000000e-02],\n",
       "       [ 6.0000000e-02],\n",
       "       [ 8.0000000e-02],\n",
       "       [ 1.0000000e-01],\n",
       "       [ 1.2000000e-01],\n",
       "       [ 1.4000000e-01],\n",
       "       [ 1.6000000e-01],\n",
       "       [ 1.8000000e-01],\n",
       "       [ 2.0000000e-01],\n",
       "       [ 2.2000000e-01],\n",
       "       [ 2.4000000e-01],\n",
       "       [ 2.6000000e-01],\n",
       "       [ 2.8000000e-01],\n",
       "       [ 3.0000000e-01],\n",
       "       [ 3.2000000e-01],\n",
       "       [ 3.4000000e-01],\n",
       "       [ 3.6000000e-01],\n",
       "       [ 3.8000000e-01],\n",
       "       [ 4.0000000e-01],\n",
       "       [ 4.2000000e-01],\n",
       "       [ 4.4000000e-01],\n",
       "       [ 4.6000000e-01],\n",
       "       [ 4.8000000e-01],\n",
       "       [ 5.0000000e-01],\n",
       "       [ 5.2000000e-01],\n",
       "       [ 5.4000000e-01],\n",
       "       [ 5.6000000e-01],\n",
       "       [ 5.8000000e-01],\n",
       "       [ 6.0000000e-01],\n",
       "       [ 6.2000000e-01],\n",
       "       [ 6.4000000e-01],\n",
       "       [ 6.6000000e-01],\n",
       "       [ 6.8000000e-01],\n",
       "       [ 7.0000000e-01],\n",
       "       [ 7.2000000e-01],\n",
       "       [ 7.4000000e-01],\n",
       "       [ 7.6000000e-01],\n",
       "       [ 7.8000000e-01],\n",
       "       [ 8.0000000e-01],\n",
       "       [ 8.2000000e-01],\n",
       "       [ 8.4000000e-01],\n",
       "       [ 8.6000000e-01],\n",
       "       [ 8.8000000e-01],\n",
       "       [ 9.0000000e-01],\n",
       "       [ 9.2000000e-01],\n",
       "       [ 9.4000000e-01],\n",
       "       [ 9.6000000e-01],\n",
       "       [ 9.8000000e-01]])"
      ]
     },
     "execution_count": 131,
     "metadata": {},
     "output_type": "execute_result"
    }
   ],
   "source": [
    "data_x"
   ]
  },
  {
   "cell_type": "code",
   "execution_count": 132,
   "metadata": {},
   "outputs": [
    {
     "data": {
      "image/png": "[encoded data removed]",
      "text/plain": [
       "<Figure size 432x288 with 1 Axes>"
      ]
     },
     "metadata": {
      "needs_background": "light"
     },
     "output_type": "display_data"
    }
   ],
   "source": [
    "\n",
    "########################################\n",
    "#### 分類問題\n",
    "\n",
    "### 分類ラベル作成\n",
    "\n",
    "# クラスの閾値。原点からの半径\n",
    "CLASS_RADIUS = 0.6\n",
    "\n",
    "# 近い／遠いでクラス分け -- 近いと True, 遠いと False\n",
    "labels = (np.square(data_x) + np.square(data_vy)) < CLASS_RADIUS**2\n",
    "\n",
    "# 学習データ／テストデータに分割\n",
    "label_train = labels[idx_train]  # 学習データ\n",
    "label_test = labels[idx_test]  # テストデータ\n",
    "\n",
    "\n",
    "### グラフ描画\n",
    "\n",
    "\n",
    "\n",
    "plt.scatter(x_train[label_train], y_train[label_train], marker='v', label='near train')\n",
    "plt.scatter(x_train[label_train != True], y_train[label_train != True], marker='+', label='far train')\n",
    "\n",
    "plt.scatter(x_test[label_test], y_test[label_test], marker='^', label='near test')\n",
    "plt.scatter(x_test[label_test != True], y_test[label_test != True], marker='x', label='far test')\n",
    "\n",
    "# 元の線を表示\n",
    "plt.plot(data_x, data_ty, linestyle=':', label='non noise curve') # 元の線を表示\n",
    "\n",
    "# クラスの分離円\n",
    "circle  = plt.Circle((0,0), CLASS_RADIUS, alpha=0.1, label='near area')\n",
    "ax = plt.gca()\n",
    "ax.add_patch(circle)\n",
    "\n",
    "# x 軸 / y 軸の範囲を設定\n",
    "plt.xlim(x_min, x_max)  #X軸範囲設定\n",
    "plt.ylim(y_min, y_max)  #Y軸範囲設定\n",
    "\n",
    "# 凡例の表示位置を指定\n",
    "plt.legend(bbox_to_anchor=(1.05, 1), loc='upper left', borderaxespad=0)\n",
    "\n",
    "# グラフを表示\n",
    "plt.show()\n",
    "\n"
   ]
  },
  {
   "cell_type": "code",
   "execution_count": 133,
   "metadata": {},
   "outputs": [
    {
     "name": "stdout",
     "output_type": "stream",
     "text": [
      "accuracy_score:\n",
      " 0.9666666666666667\n",
      "Confusion matrix:\n",
      " [[21  0]\n",
      " [ 1  8]]\n"
     ]
    }
   ],
   "source": [
    "### 学習\n",
    "\n",
    "from sklearn import svm\n",
    "from sklearn.metrics import confusion_matrix, accuracy_score\n",
    "\n",
    "data_train = np.c_[x_train, y_train]\n",
    "data_test = np.c_[x_test, y_test]\n",
    "\n",
    "# SVMの分類器を作成、学習\n",
    "classifier = svm.SVC(gamma=1)\n",
    "classifier.fit(data_train, label_train.reshape(-1))\n",
    "\n",
    "# Testデータで評価\n",
    "pred_test = classifier.predict(data_test)\n",
    "\n",
    "# Accuracyを表示\n",
    "print('accuracy_score:\\n', accuracy_score(label_test.reshape(-1), pred_test)) \n",
    "\n",
    "# 混同行列を表示\n",
    "print('Confusion matrix:\\n', confusion_matrix(label_test.reshape(-1), pred_test))\n"
   ]
  },
  {
   "cell_type": "code",
   "execution_count": 134,
   "metadata": {},
   "outputs": [
    {
     "data": {
      "image/png": "[encoded data removed]",
      "text/plain": [
       "<Figure size 432x288 with 1 Axes>"
      ]
     },
     "metadata": {
      "needs_background": "light"
     },
     "output_type": "display_data"
    }
   ],
   "source": [
    "########################################\n",
    "#### 回帰問題\n",
    "\n",
    "from sklearn import linear_model\n",
    "\n",
    "\n",
    "### 1 次式で回帰\n",
    "\n",
    "# x 値\n",
    "X1_TRAIN = x_train\n",
    "X1_TEST  = x_test\n",
    "\n",
    "# 学習\n",
    "model = linear_model.LinearRegression()\n",
    "model.fit(X1_TRAIN, y_train)\n",
    "\n",
    "# グラフに描画\n",
    "plt.plot(x_test, model.predict(X1_TEST), linestyle='-.', label='poly deg 1')\n",
    "\n",
    "\n",
    "### 2 次式で回帰\n",
    "\n",
    "# x 値\n",
    "X2_TRAIN = np.c_[x_train**2, x_train]\n",
    "X2_TEST  = np.c_[x_test**2, x_test]\n",
    "\n",
    "# 学習\n",
    "model = linear_model.LinearRegression()\n",
    "model.fit(X2_TRAIN, y_train)\n",
    "\n",
    "# グラフに描画\n",
    "plt.plot(x_test, model.predict(X2_TEST), linestyle='--', label='poly deg 2')\n",
    "\n",
    "\n",
    "### 9 次式で回帰\n",
    "\n",
    "# x 値\n",
    "X9_TRAIN = np.c_[x_train**9, x_train**8, x_train**7, x_train**6, x_train**5,\n",
    "                 x_train**4, x_train**3, x_train**2, x_train]\n",
    "X9_TEST  = np.c_[x_test**9, x_test**8, x_test**7, x_test**6, x_test**5,\n",
    "                 x_test**4, x_test**3, x_test**2, x_test]\n",
    "# 学習\n",
    "model = linear_model.LinearRegression()\n",
    "model.fit(X9_TRAIN, y_train)\n",
    "\n",
    "# グラフに描画\n",
    "plt.plot(x_test, model.predict(X9_TEST), linestyle='-', label='poly deg 9')\n",
    "\n",
    "\n",
    "### データの表示\n",
    "\n",
    "plt.scatter(x_train, y_train, marker='v',label=\"train\")\n",
    "plt.scatter(x_test, y_test, marker='x',label=\"test\")\n",
    "\n",
    "# 元の線を表示\n",
    "plt.plot(data_x, data_ty, linestyle=':', label='non noise curve') # 元の線を表示\n",
    "\n",
    "# x 軸 / y 軸の範囲を設定\n",
    "plt.xlim(x_min, x_max)\n",
    "plt.ylim(y_min, y_max)\n",
    "\n",
    "# 凡例の表示位置を指定\n",
    "plt.legend(bbox_to_anchor=(1.05, 1), loc='upper left', borderaxespad=0)\n",
    "\n",
    "# グラフを表示\n",
    "plt.show()\n",
    "\n"
   ]
  },
  {
   "cell_type": "code",
   "execution_count": 135,
   "metadata": {},
   "outputs": [
    {
     "data": {
      "image/png": "[encoded data removed]",
      "text/plain": [
       "<Figure size 432x288 with 1 Axes>"
      ]
     },
     "metadata": {
      "needs_background": "light"
     },
     "output_type": "display_data"
    }
   ],
   "source": [
    "########################################\n",
    "#### クラスタリング\n",
    "\n",
    "from sklearn import cluster\n",
    "\n",
    "# x, y データを結合\n",
    "data = np.c_[data_x, data_vy]\n",
    "\n",
    "# 学習 → ３つのクラスタに分類\n",
    "model = cluster.KMeans(n_clusters=3)\n",
    "model.fit(data)\n",
    "\n",
    "# data の分類結果（0 ～ (n_clusters - 1) の番号が付けられている）\n",
    "labels = model.labels_\n",
    "\n",
    "plt.scatter(data_x[labels == 0], data_vy[labels == 0], marker='v', label='cluster 0')\n",
    "plt.scatter(data_x[labels == 1], data_vy[labels == 1], marker='x', label='cluster 1')\n",
    "plt.scatter(data_x[labels == 2], data_vy[labels == 2], marker='o', label='cluster 2')\n",
    "\n",
    "# 元の線を表示\n",
    "plt.plot(data_x, data_ty, linestyle=':', label='non noise curve') # 元の線を表示\n",
    "\n",
    "# x 軸 / y 軸の範囲を設定\n",
    "plt.xlim(x_min, x_max)\n",
    "plt.ylim(y_min, y_max)\n",
    "\n",
    "# 凡例の表示位置を指定\n",
    "plt.legend(bbox_to_anchor=(1.05, 1), loc='upper left', borderaxespad=0)\n",
    "\n",
    "# グラフを表示\n",
    "plt.show()\n"
   ]
  },
  {
   "cell_type": "code",
   "execution_count": null,
   "metadata": {},
   "outputs": [],
   "source": []
  }
 ],
 "metadata": {
  "kernelspec": {
   "display_name": "Python 3",
   "language": "python",
   "name": "python3"
  },
  "language_info": {
   "codemirror_mode": {
    "name": "ipython",
    "version": 3
   },
   "file_extension": ".py",
   "mimetype": "text/x-python",
   "name": "python",
   "nbconvert_exporter": "python",
   "pygments_lexer": "ipython3",
   "version": "3.7.3"
  }
 },
 "nbformat": 4,
 "nbformat_minor": 2
}
