{
 "cells": [
  {
   "cell_type": "code",
   "execution_count": 1,
   "metadata": {},
   "outputs": [],
   "source": [
    "import matplotlib.pyplot as plt\n",
    "import numpy as np"
   ]
  },
  {
   "cell_type": "code",
   "execution_count": 4,
   "metadata": {},
   "outputs": [],
   "source": [
    "x = np.random.rand(100,1)"
   ]
  },
  {
   "cell_type": "code",
   "execution_count": 5,
   "metadata": {},
   "outputs": [
    {
     "data": {
      "text/plain": [
       "array([[0.21579693],\n",
       "       [0.01718955],\n",
       "       [0.50596618],\n",
       "       [0.27765211],\n",
       "       [0.453824  ],\n",
       "       [0.26395696],\n",
       "       [0.85231407],\n",
       "       [0.77012359],\n",
       "       [0.79813121],\n",
       "       [0.90834129],\n",
       "       [0.07074136],\n",
       "       [0.73852898],\n",
       "       [0.07597808],\n",
       "       [0.39637215],\n",
       "       [0.35020847],\n",
       "       [0.46325392],\n",
       "       [0.70759992],\n",
       "       [0.21914124],\n",
       "       [0.06098653],\n",
       "       [0.23637879],\n",
       "       [0.090843  ],\n",
       "       [0.30323181],\n",
       "       [0.16026531],\n",
       "       [0.8758935 ],\n",
       "       [0.97497735],\n",
       "       [0.81572899],\n",
       "       [0.90839103],\n",
       "       [0.94887392],\n",
       "       [0.19716809],\n",
       "       [0.99919852],\n",
       "       [0.01241439],\n",
       "       [0.35279993],\n",
       "       [0.28660844],\n",
       "       [0.7558368 ],\n",
       "       [0.23968661],\n",
       "       [0.74188112],\n",
       "       [0.12329316],\n",
       "       [0.93446562],\n",
       "       [0.7025064 ],\n",
       "       [0.61201696],\n",
       "       [0.88058497],\n",
       "       [0.98219704],\n",
       "       [0.67950006],\n",
       "       [0.85600809],\n",
       "       [0.68251962],\n",
       "       [0.60739613],\n",
       "       [0.07617192],\n",
       "       [0.76818588],\n",
       "       [0.47032465],\n",
       "       [0.15897288],\n",
       "       [0.8597244 ],\n",
       "       [0.57598023],\n",
       "       [0.20304708],\n",
       "       [0.25732433],\n",
       "       [0.05670155],\n",
       "       [0.6652318 ],\n",
       "       [0.80659664],\n",
       "       [0.96537712],\n",
       "       [0.13494235],\n",
       "       [0.77977818],\n",
       "       [0.47563844],\n",
       "       [0.17301304],\n",
       "       [0.90801257],\n",
       "       [0.43192314],\n",
       "       [0.04806576],\n",
       "       [0.92753329],\n",
       "       [0.24286358],\n",
       "       [0.31739784],\n",
       "       [0.41072703],\n",
       "       [0.61403357],\n",
       "       [0.72957592],\n",
       "       [0.96228048],\n",
       "       [0.87039246],\n",
       "       [0.37707681],\n",
       "       [0.28384235],\n",
       "       [0.05933983],\n",
       "       [0.77027508],\n",
       "       [0.26032729],\n",
       "       [0.89459642],\n",
       "       [0.86222107],\n",
       "       [0.61236378],\n",
       "       [0.55046551],\n",
       "       [0.56712164],\n",
       "       [0.29186081],\n",
       "       [0.39972005],\n",
       "       [0.84696689],\n",
       "       [0.82357856],\n",
       "       [0.42837311],\n",
       "       [0.93862269],\n",
       "       [0.88733393],\n",
       "       [0.27515129],\n",
       "       [0.27991251],\n",
       "       [0.0607049 ],\n",
       "       [0.01379947],\n",
       "       [0.33492553],\n",
       "       [0.08737353],\n",
       "       [0.87497647],\n",
       "       [0.77232539],\n",
       "       [0.21637375],\n",
       "       [0.45925251]])"
      ]
     },
     "execution_count": 5,
     "metadata": {},
     "output_type": "execute_result"
    }
   ],
   "source": [
    "x"
   ]
  },
  {
   "cell_type": "code",
   "execution_count": 6,
   "metadata": {},
   "outputs": [],
   "source": [
    "x = x * 4 - 2"
   ]
  },
  {
   "cell_type": "code",
   "execution_count": 7,
   "metadata": {},
   "outputs": [
    {
     "data": {
      "text/plain": [
       "array([[-1.13681227],\n",
       "       [-1.93124178],\n",
       "       [ 0.02386472],\n",
       "       [-0.88939155],\n",
       "       [-0.18470401],\n",
       "       [-0.94417218],\n",
       "       [ 1.4092563 ],\n",
       "       [ 1.08049435],\n",
       "       [ 1.19252484],\n",
       "       [ 1.63336515],\n",
       "       [-1.71703456],\n",
       "       [ 0.95411593],\n",
       "       [-1.69608768],\n",
       "       [-0.41451139],\n",
       "       [-0.59916613],\n",
       "       [-0.14698434],\n",
       "       [ 0.8303997 ],\n",
       "       [-1.12343505],\n",
       "       [-1.75605388],\n",
       "       [-1.05448482],\n",
       "       [-1.63662801],\n",
       "       [-0.78707276],\n",
       "       [-1.35893876],\n",
       "       [ 1.50357399],\n",
       "       [ 1.8999094 ],\n",
       "       [ 1.26291598],\n",
       "       [ 1.63356413],\n",
       "       [ 1.79549569],\n",
       "       [-1.21132764],\n",
       "       [ 1.99679407],\n",
       "       [-1.95034245],\n",
       "       [-0.5888003 ],\n",
       "       [-0.85356625],\n",
       "       [ 1.02334722],\n",
       "       [-1.04125357],\n",
       "       [ 0.96752449],\n",
       "       [-1.50682734],\n",
       "       [ 1.73786249],\n",
       "       [ 0.81002561],\n",
       "       [ 0.44806785],\n",
       "       [ 1.5223399 ],\n",
       "       [ 1.92878814],\n",
       "       [ 0.71800024],\n",
       "       [ 1.42403237],\n",
       "       [ 0.73007847],\n",
       "       [ 0.42958453],\n",
       "       [-1.6953123 ],\n",
       "       [ 1.07274354],\n",
       "       [-0.11870139],\n",
       "       [-1.36410849],\n",
       "       [ 1.43889759],\n",
       "       [ 0.30392091],\n",
       "       [-1.18781168],\n",
       "       [-0.97070269],\n",
       "       [-1.77319382],\n",
       "       [ 0.6609272 ],\n",
       "       [ 1.22638658],\n",
       "       [ 1.8615085 ],\n",
       "       [-1.46023062],\n",
       "       [ 1.11911273],\n",
       "       [-0.09744624],\n",
       "       [-1.30794786],\n",
       "       [ 1.63205026],\n",
       "       [-0.27230745],\n",
       "       [-1.80773694],\n",
       "       [ 1.71013318],\n",
       "       [-1.02854569],\n",
       "       [-0.73040863],\n",
       "       [-0.35709187],\n",
       "       [ 0.45613429],\n",
       "       [ 0.91830369],\n",
       "       [ 1.84912192],\n",
       "       [ 1.48156984],\n",
       "       [-0.49169275],\n",
       "       [-0.8646306 ],\n",
       "       [-1.76264069],\n",
       "       [ 1.08110034],\n",
       "       [-0.95869084],\n",
       "       [ 1.57838567],\n",
       "       [ 1.44888429],\n",
       "       [ 0.4494551 ],\n",
       "       [ 0.20186204],\n",
       "       [ 0.26848656],\n",
       "       [-0.83255675],\n",
       "       [-0.40111981],\n",
       "       [ 1.38786755],\n",
       "       [ 1.29431422],\n",
       "       [-0.28650754],\n",
       "       [ 1.75449075],\n",
       "       [ 1.54933573],\n",
       "       [-0.89939486],\n",
       "       [-0.88034994],\n",
       "       [-1.7571804 ],\n",
       "       [-1.94480211],\n",
       "       [-0.66029788],\n",
       "       [-1.65050589],\n",
       "       [ 1.4999059 ],\n",
       "       [ 1.08930158],\n",
       "       [-1.134505  ],\n",
       "       [-0.16298998]])"
      ]
     },
     "execution_count": 7,
     "metadata": {},
     "output_type": "execute_result"
    }
   ],
   "source": [
    "x"
   ]
  },
  {
   "cell_type": "code",
   "execution_count": 8,
   "metadata": {},
   "outputs": [],
   "source": [
    "y = 3 * x - 2 "
   ]
  },
  {
   "cell_type": "code",
   "execution_count": 9,
   "metadata": {},
   "outputs": [
    {
     "data": {
      "text/plain": [
       "array([[-5.4104368 ],\n",
       "       [-7.79372535],\n",
       "       [-1.92840583],\n",
       "       [-4.66817465],\n",
       "       [-2.55411202],\n",
       "       [-4.83251653],\n",
       "       [ 2.22776889],\n",
       "       [ 1.24148306],\n",
       "       [ 1.57757453],\n",
       "       [ 2.90009546],\n",
       "       [-7.15110368],\n",
       "       [ 0.86234778],\n",
       "       [-7.08826305],\n",
       "       [-3.24353417],\n",
       "       [-3.79749838],\n",
       "       [-2.44095301],\n",
       "       [ 0.49119909],\n",
       "       [-5.37030516],\n",
       "       [-7.26816164],\n",
       "       [-5.16345447],\n",
       "       [-6.90988404],\n",
       "       [-4.36121827],\n",
       "       [-6.07681629],\n",
       "       [ 2.51072197],\n",
       "       [ 3.69972821],\n",
       "       [ 1.78874793],\n",
       "       [ 2.90069238],\n",
       "       [ 3.38648707],\n",
       "       [-5.63398293],\n",
       "       [ 3.99038222],\n",
       "       [-7.85102734],\n",
       "       [-3.76640089],\n",
       "       [-4.56069876],\n",
       "       [ 1.07004165],\n",
       "       [-5.12376071],\n",
       "       [ 0.90257348],\n",
       "       [-6.52048203],\n",
       "       [ 3.21358746],\n",
       "       [ 0.43007683],\n",
       "       [-0.65579645],\n",
       "       [ 2.56701969],\n",
       "       [ 3.78636443],\n",
       "       [ 0.15400072],\n",
       "       [ 2.2720971 ],\n",
       "       [ 0.19023542],\n",
       "       [-0.7112464 ],\n",
       "       [-7.0859369 ],\n",
       "       [ 1.21823061],\n",
       "       [-2.35610418],\n",
       "       [-6.09232547],\n",
       "       [ 2.31669276],\n",
       "       [-1.08823726],\n",
       "       [-5.56343505],\n",
       "       [-4.91210807],\n",
       "       [-7.31958145],\n",
       "       [-0.01721841],\n",
       "       [ 1.67915974],\n",
       "       [ 3.58452549],\n",
       "       [-6.38069186],\n",
       "       [ 1.35733819],\n",
       "       [-2.29233873],\n",
       "       [-5.92384358],\n",
       "       [ 2.89615079],\n",
       "       [-2.81692235],\n",
       "       [-7.42321083],\n",
       "       [ 3.13039954],\n",
       "       [-5.08563706],\n",
       "       [-4.19122588],\n",
       "       [-3.0712756 ],\n",
       "       [-0.63159714],\n",
       "       [ 0.75491106],\n",
       "       [ 3.54736577],\n",
       "       [ 2.44470953],\n",
       "       [-3.47507825],\n",
       "       [-4.5938918 ],\n",
       "       [-7.28792207],\n",
       "       [ 1.24330101],\n",
       "       [-4.87607252],\n",
       "       [ 2.73515701],\n",
       "       [ 2.34665286],\n",
       "       [-0.65163469],\n",
       "       [-1.39441389],\n",
       "       [-1.19454032],\n",
       "       [-4.49767024],\n",
       "       [-3.20335942],\n",
       "       [ 2.16360264],\n",
       "       [ 1.88294267],\n",
       "       [-2.85952263],\n",
       "       [ 3.26347225],\n",
       "       [ 2.6480072 ],\n",
       "       [-4.69818458],\n",
       "       [-4.64104982],\n",
       "       [-7.27154119],\n",
       "       [-7.83440633],\n",
       "       [-3.98089363],\n",
       "       [-6.95151767],\n",
       "       [ 2.49971769],\n",
       "       [ 1.26790474],\n",
       "       [-5.40351501],\n",
       "       [-2.48896994]])"
      ]
     },
     "execution_count": 9,
     "metadata": {},
     "output_type": "execute_result"
    }
   ],
   "source": [
    "y"
   ]
  },
  {
   "cell_type": "code",
   "execution_count": 10,
   "metadata": {},
   "outputs": [],
   "source": [
    "from sklearn.linear_model import LinearRegression as LR"
   ]
  },
  {
   "cell_type": "code",
   "execution_count": 11,
   "metadata": {},
   "outputs": [],
   "source": [
    "model = LR()"
   ]
  },
  {
   "cell_type": "code",
   "execution_count": 12,
   "metadata": {},
   "outputs": [
    {
     "data": {
      "text/plain": [
       "LinearRegression(copy_X=True, fit_intercept=True, n_jobs=None, normalize=False)"
      ]
     },
     "execution_count": 12,
     "metadata": {},
     "output_type": "execute_result"
    }
   ],
   "source": [
    "model.fit(x,y)"
   ]
  },
  {
   "cell_type": "code",
   "execution_count": 14,
   "metadata": {},
   "outputs": [
    {
     "data": {
      "text/plain": [
       "array([[3.]])"
      ]
     },
     "execution_count": 14,
     "metadata": {},
     "output_type": "execute_result"
    }
   ],
   "source": [
    "model.coef_"
   ]
  },
  {
   "cell_type": "code",
   "execution_count": 15,
   "metadata": {},
   "outputs": [
    {
     "data": {
      "text/plain": [
       "array([-2.])"
      ]
     },
     "execution_count": 15,
     "metadata": {},
     "output_type": "execute_result"
    }
   ],
   "source": [
    "model.intercept_"
   ]
  },
  {
   "cell_type": "code",
   "execution_count": 23,
   "metadata": {},
   "outputs": [
    {
     "data": {
      "text/plain": [
       "['__abstractmethods__',\n",
       " '__class__',\n",
       " '__delattr__',\n",
       " '__dict__',\n",
       " '__dir__',\n",
       " '__doc__',\n",
       " '__eq__',\n",
       " '__format__',\n",
       " '__ge__',\n",
       " '__getattribute__',\n",
       " '__getstate__',\n",
       " '__gt__',\n",
       " '__hash__',\n",
       " '__init__',\n",
       " '__init_subclass__',\n",
       " '__le__',\n",
       " '__lt__',\n",
       " '__module__',\n",
       " '__ne__',\n",
       " '__new__',\n",
       " '__reduce__',\n",
       " '__reduce_ex__',\n",
       " '__repr__',\n",
       " '__setattr__',\n",
       " '__setstate__',\n",
       " '__sizeof__',\n",
       " '__str__',\n",
       " '__subclasshook__',\n",
       " '__weakref__',\n",
       " '_abc_impl',\n",
       " '_decision_function',\n",
       " '_estimator_type',\n",
       " '_get_param_names',\n",
       " '_get_tags',\n",
       " '_more_tags',\n",
       " '_preprocess_data',\n",
       " '_residues',\n",
       " '_set_intercept',\n",
       " 'coef_',\n",
       " 'copy_X',\n",
       " 'fit',\n",
       " 'fit_intercept',\n",
       " 'get_params',\n",
       " 'intercept_',\n",
       " 'n_jobs',\n",
       " 'normalize',\n",
       " 'predict',\n",
       " 'rank_',\n",
       " 'score',\n",
       " 'set_params',\n",
       " 'singular_']"
      ]
     },
     "execution_count": 23,
     "metadata": {},
     "output_type": "execute_result"
    }
   ],
   "source": [
    "dir(model)"
   ]
  },
  {
   "cell_type": "code",
   "execution_count": 22,
   "metadata": {},
   "outputs": [
    {
     "data": {
      "text/plain": [
       "<matplotlib.collections.PathCollection at 0x1a21d7fef0>"
      ]
     },
     "execution_count": 22,
     "metadata": {},
     "output_type": "execute_result"
    },
    {
     "data": {
      "image/png": "[encoded data removed]",
      "text/plain": [
       "<Figure size 432x288 with 1 Axes>"
      ]
     },
     "metadata": {
      "needs_background": "light"
     },
     "output_type": "display_data"
    }
   ],
   "source": [
    "plt.scatter(x, y, marker='+')"
   ]
  },
  {
   "cell_type": "code",
   "execution_count": 18,
   "metadata": {},
   "outputs": [
    {
     "data": {
      "text/plain": [
       "1.9967940726079942"
      ]
     },
     "execution_count": 18,
     "metadata": {},
     "output_type": "execute_result"
    }
   ],
   "source": [
    "np.max(x)"
   ]
  },
  {
   "cell_type": "code",
   "execution_count": 19,
   "metadata": {},
   "outputs": [
    {
     "data": {
      "text/plain": [
       "-1.9503424473877153"
      ]
     },
     "execution_count": 19,
     "metadata": {},
     "output_type": "execute_result"
    }
   ],
   "source": [
    "np.min(x)"
   ]
  },
  {
   "cell_type": "code",
   "execution_count": null,
   "metadata": {},
   "outputs": [],
   "source": []
  }
 ],
 "metadata": {
  "kernelspec": {
   "display_name": "Python 3",
   "language": "python",
   "name": "python3"
  },
  "language_info": {
   "codemirror_mode": {
    "name": "ipython",
    "version": 3
   },
   "file_extension": ".py",
   "mimetype": "text/x-python",
   "name": "python",
   "nbconvert_exporter": "python",
   "pygments_lexer": "ipython3",
   "version": "3.7.3"
  }
 },
 "nbformat": 4,
 "nbformat_minor": 2
}
