{
 "cells": [
  {
   "cell_type": "code",
   "execution_count": 1,
   "metadata": {},
   "outputs": [],
   "source": [
    "import matplotlib.pyplot as plt\n",
    "import numpy as np\n",
    "from sklearn import linear_model\n",
    "\n",
    "### バラつきのある y = 4x^3 - 3x^2 + 2x - 1 のデータを作成\n",
    "\n",
    "x = np.random.rand(100, 1)  # 0 〜 1 までの乱数を 100 個つくる\n",
    "x = x * 2 - 1               # 値の範囲を -2 〜 2 に変更\n",
    "\n",
    "y = 4 * x**3 - 3 * x**2 + 2 * x - 1\n",
    "\n",
    "y += np.random.randn(100, 1)  # 標準正規分布（平均 0, 標準偏差 1）の乱数を加える\n",
    "\n",
    "# 学習データ 30 個\n",
    "x_train = x[:30]\n",
    "y_train = y[:30]\n",
    "\n",
    "# テストデータ 30 個\n",
    "x_test = x[30:]\n",
    "y_test = y[30:]"
   ]
  },
  {
   "cell_type": "code",
   "execution_count": 2,
   "metadata": {},
   "outputs": [],
   "source": [
    "X_TRAIN = np.c_[x_train**9, x_train**8, x_train**7, x_train**6, x_train**5,\n",
    "                x_train**4, x_train**3, x_train**2, x_train]"
   ]
  },
  {
   "cell_type": "code",
   "execution_count": 3,
   "metadata": {},
   "outputs": [
    {
     "data": {
      "text/plain": [
       "array([[-1.41636320e-04,  3.79159461e-04, -1.01500729e-03,\n",
       "         2.71716757e-03, -7.27383903e-03,  1.94720174e-02,\n",
       "        -5.21264575e-02,  1.39542171e-01, -3.73553437e-01],\n",
       "       [ 4.87286294e-03,  8.80434522e-03,  1.59077930e-02,\n",
       "         2.87423847e-02,  5.19320736e-02,  9.38314724e-02,\n",
       "         1.69535792e-01,  3.06319233e-01,  5.53461139e-01],\n",
       "       [-2.22432306e-05,  7.31435237e-05, -2.40521495e-04,\n",
       "         7.90918819e-04, -2.60081777e-03,  8.55239871e-03,\n",
       "        -2.81232789e-02,  9.24791799e-02, -3.04103897e-01],\n",
       "       [ 2.95564564e-02,  4.37099066e-02,  6.46408999e-02,\n",
       "         9.55949409e-02,  1.41371682e-01,  2.09069143e-01,\n",
       "         3.09184315e-01,  4.57240793e-01,  6.76195825e-01],\n",
       "       [ 7.70026409e-11,  1.02382851e-09,  1.36128424e-08,\n",
       "         1.80996599e-07,  2.40653405e-06,  3.19973203e-05,\n",
       "         4.25436950e-04,  5.65661739e-03,  7.52104872e-02],\n",
       "       [ 4.08599004e-04,  9.72343747e-04,  2.31388807e-03,\n",
       "         5.50636339e-03,  1.31035024e-02,  3.11824269e-02,\n",
       "         7.42048745e-02,  1.76585466e-01,  4.20220735e-01],\n",
       "       [-2.28708849e-01,  2.69447246e-01, -3.17442105e-01,\n",
       "         3.73985972e-01, -4.40601624e-01,  5.19083082e-01,\n",
       "        -6.11543925e-01,  7.20474206e-01, -8.48807520e-01],\n",
       "       [-8.89215055e-08,  5.40070549e-07, -3.28015362e-06,\n",
       "         1.99222264e-05, -1.20998938e-04,  7.34894924e-04,\n",
       "        -4.46343213e-03,  2.71089455e-02, -1.64647944e-01],\n",
       "       [ 2.70765598e-12,  5.22228868e-11,  1.00722910e-09,\n",
       "         1.94265489e-08,  3.74682187e-07,  7.22654044e-06,\n",
       "         1.39379155e-04,  2.68822254e-03,  5.18480717e-02],\n",
       "       [-4.66516874e-02,  6.55799353e-02, -9.21880462e-02,\n",
       "         1.29592014e-01, -1.82172100e-01,  2.56085797e-01,\n",
       "        -3.59988907e-01,  5.06049204e-01, -7.11371354e-01],\n",
       "       [-2.72080109e-03,  5.24481873e-03, -1.01103030e-02,\n",
       "         1.94893728e-02, -3.75691658e-02,  7.24211208e-02,\n",
       "        -1.39604344e-01,  2.69111725e-01, -5.18759795e-01],\n",
       "       [-4.28293445e-03,  7.85020990e-03, -1.43886852e-02,\n",
       "         2.63730861e-02, -4.83393486e-02,  8.86014103e-02,\n",
       "        -1.62397925e-01,  2.97659890e-01, -5.45582157e-01],\n",
       "       [ 2.26316737e-03,  4.45283952e-03,  8.76107529e-03,\n",
       "         1.72376390e-02,  3.39154944e-02,  6.67296000e-02,\n",
       "         1.31292190e-01,  2.58320731e-01,  5.08252625e-01],\n",
       "       [ 7.58703820e-02,  1.01043571e-01,  1.34569023e-01,\n",
       "         1.79217953e-01,  2.38681044e-01,  3.17873514e-01,\n",
       "         4.23341415e-01,  5.63802726e-01,  7.50867982e-01],\n",
       "       [-2.59542137e-06,  1.08355621e-05, -4.52371269e-05,\n",
       "         1.88859391e-04, -7.88464516e-04,  3.29174150e-03,\n",
       "        -1.37426122e-02,  5.73737004e-02, -2.39528079e-01],\n",
       "       [-1.13492962e-01,  1.44534785e-01, -1.84066957e-01,\n",
       "         2.34411701e-01, -2.98526396e-01,  3.80177308e-01,\n",
       "        -4.84160821e-01,  6.16585199e-01, -7.85229393e-01],\n",
       "       [ 3.40414909e-12,  6.40073493e-11,  1.20351390e-09,\n",
       "         2.26293657e-08,  4.25494207e-07,  8.00045932e-06,\n",
       "         1.50430601e-04,  2.82850832e-03,  5.31837223e-02],\n",
       "       [-2.46016086e-05,  7.99979154e-05, -2.60132034e-04,\n",
       "         8.45880479e-04, -2.75057929e-03,  8.94415538e-03,\n",
       "        -2.90840245e-02,  9.45735448e-02, -3.07528120e-01],\n",
       "       [-4.78456909e-06,  1.86625681e-05, -7.27947366e-05,\n",
       "         2.83941292e-04, -1.10753415e-03,  4.32001945e-03,\n",
       "        -1.68505576e-02,  6.57268549e-02, -2.56372492e-01],\n",
       "       [ 4.90359624e-02,  6.85508856e-02,  9.58321951e-02,\n",
       "         1.33970692e-01,  1.87287231e-01,  2.61822240e-01,\n",
       "         3.66020071e-01,  5.11685685e-01,  7.15322085e-01],\n",
       "       [-2.12358301e-03,  4.20786257e-03, -8.33784571e-03,\n",
       "         1.65213739e-02, -3.27369690e-02,  6.48680397e-02,\n",
       "        -1.28535497e-01,  2.54692049e-01, -5.04670238e-01],\n",
       "       [ 2.50998276e-09,  2.26601551e-08,  2.04576158e-07,\n",
       "         1.84691606e-06,  1.66739809e-05,  1.50532904e-04,\n",
       "         1.35901290e-03,  1.22691851e-02,  1.10766354e-01],\n",
       "       [-2.33065768e-07,  1.27181905e-06, -6.94020278e-06,\n",
       "         3.78720657e-05, -2.06664475e-04,  1.12774955e-03,\n",
       "        -6.15402841e-03,  3.35819825e-02, -1.83253875e-01],\n",
       "       [ 2.07159944e-02,  3.18700629e-02,  4.90297925e-02,\n",
       "         7.54287985e-02,  1.16041765e-01,  1.78521883e-01,\n",
       "         2.74643038e-01,  4.22518501e-01,  6.50014231e-01],\n",
       "       [ 8.77966457e-06,  3.20120665e-05,  1.16721133e-04,\n",
       "         4.25583991e-04,  1.55174755e-03,  5.65792068e-03,\n",
       "         2.06296871e-02,  7.52191510e-02,  2.74261100e-01],\n",
       "       [-1.12807002e-04,  3.09717244e-04, -8.50344119e-04,\n",
       "         2.33466213e-03, -6.40993117e-03,  1.75987853e-02,\n",
       "        -4.83183416e-02,  1.32660413e-01, -3.64225773e-01],\n",
       "       [-5.80893346e-05,  1.71692908e-04, -5.07467592e-04,\n",
       "         1.49990678e-03, -4.43322959e-03,  1.31031641e-02,\n",
       "        -3.87286300e-02,  1.14469053e-01, -3.38332755e-01],\n",
       "       [-5.17480744e-03,  9.28765234e-03, -1.66693132e-02,\n",
       "         2.99177868e-02, -5.36959115e-02,  9.63724667e-02,\n",
       "        -1.72967589e-01,  3.10439151e-01, -5.57170666e-01],\n",
       "       [-9.97300590e-07,  4.63044978e-06, -2.14991001e-05,\n",
       "         9.98199583e-05, -4.63462379e-04,  2.15184799e-03,\n",
       "        -9.99099386e-03,  4.63880156e-02, -2.15378772e-01],\n",
       "       [-1.08730589e-03,  2.32084423e-03, -4.95382024e-03,\n",
       "         1.05738828e-02, -2.25698538e-02,  4.81751412e-02,\n",
       "        -1.02829387e-01,  2.19488362e-01, -4.68495851e-01]])"
      ]
     },
     "execution_count": 3,
     "metadata": {},
     "output_type": "execute_result"
    }
   ],
   "source": [
    "X_TRAIN"
   ]
  },
  {
   "cell_type": "code",
   "execution_count": 8,
   "metadata": {},
   "outputs": [
    {
     "name": "stdout",
     "output_type": "stream",
     "text": [
      "係数（学習データ） [[-4.83083417e+02 -9.65448194e+01  6.66058292e+02  8.14640688e+01\n",
      "  -3.09355784e+02 -2.41266675e+01  5.77050080e+01  2.34002805e+00\n",
      "  -3.55524051e-02]]\n",
      "切片（学習データ） [-1.51388919]\n",
      "決定係数（学習データ） 0.9392835266932017\n",
      "決定係数（テストデータ） -8.229908565369328\n"
     ]
    },
    {
     "data": {
      "image/png": "[encoded data removed]",
      "text/plain": [
       "<Figure size 432x288 with 3 Axes>"
      ]
     },
     "metadata": {
      "needs_background": "light"
     },
     "output_type": "display_data"
    }
   ],
   "source": [
    "model = linear_model.LinearRegression()\n",
    "model.fit(X_TRAIN, y_train)\n",
    "\n",
    "\n",
    "### 係数、切片、学習データによる決定係数を表示\n",
    "\n",
    "print('係数（学習データ）', model.coef_)\n",
    "print('切片（学習データ）', model.intercept_)\n",
    "\n",
    "print('決定係数（学習データ）', model.score(X_TRAIN, y_train))\n",
    "\n",
    "\n",
    "### テストデータによる決定係数を表示\n",
    "\n",
    "X_TEST = np.c_[x_test**9, x_test**8, x_test**7, x_test**6, x_test**5,\n",
    "               x_test**4, x_test**3, x_test**2, x_test]\n",
    "\n",
    "print('決定係数（テストデータ）', model.score(X_TEST, y_test))\n",
    "\n",
    "\n",
    "### グラフ表示\n",
    "\n",
    "plt.subplot(2, 2, 1)\n",
    "plt.scatter(x, y, marker='+')\n",
    "plt.title('all')\n",
    "\n",
    "plt.subplot(2, 2, 2)\n",
    "plt.scatter(x_train, y_train, marker='+')\n",
    "plt.scatter(x_train, model.predict(X_TRAIN), marker='o')\n",
    "plt.title('train')\n",
    "\n",
    "plt.subplot(2, 2, 3)\n",
    "plt.scatter(x_test, y_test, marker='+')\n",
    "plt.scatter(x_test, model.predict(X_TEST), marker='o')\n",
    "plt.title('test')\n",
    "\n",
    "plt.tight_layout()"
   ]
  },
  {
   "cell_type": "code",
   "execution_count": null,
   "metadata": {},
   "outputs": [],
   "source": []
  }
 ],
 "metadata": {
  "kernelspec": {
   "display_name": "Python 3",
   "language": "python",
   "name": "python3"
  },
  "language_info": {
   "codemirror_mode": {
    "name": "ipython",
    "version": 3
   },
   "file_extension": ".py",
   "mimetype": "text/x-python",
   "name": "python",
   "nbconvert_exporter": "python",
   "pygments_lexer": "ipython3",
   "version": "3.7.3"
  }
 },
 "nbformat": 4,
 "nbformat_minor": 2
}
