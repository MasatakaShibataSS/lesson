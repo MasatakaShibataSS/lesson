{
 "cells": [
  {
   "cell_type": "code",
   "execution_count": 2,
   "metadata": {},
   "outputs": [
    {
     "name": "stdout",
     "output_type": "stream",
     "text": [
      "係数（学習データ） [[ 0.71348218 -0.37272134  0.92866566 -0.42454491  1.21537768 -0.58282159\n",
      "   1.58041044 -1.25357407  2.34327882]]\n",
      "切片（学習データ） [-1.14927567]\n",
      "決定係数（学習データ） 0.8782890883883773\n",
      "決定係数（テストデータ） 0.8138634907663552\n"
     ]
    },
    {
     "data": {
      "image/png": "[encoded data removed]",
      "text/plain": [
       "<Figure size 432x288 with 3 Axes>"
      ]
     },
     "metadata": {
      "needs_background": "light"
     },
     "output_type": "display_data"
    }
   ],
   "source": [
    "# -*- coding: utf-8 -*-\n",
    "\n",
    "import matplotlib.pyplot as plt\n",
    "import numpy as np\n",
    "\n",
    "\n",
    "### バラつきのある y = 4x^3 - 3x^2 + 2x - 1 のデータを作成\n",
    "\n",
    "x = np.random.rand(100, 1)  # 0 〜 1 までの乱数を 100 個つくる\n",
    "x = x * 2 - 1               # 値の範囲を -2 〜 2 に変更\n",
    "\n",
    "y = 4 * x**3 - 3 * x**2 + 2 * x - 1\n",
    "\n",
    "y += np.random.randn(100, 1)  # 標準正規分布（平均 0, 標準偏差 1）の乱数を加える\n",
    "\n",
    "# 学習データ 30 個\n",
    "x_train = x[:30]\n",
    "y_train = y[:30]\n",
    "\n",
    "# テストデータ 30 個\n",
    "x_test = x[30:]\n",
    "y_test = y[30:]\n",
    "\n",
    "\n",
    "### Ridge で 9 次式として回帰をとってみる\n",
    "\n",
    "from sklearn import linear_model\n",
    "\n",
    "# 学習用の入力データ\n",
    "X_TRAIN = np.c_[x_train**9, x_train**8, x_train**7, x_train**6, x_train**5,\n",
    "                x_train**4, x_train**3, x_train**2, x_train]\n",
    "\n",
    "model = linear_model.Ridge()\n",
    "model.fit(X_TRAIN, y_train)\n",
    "\n",
    "\n",
    "### 係数、切片、学習データによる決定係数を表示\n",
    "\n",
    "print('係数（学習データ）', model.coef_)\n",
    "print('切片（学習データ）', model.intercept_)\n",
    "\n",
    "print('決定係数（学習データ）', model.score(X_TRAIN, y_train))\n",
    "\n",
    "\n",
    "### テストデータによる決定係数を表示\n",
    "\n",
    "X_TEST = np.c_[x_test**9, x_test**8, x_test**7, x_test**6, x_test**5,\n",
    "               x_test**4, x_test**3, x_test**2, x_test]\n",
    "\n",
    "print('決定係数（テストデータ）', model.score(X_TEST, y_test))\n",
    "\n",
    "\n",
    "### グラフ表示\n",
    "\n",
    "plt.subplot(2, 2, 1)\n",
    "plt.scatter(x, y, marker='+')\n",
    "plt.title('all')\n",
    "\n",
    "plt.subplot(2, 2, 2)\n",
    "plt.scatter(x_train, y_train, marker='+')\n",
    "plt.scatter(x_train, model.predict(X_TRAIN), marker='o')\n",
    "plt.title('train')\n",
    "\n",
    "plt.subplot(2, 2, 3)\n",
    "plt.scatter(x_test, y_test, marker='+')\n",
    "plt.scatter(x_test, model.predict(X_TEST), marker='o')\n",
    "plt.title('test')\n",
    "\n",
    "plt.tight_layout()"
   ]
  },
  {
   "cell_type": "code",
   "execution_count": null,
   "metadata": {},
   "outputs": [],
   "source": []
  }
 ],
 "metadata": {
  "kernelspec": {
   "display_name": "Python 3",
   "language": "python",
   "name": "python3"
  },
  "language_info": {
   "codemirror_mode": {
    "name": "ipython",
    "version": 3
   },
   "file_extension": ".py",
   "mimetype": "text/x-python",
   "name": "python",
   "nbconvert_exporter": "python",
   "pygments_lexer": "ipython3",
   "version": "3.7.3"
  }
 },
 "nbformat": 4,
 "nbformat_minor": 2
}
