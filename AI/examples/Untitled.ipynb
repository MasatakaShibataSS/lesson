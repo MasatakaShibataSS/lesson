{
 "cells": [
  {
   "cell_type": "code",
   "execution_count": 1,
   "metadata": {},
   "outputs": [
    {
     "name": "stdout",
     "output_type": "stream",
     "text": [
      "paths_for_test: ['./data/m01']\n",
      "paths_for_train: ['./data/m02', './data/m03', './data/m04', './data/m05', './data/m06', './data/m07', './data/m08', './data/m09', './data/m10', './data/m11', './data/m12', './data/m13', './data/m14', './data/m15', './data/m16']\n"
     ]
    },
    {
     "ename": "NameError",
     "evalue": "name 'load_handimage' is not defined",
     "output_type": "error",
     "traceback": [
      "\u001b[0;31m---------------------------------------------------------------------------\u001b[0m",
      "\u001b[0;31mNameError\u001b[0m                                 Traceback (most recent call last)",
      "\u001b[0;32m<ipython-input-1-03d35888533d>\u001b[0m in \u001b[0;36m<module>\u001b[0;34m\u001b[0m\n\u001b[1;32m     34\u001b[0m         \u001b[0;32mfor\u001b[0m \u001b[0mi\u001b[0m \u001b[0;32min\u001b[0m \u001b[0mrange\u001b[0m\u001b[0;34m(\u001b[0m\u001b[0mlen\u001b[0m\u001b[0;34m(\u001b[0m\u001b[0mpaths_for_train\u001b[0m\u001b[0;34m)\u001b[0m\u001b[0;34m)\u001b[0m\u001b[0;34m:\u001b[0m\u001b[0;34m\u001b[0m\u001b[0;34m\u001b[0m\u001b[0m\n\u001b[1;32m     35\u001b[0m             \u001b[0mpath\u001b[0m \u001b[0;34m=\u001b[0m \u001b[0mpaths_for_train\u001b[0m\u001b[0;34m[\u001b[0m\u001b[0mi\u001b[0m\u001b[0;34m]\u001b[0m\u001b[0;34m\u001b[0m\u001b[0;34m\u001b[0m\u001b[0m\n\u001b[0;32m---> 36\u001b[0;31m             \u001b[0md\u001b[0m \u001b[0;34m=\u001b[0m \u001b[0mload_handimage\u001b[0m\u001b[0;34m(\u001b[0m\u001b[0mpath\u001b[0m\u001b[0;34m)\u001b[0m\u001b[0;34m\u001b[0m\u001b[0;34m\u001b[0m\u001b[0m\n\u001b[0m\u001b[1;32m     37\u001b[0m             \u001b[0mdata\u001b[0m\u001b[0;34m.\u001b[0m\u001b[0mappend\u001b[0m\u001b[0;34m(\u001b[0m\u001b[0md\u001b[0m\u001b[0;34m.\u001b[0m\u001b[0mdata\u001b[0m\u001b[0;34m)\u001b[0m\u001b[0;34m\u001b[0m\u001b[0;34m\u001b[0m\u001b[0m\n\u001b[1;32m     38\u001b[0m             \u001b[0mlabel\u001b[0m\u001b[0;34m.\u001b[0m\u001b[0mappend\u001b[0m\u001b[0;34m(\u001b[0m\u001b[0md\u001b[0m\u001b[0;34m.\u001b[0m\u001b[0mtarget\u001b[0m\u001b[0;34m)\u001b[0m\u001b[0;34m\u001b[0m\u001b[0;34m\u001b[0m\u001b[0m\n",
      "\u001b[0;31mNameError\u001b[0m: name 'load_handimage' is not defined"
     ]
    }
   ],
   "source": [
    "#####################################\n",
    "from sklearn import svm, metrics\n",
    "#from sklearn.metrics import confusion_matrix\n",
    " \n",
    "## usage:\n",
    "##    python classify_handsign_1.py <n> <dir_1> <dir_2> ... <dir_m>\n",
    "##      n          テスト用データディレクトリ数\n",
    "##      dir_1      データディレクトリ1\n",
    "##      dir_m      データディレクトリm\n",
    " \n",
    "if __name__ == '__main__':\n",
    "    #argvs = sys.argv\n",
    "    \n",
    "    # 評価用ディレクトリ数の取得\n",
    "    #paths_for_test = argvs[2:2+int(argvs[1])]\n",
    "    #paths_for_train = argvs[2+int(argvs[1]):]\n",
    "    #datalist = [\"./data/m01\", \"./data/m02\", \"./data/m03\", \"./data/m04\"]\n",
    "    datalist = [\"./data/m01\", \"./data/m02\", \"./data/m03\", \"./data/m04\", \"./data/m05\", \n",
    "                    \"./data/m06\", \"./data/m07\", \"./data/m08\", \"./data/m09\", \"./data/m10\", \n",
    "                    \"./data/m11\", \"./data/m12\", \"./data/m13\", \"./data/m14\", \"./data/m15\", \n",
    "                    \"./data/m16\"]\n",
    " \n",
    "    lst=[]\n",
    "    for paths_ in datalist:\n",
    "        lst.append( [d for d in datalist if d != paths_])\n",
    " \n",
    "    for num, paths_for_train in enumerate(lst):\n",
    "        paths_for_test = [datalist[num]]\n",
    "        print(\"paths_for_test:\",paths_for_test)\n",
    "        print(\"paths_for_train:\",paths_for_train)\n",
    "        # 学習データの読み込み\n",
    "        data = []\n",
    "        label = []\n",
    "        for i in range(len(paths_for_train)):\n",
    "            path = paths_for_train[i]\n",
    "            d = load_handimage(path)\n",
    "            data.append(d.data)\n",
    "            label.append(d.target)\n",
    "        train_data = np.concatenate(data)\n",
    "        train_label = np.concatenate(label)\n",
    " \n",
    "        # 手法:線形SVM\n",
    "        classifier = svm.LinearSVC()\n",
    " \n",
    "        # 学習\n",
    "        classifier.fit(train_data, train_label)\n",
    " \n",
    "        for path in paths_for_test:\n",
    "            # テストデータの読み込み\n",
    "            d = load_handimage(path)\n",
    " \n",
    "            # テスト\n",
    "            predicted = classifier.predict(d.data)\n",
    " \n",
    "            # 結果表示\n",
    "            print(\"### %s ###\" % path)\n",
    "            print(\"Accuracy:\\n%s\"\n",
    "                % metrics.accuracy_score(d.target, predicted))\n",
    " \n",
    " "
   ]
  },
  {
   "cell_type": "code",
   "execution_count": null,
   "metadata": {},
   "outputs": [],
   "source": []
  }
 ],
 "metadata": {
  "kernelspec": {
   "display_name": "Python 3",
   "language": "python",
   "name": "python3"
  },
  "language_info": {
   "codemirror_mode": {
    "name": "ipython",
    "version": 3
   },
   "file_extension": ".py",
   "mimetype": "text/x-python",
   "name": "python",
   "nbconvert_exporter": "python",
   "pygments_lexer": "ipython3",
   "version": "3.7.3"
  }
 },
 "nbformat": 4,
 "nbformat_minor": 2
}
