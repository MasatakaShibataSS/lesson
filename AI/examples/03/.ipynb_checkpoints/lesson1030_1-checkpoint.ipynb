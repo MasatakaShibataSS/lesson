{
 "cells": [
  {
   "cell_type": "code",
   "execution_count": 1,
   "metadata": {},
   "outputs": [
    {
     "data": {
      "image/png": "[encoded data removed]",
      "text/plain": [
       "<Figure size 432x288 with 10 Axes>"
      ]
     },
     "metadata": {
      "needs_background": "light"
     },
     "output_type": "display_data"
    },
    {
     "name": "stdout",
     "output_type": "stream",
     "text": [
      "Accuracy:\n",
      " 0.8601398601398601\n",
      "Confusion matrix:\n",
      " [[60 15]\n",
      " [ 5 63]]\n",
      "Precision:\n",
      " 0.9230769230769231\n",
      "Recall:\n",
      " 0.8\n",
      "F-measure:\n",
      " 0.8571428571428571\n"
     ]
    }
   ],
   "source": [
    "# -*- coding: utf-8 -*-\n",
    "\n",
    "import matplotlib.pyplot as plt\n",
    "from sklearn import datasets\n",
    "from sklearn import tree\n",
    "from sklearn.metrics import accuracy_score, confusion_matrix\n",
    "from sklearn.metrics import precision_score, recall_score, f1_score\n",
    "%matplotlib inline\n",
    "# 手書き数字データの読み込み\n",
    "digits = datasets.load_digits()\n",
    "\n",
    "# 画像を 2 行 5 列に表示\n",
    "for label, img in zip(digits.target[:10], digits.images[:10]):\n",
    "    plt.subplot(2, 5, label + 1)\n",
    "    plt.axis('off')\n",
    "    plt.imshow(img, cmap=plt.cm.gray_r, interpolation='nearest')\n",
    "    plt.title('Digit: {0}'.format(label))\n",
    "plt.show()\n",
    "\n",
    "# 3 と 8 のデータ位置を求める\n",
    "flag_3_8 = (digits.target == 3) + (digits.target == 8)\n",
    "\n",
    "# 3 と 8 のデータを取得\n",
    "images = digits.images[flag_3_8]\n",
    "labels = digits.target[flag_3_8]\n",
    "\n",
    "# 3 と 8 の画像データを 1 次元化\n",
    "images = images.reshape(images.shape[0], -1)\n",
    "\n",
    "# 分類器の生成\n",
    "n_samples = len(flag_3_8[flag_3_8])\n",
    "train_size = int(n_samples * 3 / 5)\n",
    "classifier = tree.DecisionTreeClassifier()\n",
    "classifier.fit(images[:train_size], labels[:train_size])\n",
    "\n",
    "# 分類器の性能の確認\n",
    "expected = labels[train_size:]\n",
    "predicted = classifier.predict(images[train_size:])\n",
    "\n",
    "print('Accuracy:\\n',\n",
    "      accuracy_score(expected, predicted))\n",
    "print('Confusion matrix:\\n',\n",
    "      confusion_matrix(expected, predicted))\n",
    "print('Precision:\\n',\n",
    "      precision_score(expected, predicted, pos_label=3))\n",
    "print('Recall:\\n',\n",
    "      recall_score(expected, predicted, pos_label=3))\n",
    "print('F-measure:\\n',\n",
    "      f1_score(expected, predicted, pos_label=3))\n"
   ]
  },
  {
   "cell_type": "code",
   "execution_count": 2,
   "metadata": {},
   "outputs": [
    {
     "data": {
      "text/plain": [
       "array([0, 1, 2, 3, 4, 5, 6, 7, 8, 9])"
      ]
     },
     "execution_count": 2,
     "metadata": {},
     "output_type": "execute_result"
    }
   ],
   "source": [
    "digits.target[:10]"
   ]
  },
  {
   "cell_type": "code",
   "execution_count": 3,
   "metadata": {},
   "outputs": [
    {
     "data": {
      "text/plain": [
       "array([[[ 0.,  0.,  5., 13.,  9.,  1.,  0.,  0.],\n",
       "        [ 0.,  0., 13., 15., 10., 15.,  5.,  0.],\n",
       "        [ 0.,  3., 15.,  2.,  0., 11.,  8.,  0.],\n",
       "        [ 0.,  4., 12.,  0.,  0.,  8.,  8.,  0.],\n",
       "        [ 0.,  5.,  8.,  0.,  0.,  9.,  8.,  0.],\n",
       "        [ 0.,  4., 11.,  0.,  1., 12.,  7.,  0.],\n",
       "        [ 0.,  2., 14.,  5., 10., 12.,  0.,  0.],\n",
       "        [ 0.,  0.,  6., 13., 10.,  0.,  0.,  0.]],\n",
       "\n",
       "       [[ 0.,  0.,  0., 12., 13.,  5.,  0.,  0.],\n",
       "        [ 0.,  0.,  0., 11., 16.,  9.,  0.,  0.],\n",
       "        [ 0.,  0.,  3., 15., 16.,  6.,  0.,  0.],\n",
       "        [ 0.,  7., 15., 16., 16.,  2.,  0.,  0.],\n",
       "        [ 0.,  0.,  1., 16., 16.,  3.,  0.,  0.],\n",
       "        [ 0.,  0.,  1., 16., 16.,  6.,  0.,  0.],\n",
       "        [ 0.,  0.,  1., 16., 16.,  6.,  0.,  0.],\n",
       "        [ 0.,  0.,  0., 11., 16., 10.,  0.,  0.]],\n",
       "\n",
       "       [[ 0.,  0.,  0.,  4., 15., 12.,  0.,  0.],\n",
       "        [ 0.,  0.,  3., 16., 15., 14.,  0.,  0.],\n",
       "        [ 0.,  0.,  8., 13.,  8., 16.,  0.,  0.],\n",
       "        [ 0.,  0.,  1.,  6., 15., 11.,  0.,  0.],\n",
       "        [ 0.,  1.,  8., 13., 15.,  1.,  0.,  0.],\n",
       "        [ 0.,  9., 16., 16.,  5.,  0.,  0.,  0.],\n",
       "        [ 0.,  3., 13., 16., 16., 11.,  5.,  0.],\n",
       "        [ 0.,  0.,  0.,  3., 11., 16.,  9.,  0.]],\n",
       "\n",
       "       [[ 0.,  0.,  7., 15., 13.,  1.,  0.,  0.],\n",
       "        [ 0.,  8., 13.,  6., 15.,  4.,  0.,  0.],\n",
       "        [ 0.,  2.,  1., 13., 13.,  0.,  0.,  0.],\n",
       "        [ 0.,  0.,  2., 15., 11.,  1.,  0.,  0.],\n",
       "        [ 0.,  0.,  0.,  1., 12., 12.,  1.,  0.],\n",
       "        [ 0.,  0.,  0.,  0.,  1., 10.,  8.,  0.],\n",
       "        [ 0.,  0.,  8.,  4.,  5., 14.,  9.,  0.],\n",
       "        [ 0.,  0.,  7., 13., 13.,  9.,  0.,  0.]],\n",
       "\n",
       "       [[ 0.,  0.,  0.,  1., 11.,  0.,  0.,  0.],\n",
       "        [ 0.,  0.,  0.,  7.,  8.,  0.,  0.,  0.],\n",
       "        [ 0.,  0.,  1., 13.,  6.,  2.,  2.,  0.],\n",
       "        [ 0.,  0.,  7., 15.,  0.,  9.,  8.,  0.],\n",
       "        [ 0.,  5., 16., 10.,  0., 16.,  6.,  0.],\n",
       "        [ 0.,  4., 15., 16., 13., 16.,  1.,  0.],\n",
       "        [ 0.,  0.,  0.,  3., 15., 10.,  0.,  0.],\n",
       "        [ 0.,  0.,  0.,  2., 16.,  4.,  0.,  0.]],\n",
       "\n",
       "       [[ 0.,  0., 12., 10.,  0.,  0.,  0.,  0.],\n",
       "        [ 0.,  0., 14., 16., 16., 14.,  0.,  0.],\n",
       "        [ 0.,  0., 13., 16., 15., 10.,  1.,  0.],\n",
       "        [ 0.,  0., 11., 16., 16.,  7.,  0.,  0.],\n",
       "        [ 0.,  0.,  0.,  4.,  7., 16.,  7.,  0.],\n",
       "        [ 0.,  0.,  0.,  0.,  4., 16.,  9.,  0.],\n",
       "        [ 0.,  0.,  5.,  4., 12., 16.,  4.,  0.],\n",
       "        [ 0.,  0.,  9., 16., 16., 10.,  0.,  0.]],\n",
       "\n",
       "       [[ 0.,  0.,  0., 12., 13.,  0.,  0.,  0.],\n",
       "        [ 0.,  0.,  5., 16.,  8.,  0.,  0.,  0.],\n",
       "        [ 0.,  0., 13., 16.,  3.,  0.,  0.,  0.],\n",
       "        [ 0.,  0., 14., 13.,  0.,  0.,  0.,  0.],\n",
       "        [ 0.,  0., 15., 12.,  7.,  2.,  0.,  0.],\n",
       "        [ 0.,  0., 13., 16., 13., 16.,  3.,  0.],\n",
       "        [ 0.,  0.,  7., 16., 11., 15.,  8.,  0.],\n",
       "        [ 0.,  0.,  1.,  9., 15., 11.,  3.,  0.]],\n",
       "\n",
       "       [[ 0.,  0.,  7.,  8., 13., 16., 15.,  1.],\n",
       "        [ 0.,  0.,  7.,  7.,  4., 11., 12.,  0.],\n",
       "        [ 0.,  0.,  0.,  0.,  8., 13.,  1.,  0.],\n",
       "        [ 0.,  4.,  8.,  8., 15., 15.,  6.,  0.],\n",
       "        [ 0.,  2., 11., 15., 15.,  4.,  0.,  0.],\n",
       "        [ 0.,  0.,  0., 16.,  5.,  0.,  0.,  0.],\n",
       "        [ 0.,  0.,  9., 15.,  1.,  0.,  0.,  0.],\n",
       "        [ 0.,  0., 13.,  5.,  0.,  0.,  0.,  0.]],\n",
       "\n",
       "       [[ 0.,  0.,  9., 14.,  8.,  1.,  0.,  0.],\n",
       "        [ 0.,  0., 12., 14., 14., 12.,  0.,  0.],\n",
       "        [ 0.,  0.,  9., 10.,  0., 15.,  4.,  0.],\n",
       "        [ 0.,  0.,  3., 16., 12., 14.,  2.,  0.],\n",
       "        [ 0.,  0.,  4., 16., 16.,  2.,  0.,  0.],\n",
       "        [ 0.,  3., 16.,  8., 10., 13.,  2.,  0.],\n",
       "        [ 0.,  1., 15.,  1.,  3., 16.,  8.,  0.],\n",
       "        [ 0.,  0., 11., 16., 15., 11.,  1.,  0.]],\n",
       "\n",
       "       [[ 0.,  0., 11., 12.,  0.,  0.,  0.,  0.],\n",
       "        [ 0.,  2., 16., 16., 16., 13.,  0.,  0.],\n",
       "        [ 0.,  3., 16., 12., 10., 14.,  0.,  0.],\n",
       "        [ 0.,  1., 16.,  1., 12., 15.,  0.,  0.],\n",
       "        [ 0.,  0., 13., 16.,  9., 15.,  2.,  0.],\n",
       "        [ 0.,  0.,  0.,  3.,  0.,  9., 11.,  0.],\n",
       "        [ 0.,  0.,  0.,  0.,  9., 15.,  4.,  0.],\n",
       "        [ 0.,  0.,  9., 12., 13.,  3.,  0.,  0.]]])"
      ]
     },
     "execution_count": 3,
     "metadata": {},
     "output_type": "execute_result"
    }
   ],
   "source": [
    "digits.images[:10]"
   ]
  },
  {
   "cell_type": "code",
   "execution_count": null,
   "metadata": {},
   "outputs": [],
   "source": []
  }
 ],
 "metadata": {
  "kernelspec": {
   "display_name": "Python 3",
   "language": "python",
   "name": "python3"
  },
  "language_info": {
   "codemirror_mode": {
    "name": "ipython",
    "version": 3
   },
   "file_extension": ".py",
   "mimetype": "text/x-python",
   "name": "python",
   "nbconvert_exporter": "python",
   "pygments_lexer": "ipython3",
   "version": "3.7.3"
  }
 },
 "nbformat": 4,
 "nbformat_minor": 2
}
