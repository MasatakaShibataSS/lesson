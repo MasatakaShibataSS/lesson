{
 "cells": [
  {
   "cell_type": "code",
   "execution_count": 3,
   "metadata": {},
   "outputs": [],
   "source": [
    "import os\n",
    "import sys\n",
    "import glob\n",
    "import numpy as np\n",
    "from skimage import io\n",
    "from sklearn import datasets\n",
    "\n",
    "IMAGE_SIZE = 40\n",
    "COLOR_BYTE = 3\n",
    "CATEGORY_NUM = 6\n",
    "\n",
    "## ラベル名(0～)を付けたディレクトリに分類されたイメージファイルを読み込む\n",
    "## 入力パスはラベル名の上位のディレクトリ\n",
    "def load_handimage(path):\n",
    "\n",
    "    # ファイル一覧を取得\n",
    "    files = glob.glob(os.path.join(path, '*/*.png'))\n",
    "\n",
    "    # イメージとラベル領域を確保\n",
    "    images = np.ndarray((len(files), IMAGE_SIZE, IMAGE_SIZE,\n",
    "                            COLOR_BYTE), dtype = np.uint8)\n",
    "    labels = np.ndarray(len(files), dtype=np.int)\n",
    "\n",
    "    # イメージとラベルを読み込み\n",
    "    for idx, file in enumerate(files):\n",
    "       # イメージ読み込み\n",
    "       image = io.imread(file)\n",
    "       images[idx] = image\n",
    "\n",
    "       # ディレクトリ名よりラベルを取得\n",
    "       label = os.path.split(os.path.dirname(file))[-1]\n",
    "       labels[idx] = int(label)\n",
    "\n",
    "    # scikit-learn の他のデータセットの形式に合わせる\n",
    "    flat_data = images.reshape((-1, IMAGE_SIZE * IMAGE_SIZE * COLOR_BYTE))\n",
    "    images = flat_data.view()\n",
    "    return datasets.base.Bunch(data=flat_data,\n",
    "                 target=labels.astype(np.int),\n",
    "                 target_names=np.arange(CATEGORY_NUM),\n",
    "                 images=images,\n",
    "                 DESCR=None)"
   ]
  },
  {
   "cell_type": "code",
   "execution_count": 4,
   "metadata": {},
   "outputs": [
    {
     "name": "stdout",
     "output_type": "stream",
     "text": [
      "paths_for_test: ['./data/m01']\n",
      "paths_for_train: ['./data/m02', './data/m03', './data/m04', './data/m05', './data/m06', './data/m07', './data/m08', './data/m09', './data/m10', './data/m11', './data/m12', './data/m13', './data/m14', './data/m15', './data/m16']\n"
     ]
    },
    {
     "name": "stderr",
     "output_type": "stream",
     "text": [
      "/Users/shiba-t/anaconda3/lib/python3.7/site-packages/sklearn/svm/base.py:929: ConvergenceWarning: Liblinear failed to converge, increase the number of iterations.\n",
      "  \"the number of iterations.\", ConvergenceWarning)\n"
     ]
    },
    {
     "name": "stdout",
     "output_type": "stream",
     "text": [
      "### ./data/m01 ###\n",
      "Accuracy:\n",
      "0.6883333333333334\n",
      "paths_for_test: ['./data/m02']\n",
      "paths_for_train: ['./data/m01', './data/m03', './data/m04', './data/m05', './data/m06', './data/m07', './data/m08', './data/m09', './data/m10', './data/m11', './data/m12', './data/m13', './data/m14', './data/m15', './data/m16']\n"
     ]
    },
    {
     "name": "stderr",
     "output_type": "stream",
     "text": [
      "/Users/shiba-t/anaconda3/lib/python3.7/site-packages/sklearn/svm/base.py:929: ConvergenceWarning: Liblinear failed to converge, increase the number of iterations.\n",
      "  \"the number of iterations.\", ConvergenceWarning)\n"
     ]
    },
    {
     "name": "stdout",
     "output_type": "stream",
     "text": [
      "### ./data/m02 ###\n",
      "Accuracy:\n",
      "0.69\n",
      "paths_for_test: ['./data/m03']\n",
      "paths_for_train: ['./data/m01', './data/m02', './data/m04', './data/m05', './data/m06', './data/m07', './data/m08', './data/m09', './data/m10', './data/m11', './data/m12', './data/m13', './data/m14', './data/m15', './data/m16']\n"
     ]
    },
    {
     "name": "stderr",
     "output_type": "stream",
     "text": [
      "/Users/shiba-t/anaconda3/lib/python3.7/site-packages/sklearn/svm/base.py:929: ConvergenceWarning: Liblinear failed to converge, increase the number of iterations.\n",
      "  \"the number of iterations.\", ConvergenceWarning)\n"
     ]
    },
    {
     "name": "stdout",
     "output_type": "stream",
     "text": [
      "### ./data/m03 ###\n",
      "Accuracy:\n",
      "0.725\n",
      "paths_for_test: ['./data/m04']\n",
      "paths_for_train: ['./data/m01', './data/m02', './data/m03', './data/m05', './data/m06', './data/m07', './data/m08', './data/m09', './data/m10', './data/m11', './data/m12', './data/m13', './data/m14', './data/m15', './data/m16']\n"
     ]
    },
    {
     "name": "stderr",
     "output_type": "stream",
     "text": [
      "/Users/shiba-t/anaconda3/lib/python3.7/site-packages/sklearn/svm/base.py:929: ConvergenceWarning: Liblinear failed to converge, increase the number of iterations.\n",
      "  \"the number of iterations.\", ConvergenceWarning)\n"
     ]
    },
    {
     "name": "stdout",
     "output_type": "stream",
     "text": [
      "### ./data/m04 ###\n",
      "Accuracy:\n",
      "0.35833333333333334\n",
      "paths_for_test: ['./data/m05']\n",
      "paths_for_train: ['./data/m01', './data/m02', './data/m03', './data/m04', './data/m06', './data/m07', './data/m08', './data/m09', './data/m10', './data/m11', './data/m12', './data/m13', './data/m14', './data/m15', './data/m16']\n"
     ]
    },
    {
     "name": "stderr",
     "output_type": "stream",
     "text": [
      "/Users/shiba-t/anaconda3/lib/python3.7/site-packages/sklearn/svm/base.py:929: ConvergenceWarning: Liblinear failed to converge, increase the number of iterations.\n",
      "  \"the number of iterations.\", ConvergenceWarning)\n"
     ]
    },
    {
     "name": "stdout",
     "output_type": "stream",
     "text": [
      "### ./data/m05 ###\n",
      "Accuracy:\n",
      "0.65\n",
      "paths_for_test: ['./data/m06']\n",
      "paths_for_train: ['./data/m01', './data/m02', './data/m03', './data/m04', './data/m05', './data/m07', './data/m08', './data/m09', './data/m10', './data/m11', './data/m12', './data/m13', './data/m14', './data/m15', './data/m16']\n"
     ]
    },
    {
     "name": "stderr",
     "output_type": "stream",
     "text": [
      "/Users/shiba-t/anaconda3/lib/python3.7/site-packages/sklearn/svm/base.py:929: ConvergenceWarning: Liblinear failed to converge, increase the number of iterations.\n",
      "  \"the number of iterations.\", ConvergenceWarning)\n"
     ]
    },
    {
     "name": "stdout",
     "output_type": "stream",
     "text": [
      "### ./data/m06 ###\n",
      "Accuracy:\n",
      "0.6783333333333333\n",
      "paths_for_test: ['./data/m07']\n",
      "paths_for_train: ['./data/m01', './data/m02', './data/m03', './data/m04', './data/m05', './data/m06', './data/m08', './data/m09', './data/m10', './data/m11', './data/m12', './data/m13', './data/m14', './data/m15', './data/m16']\n"
     ]
    },
    {
     "name": "stderr",
     "output_type": "stream",
     "text": [
      "/Users/shiba-t/anaconda3/lib/python3.7/site-packages/sklearn/svm/base.py:929: ConvergenceWarning: Liblinear failed to converge, increase the number of iterations.\n",
      "  \"the number of iterations.\", ConvergenceWarning)\n"
     ]
    },
    {
     "name": "stdout",
     "output_type": "stream",
     "text": [
      "### ./data/m07 ###\n",
      "Accuracy:\n",
      "0.6183333333333333\n",
      "paths_for_test: ['./data/m08']\n",
      "paths_for_train: ['./data/m01', './data/m02', './data/m03', './data/m04', './data/m05', './data/m06', './data/m07', './data/m09', './data/m10', './data/m11', './data/m12', './data/m13', './data/m14', './data/m15', './data/m16']\n"
     ]
    },
    {
     "name": "stderr",
     "output_type": "stream",
     "text": [
      "/Users/shiba-t/anaconda3/lib/python3.7/site-packages/sklearn/svm/base.py:929: ConvergenceWarning: Liblinear failed to converge, increase the number of iterations.\n",
      "  \"the number of iterations.\", ConvergenceWarning)\n"
     ]
    },
    {
     "name": "stdout",
     "output_type": "stream",
     "text": [
      "### ./data/m08 ###\n",
      "Accuracy:\n",
      "0.6716666666666666\n",
      "paths_for_test: ['./data/m09']\n",
      "paths_for_train: ['./data/m01', './data/m02', './data/m03', './data/m04', './data/m05', './data/m06', './data/m07', './data/m08', './data/m10', './data/m11', './data/m12', './data/m13', './data/m14', './data/m15', './data/m16']\n"
     ]
    },
    {
     "name": "stderr",
     "output_type": "stream",
     "text": [
      "/Users/shiba-t/anaconda3/lib/python3.7/site-packages/sklearn/svm/base.py:929: ConvergenceWarning: Liblinear failed to converge, increase the number of iterations.\n",
      "  \"the number of iterations.\", ConvergenceWarning)\n"
     ]
    },
    {
     "name": "stdout",
     "output_type": "stream",
     "text": [
      "### ./data/m09 ###\n",
      "Accuracy:\n",
      "0.5066666666666667\n",
      "paths_for_test: ['./data/m10']\n",
      "paths_for_train: ['./data/m01', './data/m02', './data/m03', './data/m04', './data/m05', './data/m06', './data/m07', './data/m08', './data/m09', './data/m11', './data/m12', './data/m13', './data/m14', './data/m15', './data/m16']\n"
     ]
    },
    {
     "name": "stderr",
     "output_type": "stream",
     "text": [
      "/Users/shiba-t/anaconda3/lib/python3.7/site-packages/sklearn/svm/base.py:929: ConvergenceWarning: Liblinear failed to converge, increase the number of iterations.\n",
      "  \"the number of iterations.\", ConvergenceWarning)\n"
     ]
    },
    {
     "name": "stdout",
     "output_type": "stream",
     "text": [
      "### ./data/m10 ###\n",
      "Accuracy:\n",
      "0.49666666666666665\n",
      "paths_for_test: ['./data/m11']\n",
      "paths_for_train: ['./data/m01', './data/m02', './data/m03', './data/m04', './data/m05', './data/m06', './data/m07', './data/m08', './data/m09', './data/m10', './data/m12', './data/m13', './data/m14', './data/m15', './data/m16']\n"
     ]
    },
    {
     "name": "stderr",
     "output_type": "stream",
     "text": [
      "/Users/shiba-t/anaconda3/lib/python3.7/site-packages/sklearn/svm/base.py:929: ConvergenceWarning: Liblinear failed to converge, increase the number of iterations.\n",
      "  \"the number of iterations.\", ConvergenceWarning)\n"
     ]
    },
    {
     "name": "stdout",
     "output_type": "stream",
     "text": [
      "### ./data/m11 ###\n",
      "Accuracy:\n",
      "0.56\n",
      "paths_for_test: ['./data/m12']\n",
      "paths_for_train: ['./data/m01', './data/m02', './data/m03', './data/m04', './data/m05', './data/m06', './data/m07', './data/m08', './data/m09', './data/m10', './data/m11', './data/m13', './data/m14', './data/m15', './data/m16']\n"
     ]
    },
    {
     "name": "stderr",
     "output_type": "stream",
     "text": [
      "/Users/shiba-t/anaconda3/lib/python3.7/site-packages/sklearn/svm/base.py:929: ConvergenceWarning: Liblinear failed to converge, increase the number of iterations.\n",
      "  \"the number of iterations.\", ConvergenceWarning)\n"
     ]
    },
    {
     "name": "stdout",
     "output_type": "stream",
     "text": [
      "### ./data/m12 ###\n",
      "Accuracy:\n",
      "0.6416666666666667\n",
      "paths_for_test: ['./data/m13']\n",
      "paths_for_train: ['./data/m01', './data/m02', './data/m03', './data/m04', './data/m05', './data/m06', './data/m07', './data/m08', './data/m09', './data/m10', './data/m11', './data/m12', './data/m14', './data/m15', './data/m16']\n"
     ]
    },
    {
     "name": "stderr",
     "output_type": "stream",
     "text": [
      "/Users/shiba-t/anaconda3/lib/python3.7/site-packages/sklearn/svm/base.py:929: ConvergenceWarning: Liblinear failed to converge, increase the number of iterations.\n",
      "  \"the number of iterations.\", ConvergenceWarning)\n"
     ]
    },
    {
     "name": "stdout",
     "output_type": "stream",
     "text": [
      "### ./data/m13 ###\n",
      "Accuracy:\n",
      "0.7033333333333334\n",
      "paths_for_test: ['./data/m14']\n",
      "paths_for_train: ['./data/m01', './data/m02', './data/m03', './data/m04', './data/m05', './data/m06', './data/m07', './data/m08', './data/m09', './data/m10', './data/m11', './data/m12', './data/m13', './data/m15', './data/m16']\n"
     ]
    },
    {
     "name": "stderr",
     "output_type": "stream",
     "text": [
      "/Users/shiba-t/anaconda3/lib/python3.7/site-packages/sklearn/svm/base.py:929: ConvergenceWarning: Liblinear failed to converge, increase the number of iterations.\n",
      "  \"the number of iterations.\", ConvergenceWarning)\n"
     ]
    },
    {
     "name": "stdout",
     "output_type": "stream",
     "text": [
      "### ./data/m14 ###\n",
      "Accuracy:\n",
      "0.655\n",
      "paths_for_test: ['./data/m15']\n",
      "paths_for_train: ['./data/m01', './data/m02', './data/m03', './data/m04', './data/m05', './data/m06', './data/m07', './data/m08', './data/m09', './data/m10', './data/m11', './data/m12', './data/m13', './data/m14', './data/m16']\n"
     ]
    },
    {
     "name": "stderr",
     "output_type": "stream",
     "text": [
      "/Users/shiba-t/anaconda3/lib/python3.7/site-packages/sklearn/svm/base.py:929: ConvergenceWarning: Liblinear failed to converge, increase the number of iterations.\n",
      "  \"the number of iterations.\", ConvergenceWarning)\n"
     ]
    },
    {
     "name": "stdout",
     "output_type": "stream",
     "text": [
      "### ./data/m15 ###\n",
      "Accuracy:\n",
      "0.6116666666666667\n",
      "paths_for_test: ['./data/m16']\n",
      "paths_for_train: ['./data/m01', './data/m02', './data/m03', './data/m04', './data/m05', './data/m06', './data/m07', './data/m08', './data/m09', './data/m10', './data/m11', './data/m12', './data/m13', './data/m14', './data/m15']\n"
     ]
    },
    {
     "name": "stderr",
     "output_type": "stream",
     "text": [
      "/Users/shiba-t/anaconda3/lib/python3.7/site-packages/sklearn/svm/base.py:929: ConvergenceWarning: Liblinear failed to converge, increase the number of iterations.\n",
      "  \"the number of iterations.\", ConvergenceWarning)\n"
     ]
    },
    {
     "name": "stdout",
     "output_type": "stream",
     "text": [
      "### ./data/m16 ###\n",
      "Accuracy:\n",
      "0.5733333333333334\n"
     ]
    }
   ],
   "source": [
    "#####################################\n",
    "from sklearn import svm, metrics\n",
    "#from sklearn.metrics import confusion_matrix\n",
    " \n",
    "## usage:\n",
    "##    python classify_handsign_1.py <n> <dir_1> <dir_2> ... <dir_m>\n",
    "##      n          テスト用データディレクトリ数\n",
    "##      dir_1      データディレクトリ1\n",
    "##      dir_m      データディレクトリm\n",
    " \n",
    "if __name__ == '__main__':\n",
    "    #argvs = sys.argv\n",
    "    \n",
    "    # 評価用ディレクトリ数の取得\n",
    "    #paths_for_test = argvs[2:2+int(argvs[1])]\n",
    "    #paths_for_train = argvs[2+int(argvs[1]):]\n",
    "    #datalist = [\"./data/m01\", \"./data/m02\", \"./data/m03\", \"./data/m04\"]\n",
    "    datalist = [\"./data/m01\", \"./data/m02\", \"./data/m03\", \"./data/m04\", \"./data/m05\", \n",
    "                    \"./data/m06\", \"./data/m07\", \"./data/m08\", \"./data/m09\", \"./data/m10\", \n",
    "                    \"./data/m11\", \"./data/m12\", \"./data/m13\", \"./data/m14\", \"./data/m15\", \n",
    "                    \"./data/m16\"]\n",
    " \n",
    "    lst=[]\n",
    "    for paths_ in datalist:\n",
    "        lst.append( [d for d in datalist if d != paths_])\n",
    " \n",
    "    for num, paths_for_train in enumerate(lst):\n",
    "        paths_for_test = [datalist[num]]\n",
    "        print(\"paths_for_test:\",paths_for_test)\n",
    "        print(\"paths_for_train:\",paths_for_train)\n",
    "        # 学習データの読み込み\n",
    "        data = []\n",
    "        label = []\n",
    "        for i in range(len(paths_for_train)):\n",
    "            path = paths_for_train[i]\n",
    "            d = load_handimage(path)\n",
    "            data.append(d.data)\n",
    "            label.append(d.target)\n",
    "        train_data = np.concatenate(data)\n",
    "        train_label = np.concatenate(label)\n",
    " \n",
    "        # 手法:線形SVM\n",
    "        classifier = svm.LinearSVC()\n",
    " \n",
    "        # 学習\n",
    "        classifier.fit(train_data, train_label)\n",
    " \n",
    "        for path in paths_for_test:\n",
    "            # テストデータの読み込み\n",
    "            d = load_handimage(path)\n",
    " \n",
    "            # テスト\n",
    "            predicted = classifier.predict(d.data)\n",
    " \n",
    "            # 結果表示\n",
    "            print(\"### %s ###\" % path)\n",
    "            print(\"Accuracy:\\n%s\"\n",
    "                % metrics.accuracy_score(d.target, predicted))\n",
    " \n",
    " "
   ]
  },
  {
   "cell_type": "code",
   "execution_count": 5,
   "metadata": {
    "scrolled": true
   },
   "outputs": [
    {
     "name": "stderr",
     "output_type": "stream",
     "text": [
      "/Users/shiba-t/anaconda3/lib/python3.7/site-packages/sklearn/svm/base.py:929: ConvergenceWarning: Liblinear failed to converge, increase the number of iterations.\n",
      "  \"the number of iterations.\", ConvergenceWarning)\n",
      "/Users/shiba-t/anaconda3/lib/python3.7/site-packages/sklearn/svm/base.py:929: ConvergenceWarning: Liblinear failed to converge, increase the number of iterations.\n",
      "  \"the number of iterations.\", ConvergenceWarning)\n",
      "/Users/shiba-t/anaconda3/lib/python3.7/site-packages/sklearn/svm/base.py:929: ConvergenceWarning: Liblinear failed to converge, increase the number of iterations.\n",
      "  \"the number of iterations.\", ConvergenceWarning)\n",
      "/Users/shiba-t/anaconda3/lib/python3.7/site-packages/sklearn/svm/base.py:929: ConvergenceWarning: Liblinear failed to converge, increase the number of iterations.\n",
      "  \"the number of iterations.\", ConvergenceWarning)\n",
      "/Users/shiba-t/anaconda3/lib/python3.7/site-packages/sklearn/svm/base.py:929: ConvergenceWarning: Liblinear failed to converge, increase the number of iterations.\n",
      "  \"the number of iterations.\", ConvergenceWarning)\n",
      "/Users/shiba-t/anaconda3/lib/python3.7/site-packages/sklearn/svm/base.py:929: ConvergenceWarning: Liblinear failed to converge, increase the number of iterations.\n",
      "  \"the number of iterations.\", ConvergenceWarning)\n",
      "/Users/shiba-t/anaconda3/lib/python3.7/site-packages/sklearn/svm/base.py:929: ConvergenceWarning: Liblinear failed to converge, increase the number of iterations.\n",
      "  \"the number of iterations.\", ConvergenceWarning)\n",
      "/Users/shiba-t/anaconda3/lib/python3.7/site-packages/sklearn/svm/base.py:929: ConvergenceWarning: Liblinear failed to converge, increase the number of iterations.\n",
      "  \"the number of iterations.\", ConvergenceWarning)\n",
      "/Users/shiba-t/anaconda3/lib/python3.7/site-packages/sklearn/svm/base.py:929: ConvergenceWarning: Liblinear failed to converge, increase the number of iterations.\n",
      "  \"the number of iterations.\", ConvergenceWarning)\n",
      "/Users/shiba-t/anaconda3/lib/python3.7/site-packages/sklearn/svm/base.py:929: ConvergenceWarning: Liblinear failed to converge, increase the number of iterations.\n",
      "  \"the number of iterations.\", ConvergenceWarning)\n",
      "/Users/shiba-t/anaconda3/lib/python3.7/site-packages/sklearn/svm/base.py:929: ConvergenceWarning: Liblinear failed to converge, increase the number of iterations.\n",
      "  \"the number of iterations.\", ConvergenceWarning)\n",
      "/Users/shiba-t/anaconda3/lib/python3.7/site-packages/sklearn/svm/base.py:929: ConvergenceWarning: Liblinear failed to converge, increase the number of iterations.\n",
      "  \"the number of iterations.\", ConvergenceWarning)\n",
      "/Users/shiba-t/anaconda3/lib/python3.7/site-packages/sklearn/svm/base.py:929: ConvergenceWarning: Liblinear failed to converge, increase the number of iterations.\n",
      "  \"the number of iterations.\", ConvergenceWarning)\n",
      "/Users/shiba-t/anaconda3/lib/python3.7/site-packages/sklearn/svm/base.py:929: ConvergenceWarning: Liblinear failed to converge, increase the number of iterations.\n",
      "  \"the number of iterations.\", ConvergenceWarning)\n",
      "/Users/shiba-t/anaconda3/lib/python3.7/site-packages/sklearn/svm/base.py:929: ConvergenceWarning: Liblinear failed to converge, increase the number of iterations.\n",
      "  \"the number of iterations.\", ConvergenceWarning)\n"
     ]
    },
    {
     "name": "stdout",
     "output_type": "stream",
     "text": [
      "[0.67666667 0.69333333 0.72166667 0.345      0.64666667 0.69333333\n",
      " 0.62166667 0.67       0.49833333 0.48833333 0.52166667 0.63\n",
      " 0.69833333 0.66166667 0.61       0.57      ]\n"
     ]
    },
    {
     "name": "stderr",
     "output_type": "stream",
     "text": [
      "/Users/shiba-t/anaconda3/lib/python3.7/site-packages/sklearn/svm/base.py:929: ConvergenceWarning: Liblinear failed to converge, increase the number of iterations.\n",
      "  \"the number of iterations.\", ConvergenceWarning)\n"
     ]
    }
   ],
   "source": [
    "import os\n",
    "import sys\n",
    "import glob\n",
    "import numpy as np\n",
    "from skimage import io\n",
    "from sklearn import datasets\n",
    " \n",
    "IMAGE_SIZE = 40\n",
    "COLOR_BYTE = 3\n",
    "CATEGORY_NUM = 6\n",
    " \n",
    "## ラベル名(0～)を付けたディレクトリに分類されたイメージファイルを読み込む\n",
    "## 入力パスはラベル名の上位のディレクトリ\n",
    "def load_handimage(path):\n",
    " \n",
    "    # ファイル一覧を取得\n",
    "    files = glob.glob(os.path.join(path, '*/*.png'))\n",
    " \n",
    "    # イメージとラベル領域を確保\n",
    "    images = np.ndarray((len(files), IMAGE_SIZE, IMAGE_SIZE,\n",
    "                            COLOR_BYTE), dtype = np.uint8)\n",
    "    labels = np.ndarray(len(files), dtype=np.int)\n",
    " \n",
    "    # イメージとラベルを読み込み\n",
    "    for idx, file in enumerate(files):\n",
    "       # イメージ読み込み\n",
    "       image = io.imread(file)\n",
    "       images[idx] = image\n",
    " \n",
    "       # ディレクトリ名よりラベルを取得\n",
    "       label = os.path.split(os.path.dirname(file))[-1]\n",
    "       labels[idx] = int(label)\n",
    " \n",
    "    # scikit-learn の他のデータセットの形式に合わせる\n",
    "    flat_data = images.reshape((-1, IMAGE_SIZE * IMAGE_SIZE * COLOR_BYTE))\n",
    "    images = flat_data.view()\n",
    "    return datasets.base.Bunch(data=flat_data,\n",
    "                 target=labels.astype(np.int),\n",
    "                 target_names=np.arange(CATEGORY_NUM),\n",
    "                 images=images,\n",
    "                 DESCR=None)\n",
    " \n",
    "#####################################\n",
    "from sklearn import svm, metrics\n",
    "from sklearn.model_selection import cross_val_score\n",
    " \n",
    "## usage:\n",
    "##    python classify_handsign_1.py <n> <dir_1> <dir_2> ... <dir_m>\n",
    "##      n          テスト用データディレクトリ数\n",
    "##      dir_1      データディレクトリ1\n",
    "##      dir_m      データディレクトリm\n",
    " \n",
    "if __name__ == '__main__':\n",
    "    argvs = sys.argv\n",
    "    \n",
    "    # 評価用ディレクトリ数の取得\n",
    "    #paths_for_test = argvs[2:2+int(argvs[1])]\n",
    "    #paths_for_train = argvs[2+int(argvs[1]):]\n",
    "    paths_for_train = [\"./data/m01\", \"./data/m02\", \"./data/m03\", \"./data/m04\", \"./data/m05\", \n",
    "                       \"./data/m06\", \"./data/m07\", \"./data/m08\", \"./data/m09\", \"./data/m10\",\n",
    "                       \"./data/m11\", \"./data/m12\", \"./data/m13\", \"./data/m14\", \"./data/m15\",\n",
    "                       \"./data/m16\"]   \n",
    " \n",
    "    # 学習データの読み込み\n",
    "    data = []\n",
    "    label = []\n",
    "    for i in range(len(paths_for_train)):\n",
    "        path = paths_for_train[i]\n",
    "        d = load_handimage(path)\n",
    "        data.append(d.data)\n",
    "        label.append(d.target)\n",
    "    train_data = np.concatenate(data)\n",
    "    train_label = np.concatenate(label)\n",
    "    \n",
    "    model = svm.LinearSVC()\n",
    " \n",
    "    score = cross_val_score(model, train_data, train_label,cv=16)\n",
    "    \n",
    "    print(score)"
   ]
  },
  {
   "cell_type": "code",
   "execution_count": 8,
   "metadata": {},
   "outputs": [
    {
     "name": "stdout",
     "output_type": "stream",
     "text": [
      "./data/m01:0.676667\n",
      "./data/m02:0.693333\n",
      "./data/m03:0.721667\n",
      "./data/m04:0.345000\n",
      "./data/m05:0.646667\n",
      "./data/m06:0.693333\n",
      "./data/m07:0.621667\n",
      "./data/m08:0.670000\n",
      "./data/m09:0.498333\n",
      "./data/m10:0.488333\n",
      "./data/m11:0.521667\n",
      "./data/m12:0.630000\n",
      "./data/m13:0.698333\n",
      "./data/m14:0.661667\n",
      "./data/m15:0.610000\n",
      "./data/m16:0.570000\n"
     ]
    }
   ],
   "source": [
    "for n, sc in enumerate (score):\n",
    "    print(\"./data/m{:02}:{:f}\".format(n+1,sc))"
   ]
  },
  {
   "cell_type": "code",
   "execution_count": null,
   "metadata": {},
   "outputs": [],
   "source": [
    "\n"
   ]
  },
  {
   "cell_type": "code",
   "execution_count": null,
   "metadata": {},
   "outputs": [],
   "source": []
  }
 ],
 "metadata": {
  "kernelspec": {
   "display_name": "Python 3",
   "language": "python",
   "name": "python3"
  },
  "language_info": {
   "codemirror_mode": {
    "name": "ipython",
    "version": 3
   },
   "file_extension": ".py",
   "mimetype": "text/x-python",
   "name": "python",
   "nbconvert_exporter": "python",
   "pygments_lexer": "ipython3",
   "version": "3.7.3"
  }
 },
 "nbformat": 4,
 "nbformat_minor": 2
}
